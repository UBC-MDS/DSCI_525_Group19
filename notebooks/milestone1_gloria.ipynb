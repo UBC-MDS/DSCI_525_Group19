{
 "cells": [
  {
   "cell_type": "markdown",
   "id": "6a2b4b57-9066-4f33-b196-af3b8b40bf6d",
   "metadata": {},
   "source": [
    "# Group 19: Milestone 1"
   ]
  },
  {
   "cell_type": "markdown",
   "id": "a846daa8-6b1f-49cb-ad51-d92f9a14b90e",
   "metadata": {},
   "source": [
    "## Library Imports"
   ]
  },
  {
   "cell_type": "code",
   "execution_count": 1,
   "id": "cfc9a9b2-239b-4d30-867e-ffd4ae37a735",
   "metadata": {},
   "outputs": [],
   "source": [
    "import re\n",
    "import os\n",
    "import glob\n",
    "import zipfile\n",
    "import requests\n",
    "from urllib.request import urlretrieve\n",
    "import json\n",
    "import pandas as pd\n",
    "import numpy as np"
   ]
  },
  {
   "cell_type": "code",
   "execution_count": 2,
   "id": "12881e16-7599-4d2e-9de1-67e60a01ff7a",
   "metadata": {},
   "outputs": [],
   "source": [
    "import pyarrow.dataset as ds\n",
    "import pyarrow as pa\n",
    "import pandas as pd\n",
    "import pyarrow \n",
    "from pyarrow import csv\n",
    "import rpy2_arrow.pyarrow_rarrow as pyra"
   ]
  },
  {
   "cell_type": "markdown",
   "id": "6a66525f-cf57-46f3-96ba-acfade5aab81",
   "metadata": {
    "tags": []
   },
   "source": [
    "## Load the combined data"
   ]
  },
  {
   "cell_type": "code",
   "execution_count": 3,
   "id": "ebddf6a7-39e8-429e-a30c-26c3d175fafd",
   "metadata": {},
   "outputs": [],
   "source": [
    "%load_ext memory_profiler"
   ]
  },
  {
   "cell_type": "code",
   "execution_count": 4,
   "id": "860d1cf8-e04d-44c4-8b9b-24e624a5846a",
   "metadata": {},
   "outputs": [
    {
     "name": "stdout",
     "output_type": "stream",
     "text": [
      "peak memory: 3329.23 MiB, increment: 3068.07 MiB\n",
      "CPU times: user 1min 21s, sys: 24.1 s, total: 1min 45s\n",
      "Wall time: 2min 23s\n"
     ]
    }
   ],
   "source": [
    "%%time\n",
    "%%memit\n",
    "# Default float64 dtypes\n",
    "df = pd.read_csv(\"figsharerainfall/combined_data.csv\", index_col=0, parse_dates=True)"
   ]
  },
  {
   "cell_type": "markdown",
   "id": "8cbcbaee-16fb-44fe-bcc5-81969b9d1aed",
   "metadata": {},
   "source": [
    "### Method 4: Load just columns what we want (for the following specific EDA)"
   ]
  },
  {
   "cell_type": "code",
   "execution_count": 5,
   "id": "7fc09984-3aaf-43fe-99c9-54651300825a",
   "metadata": {},
   "outputs": [
    {
     "name": "stdout",
     "output_type": "stream",
     "text": [
      "peak memory: 2596.45 MiB, increment: 2221.78 MiB\n",
      "CPU times: user 43.3 s, sys: 8.83 s, total: 52.1 s\n",
      "Wall time: 59.6 s\n"
     ]
    }
   ],
   "source": [
    "%%time\n",
    "%%memit\n",
    "use_cols = ['lat_max', 'lon_max', 'rain (mm/day)', 'model']\n",
    "df = pd.read_csv(\"figsharerainfall/combined_data.csv\", usecols=use_cols)\n",
    "df.head()"
   ]
  },
  {
   "cell_type": "markdown",
   "id": "046b0816-d089-4b34-af90-79f1e146225b",
   "metadata": {},
   "source": [
    "### EDA in Python"
   ]
  },
  {
   "cell_type": "code",
   "execution_count": 6,
   "id": "e6e36d81-9a6e-435f-a06b-5f9a61991276",
   "metadata": {},
   "outputs": [],
   "source": [
    "lon_max_df = df.groupby(\"lon_max\").mean()[[\"rain (mm/day)\"]].reset_index()\n",
    "lat_max_df = df.groupby(\"lat_max\").mean()[[\"rain (mm/day)\"]].reset_index()\n",
    "lon_lat_df = df.groupby([\"lat_max\", \"lon_max\"]).mean()[[\"rain (mm/day)\"]].reset_index()"
   ]
  },
  {
   "cell_type": "code",
   "execution_count": 7,
   "id": "af617df0-7757-4163-9f3f-1571040e6c06",
   "metadata": {},
   "outputs": [
    {
     "data": {
      "text/plain": [
       "RendererRegistry.enable('mimetype')"
      ]
     },
     "execution_count": 7,
     "metadata": {},
     "output_type": "execute_result"
    }
   ],
   "source": [
    "import altair as alt\n",
    "# alt.data_transformers.enable('data_server')\n",
    "alt.renderers.enable('mimetype')"
   ]
  },
  {
   "cell_type": "code",
   "execution_count": 8,
   "id": "ca3ece1e-4fca-4b78-96d0-73b477215471",
   "metadata": {},
   "outputs": [
    {
     "data": {
      "application/vnd.vegalite.v4+json": {
       "$schema": "https://vega.github.io/schema/vega-lite/v4.17.0.json",
       "config": {
        "view": {
         "continuousHeight": 300,
         "continuousWidth": 400
        }
       },
       "datasets": {
        "data-06d8d52b828798119005ef8af0d0f38e": [
         {
          "lon_max": 141.25,
          "rain (mm/day)": null
         },
         {
          "lon_max": 141.875,
          "rain (mm/day)": 1.2100547170515352
         },
         {
          "lon_max": 142.03125,
          "rain (mm/day)": 0.40527819189271796
         },
         {
          "lon_max": 142.275,
          "rain (mm/day)": 0.8051428941776909
         },
         {
          "lon_max": 142.3125,
          "rain (mm/day)": 0.8854807037871925
         },
         {
          "lon_max": 142.5,
          "rain (mm/day)": 0.758194309237505
         },
         {
          "lon_max": 142.734375,
          "rain (mm/day)": 1.3350575245286542
         },
         {
          "lon_max": 142.96875,
          "rain (mm/day)": 0.43010866703796047
         },
         {
          "lon_max": 143,
          "rain (mm/day)": 1.3223809068152799
         },
         {
          "lon_max": 143.125,
          "rain (mm/day)": 1.2953567385170641
         },
         {
          "lon_max": 143.4375,
          "rain (mm/day)": 0.9410835862190784
         },
         {
          "lon_max": 143.525,
          "rain (mm/day)": 0.8268831946926803
         },
         {
          "lon_max": 143.75,
          "rain (mm/day)": 1.3604562764322305
         },
         {
          "lon_max": 143.75000000000003,
          "rain (mm/day)": 0.7394831385255625
         },
         {
          "lon_max": 143.90625,
          "rain (mm/day)": 0.44044730284944184
         },
         {
          "lon_max": 144.140625,
          "rain (mm/day)": 1.4317069034364613
         },
         {
          "lon_max": 144.375,
          "rain (mm/day)": 1.3278934394985875
         },
         {
          "lon_max": 144.5625,
          "rain (mm/day)": 1.0419961291627593
         },
         {
          "lon_max": 144.775,
          "rain (mm/day)": 0.8921349475067394
         },
         {
          "lon_max": 144.84375,
          "rain (mm/day)": 0.8154854437821122
         },
         {
          "lon_max": 145,
          "rain (mm/day)": 1.2793146445798265
         },
         {
          "lon_max": 145.3125,
          "rain (mm/day)": 1.1271542481821932
         },
         {
          "lon_max": 145.546875,
          "rain (mm/day)": 1.6033931790446325
         },
         {
          "lon_max": 145.625,
          "rain (mm/day)": 1.6122890127836775
         },
         {
          "lon_max": 145.6875,
          "rain (mm/day)": 1.1817609008703307
         },
         {
          "lon_max": 145.78125,
          "rain (mm/day)": 0.5548678191096901
         },
         {
          "lon_max": 146.025,
          "rain (mm/day)": 1.0398887897281195
         },
         {
          "lon_max": 146.25,
          "rain (mm/day)": 1.2369869991733184
         },
         {
          "lon_max": 146.71875,
          "rain (mm/day)": 0.6505891147180906
         },
         {
          "lon_max": 146.8125,
          "rain (mm/day)": 1.362648025545711
         },
         {
          "lon_max": 146.875,
          "rain (mm/day)": 1.8592311047310528
         },
         {
          "lon_max": 146.953125,
          "rain (mm/day)": 1.8425320830691467
         },
         {
          "lon_max": 147,
          "rain (mm/day)": 1.9372813137875184
         },
         {
          "lon_max": 147.1875,
          "rain (mm/day)": 1.402869439342843
         },
         {
          "lon_max": 147.275,
          "rain (mm/day)": 1.1995737037587637
         },
         {
          "lon_max": 147.5,
          "rain (mm/day)": 1.2421572046098563
         },
         {
          "lon_max": 147.65625,
          "rain (mm/day)": 1.0995980508407748
         },
         {
          "lon_max": 147.9375,
          "rain (mm/day)": 1.5052034500631022
         },
         {
          "lon_max": 148.125,
          "rain (mm/day)": 1.9690331868180904
         },
         {
          "lon_max": 148.359375,
          "rain (mm/day)": 2.165443099469158
         },
         {
          "lon_max": 148.525,
          "rain (mm/day)": 1.4354929830418786
         },
         {
          "lon_max": 148.59375,
          "rain (mm/day)": 0.8960950623348768
         },
         {
          "lon_max": 148.75,
          "rain (mm/day)": 1.7396763984239998
         },
         {
          "lon_max": 149,
          "rain (mm/day)": 2.5306309162664604
         },
         {
          "lon_max": 149.0625,
          "rain (mm/day)": 1.6498291553523048
         },
         {
          "lon_max": 149.375,
          "rain (mm/day)": 2.310011485470028
         },
         {
          "lon_max": 149.53125,
          "rain (mm/day)": 0.9478024862905515
         },
         {
          "lon_max": 149.765625,
          "rain (mm/day)": 2.4546804382860774
         },
         {
          "lon_max": 149.775,
          "rain (mm/day)": 1.9540077196542343
         },
         {
          "lon_max": 150,
          "rain (mm/day)": 1.6791336570526216
         },
         {
          "lon_max": 150.1875,
          "rain (mm/day)": 1.805495381052683
         },
         {
          "lon_max": 150.46875,
          "rain (mm/day)": 1.386367167842432
         },
         {
          "lon_max": 150.625,
          "rain (mm/day)": 2.6350614635571716
         },
         {
          "lon_max": 150.9375,
          "rain (mm/day)": 1.7952891082296019
         },
         {
          "lon_max": 151,
          "rain (mm/day)": 3.313183390437011
         },
         {
          "lon_max": 151.025,
          "rain (mm/day)": 2.248107492275429
         },
         {
          "lon_max": 151.171875,
          "rain (mm/day)": 2.784433215266568
         },
         {
          "lon_max": 151.25,
          "rain (mm/day)": 2.0566100630684216
         },
         {
          "lon_max": 151.3125,
          "rain (mm/day)": 2.026060556934632
         },
         {
          "lon_max": 151.40625,
          "rain (mm/day)": 1.3410381135320908
         },
         {
          "lon_max": 151.875,
          "rain (mm/day)": 2.7656419122725877
         },
         {
          "lon_max": 152.275,
          "rain (mm/day)": 2.89895021862507
         },
         {
          "lon_max": 152.34375,
          "rain (mm/day)": 1.5841917754403296
         },
         {
          "lon_max": 152.4375,
          "rain (mm/day)": 2.420532696490709
         },
         {
          "lon_max": 152.5,
          "rain (mm/day)": 2.14402595032199
         },
         {
          "lon_max": 152.578125,
          "rain (mm/day)": 3.2618765118100854
         },
         {
          "lon_max": 152.8125,
          "rain (mm/day)": 2.477755053708152
         },
         {
          "lon_max": 153,
          "rain (mm/day)": 3.899279093572404
         },
         {
          "lon_max": 153.125,
          "rain (mm/day)": 3.3691517240404427
         },
         {
          "lon_max": 153.28125,
          "rain (mm/day)": 2.3827885271522313
         },
         {
          "lon_max": 153.525,
          "rain (mm/day)": 2.973549561370383
         },
         {
          "lon_max": 153.5625,
          "rain (mm/day)": 2.8757055539824252
         },
         {
          "lon_max": 153.75,
          "rain (mm/day)": 2.5888926007383555
         },
         {
          "lon_max": 153.984375,
          "rain (mm/day)": 3.835832277007445
         },
         {
          "lon_max": 154.21875,
          "rain (mm/day)": 2.297321778427381
         },
         {
          "lon_max": 154.375,
          "rain (mm/day)": 3.9826713758965275
         },
         {
          "lon_max": 154.6875,
          "rain (mm/day)": 3.262483387107862
         },
         {
          "lon_max": 155,
          "rain (mm/day)": 3.510350658546701
         },
         {
          "lon_max": 155.625,
          "rain (mm/day)": 2.085875874288732
         }
        ],
        "data-b369c7f8690bc14d2065c4cbd2f19f8c": [
         {
          "lat_max": -36,
          "rain (mm/day)": null
         },
         {
          "lat_max": -35.532329496779006,
          "rain (mm/day)": 1.473230487802543
         },
         {
          "lat_max": -35.1,
          "rain (mm/day)": 1.8122757223544401
         },
         {
          "lat_max": -35.0201512327519,
          "rain (mm/day)": 2.30962531689851
         },
         {
          "lat_max": -35,
          "rain (mm/day)": 1.7666092653804293
         },
         {
          "lat_max": -34.86910994764398,
          "rain (mm/day)": 2.326808766069851
         },
         {
          "lat_max": -34.766165,
          "rain (mm/day)": 1.3985148054412442
         },
         {
          "lat_max": -34.76616213046054,
          "rain (mm/day)": 1.701313747624805
         },
         {
          "lat_max": -34.766162130460515,
          "rain (mm/day)": 2.048196342400245
         },
         {
          "lat_max": -34.597269270703286,
          "rain (mm/day)": 1.2774829645097
         },
         {
          "lat_max": -34.5,
          "rain (mm/day)": 2.820725724668505
         },
         {
          "lat_max": -34.43037974683545,
          "rain (mm/day)": 2.1907867029907475
         },
         {
          "lat_max": -34.375,
          "rain (mm/day)": 2.258995202202678
         },
         {
          "lat_max": -34.10526315789474,
          "rain (mm/day)": 2.1804702984601407
         },
         {
          "lat_max": -34.1,
          "rain (mm/day)": 1.6730916274163805
         },
         {
          "lat_max": -34,
          "rain (mm/day)": 1.5237535415734544
         },
         {
          "lat_max": -33.926701570680635,
          "rain (mm/day)": 2.209603460993415
         },
         {
          "lat_max": -33.92670157068063,
          "rain (mm/day)": 2.3625780927542794
         },
         {
          "lat_max": -33.75,
          "rain (mm/day)": 1.5548551565801891
         },
         {
          "lat_max": -33.66220893975506,
          "rain (mm/day)": 1.0840246953238322
         },
         {
          "lat_max": -33.644675,
          "rain (mm/day)": 1.3812694333951214
         },
         {
          "lat_max": -33.644674761747694,
          "rain (mm/day)": 1.6330247937235602
         },
         {
          "lat_max": -33.64467476174769,
          "rain (mm/day)": 1.9892787474939364
         },
         {
          "lat_max": -33.61933741870392,
          "rain (mm/day)": 2.2660056441982857
         },
         {
          "lat_max": -33.574618890009354,
          "rain (mm/day)": 1.7327220516010826
         },
         {
          "lat_max": -33.49098058,
          "rain (mm/day)": 1.9893345109941225
         },
         {
          "lat_max": -33.487232437758735,
          "rain (mm/day)": 1.8353610002651621
         },
         {
          "lat_max": -33.125,
          "rain (mm/day)": 2.2412206469665295
         },
         {
          "lat_max": -33.1,
          "rain (mm/day)": 1.6091377628896248
         },
         {
          "lat_max": -33,
          "rain (mm/day)": 2.188481405813755
         },
         {
          "lat_max": -32.98429319371728,
          "rain (mm/day)": 2.263407519272284
         },
         {
          "lat_max": -32.727148509773,
          "rain (mm/day)": 0.9635181414271274
         },
         {
          "lat_max": -32.52318718826733,
          "rain (mm/day)": 1.9512017612964274
         },
         {
          "lat_max": -32.5231871882673,
          "rain (mm/day)": 1.4593107422289162
         },
         {
          "lat_max": -32.523185,
          "rain (mm/day)": 1.33038506012114
         },
         {
          "lat_max": -32.5,
          "rain (mm/day)": 1.7298316913047487
         },
         {
          "lat_max": -32.40506329113924,
          "rain (mm/day)": 2.0577079544845174
         },
         {
          "lat_max": -32.21852474395423,
          "rain (mm/day)": 2.2732195238615303
         },
         {
          "lat_max": -32.21052631578948,
          "rain (mm/day)": 2.201217186769719
         },
         {
          "lat_max": -32.1,
          "rain (mm/day)": 1.5368112524580537
         },
         {
          "lat_max": -32.04188481675392,
          "rain (mm/day)": 2.196871057293985
         },
         {
          "lat_max": -32,
          "rain (mm/day)": 1.370337779962345
         },
         {
          "lat_max": -31.875000000000004,
          "rain (mm/day)": 1.0793935728397415
         },
         {
          "lat_max": -31.875,
          "rain (mm/day)": 1.8904834901445986
         },
         {
          "lat_max": -31.792087986243843,
          "rain (mm/day)": 0.831599877265255
         },
         {
          "lat_max": -31.709369250120464,
          "rain (mm/day)": 1.518177293068709
         },
         {
          "lat_max": -31.5,
          "rain (mm/day)": 2.7466701141731824
         },
         {
          "lat_max": -31.4017,
          "rain (mm/day)": 1.3305592689821417
         },
         {
          "lat_max": -31.40169942354492,
          "rain (mm/day)": 1.893188493730257
         },
         {
          "lat_max": -31.401699423544898,
          "rain (mm/day)": 1.3903901160965249
         },
         {
          "lat_max": -31.25,
          "rain (mm/day)": 1.744620957259029
         },
         {
          "lat_max": -31.1,
          "rain (mm/day)": 1.6253792956851376
         },
         {
          "lat_max": -31.09947643979057,
          "rain (mm/day)": 2.265345198116035
         },
         {
          "lat_max": -31,
          "rain (mm/day)": 1.3255536139849324
         },
         {
          "lat_max": -30.85702737433103,
          "rain (mm/day)": 0.8465461751069925
         },
         {
          "lat_max": -30.81771311536081,
          "rain (mm/day)": 2.329939656620304
         },
         {
          "lat_max": -30.70001521,
          "rain (mm/day)": 1.8809238193307516
         },
         {
          "lat_max": -30.69665175175337,
          "rain (mm/day)": 1.7729790663133294
         },
         {
          "lat_max": -30.625,
          "rain (mm/day)": 2.2267874412899573
         },
         {
          "lat_max": -30.37974683544305,
          "rain (mm/day)": 2.3380028477511825
         },
         {
          "lat_max": -30.31578947368421,
          "rain (mm/day)": 2.2524813140462316
         },
         {
          "lat_max": -30.280215,
          "rain (mm/day)": 1.4093269273313207
         },
         {
          "lat_max": -30.28021148016025,
          "rain (mm/day)": 1.4691489088602432
         },
         {
          "lat_max": -30.28021148016024,
          "rain (mm/day)": 1.9088527055488396
         },
         {
          "lat_max": -30.157068062827232,
          "rain (mm/day)": 2.2583636957587023
         },
         {
          "lat_max": -30.157068062827225,
          "rain (mm/day)": 2.2169457455404724
         },
         {
          "lat_max": -30.15706806282722,
          "rain (mm/day)": 2.2906917601763275
         },
         {
          "lat_max": -30.1,
          "rain (mm/day)": 1.5986873839189504
         },
         {
          "lat_max": -30,
          "rain (mm/day)": 1.8326388276048167
         },
         {
          "lat_max": -29.921966678900723,
          "rain (mm/day)": 0.7784863084690397
         },
         {
          "lat_max": -29.844118215220497,
          "rain (mm/day)": 1.4602000600478067
         },
         {
          "lat_max": -29.416902447784427,
          "rain (mm/day)": 2.3295183205981638
         },
         {
          "lat_max": -29.375,
          "rain (mm/day)": 2.1816567794054427
         },
         {
          "lat_max": -29.214659685863875,
          "rain (mm/day)": 2.225624208593135
         },
         {
          "lat_max": -29.21465968586387,
          "rain (mm/day)": 2.2114660881199146
         },
         {
          "lat_max": -29.158725,
          "rain (mm/day)": 1.3581250328458776
         },
         {
          "lat_max": -29.1587233698376,
          "rain (mm/day)": 1.6822409268323524
         },
         {
          "lat_max": -29.100000000000005,
          "rain (mm/day)": 1.536229008659105
         },
         {
          "lat_max": -29.000000000000004,
          "rain (mm/day)": 1.297210478207503
         },
         {
          "lat_max": -28.98690590454548,
          "rain (mm/day)": 0.7096618025230195
         },
         {
          "lat_max": -28.75,
          "rain (mm/day)": 1.7231910211207542
         },
         {
          "lat_max": -28.5,
          "rain (mm/day)": 2.66314678153081
         },
         {
          "lat_max": -28.421052631578952,
          "rain (mm/day)": 2.289027399931474
         },
         {
          "lat_max": -28.35443037974683,
          "rain (mm/day)": 2.039180371499404
         },
         {
          "lat_max": -28.125,
          "rain (mm/day)": 1.0837744369568607
         },
         {
          "lat_max": -27.9090649,
          "rain (mm/day)": 1.8127249494221351
         },
         {
          "lat_max": -27.906064473486865,
          "rain (mm/day)": 1.8247560713387867
         }
        ]
       },
       "hconcat": [
        {
         "data": {
          "name": "data-06d8d52b828798119005ef8af0d0f38e"
         },
         "encoding": {
          "x": {
           "field": "lon_max",
           "scale": {
            "domain": [
             140,
             160
            ]
           },
           "title": "Longitude max",
           "type": "quantitative"
          },
          "y": {
           "field": "rain (mm/day)",
           "title": "Rainfall (mm/day)",
           "type": "quantitative"
          }
         },
         "mark": "point",
         "title": "Mean rainfall (mm/day) by longitude",
         "width": 300
        },
        {
         "data": {
          "name": "data-b369c7f8690bc14d2065c4cbd2f19f8c"
         },
         "encoding": {
          "x": {
           "field": "lat_max",
           "scale": {
            "domain": [
             -40,
             -25
            ]
           },
           "title": "Latitude max",
           "type": "quantitative"
          },
          "y": {
           "field": "rain (mm/day)",
           "title": "Rainfall (mm/day)",
           "type": "quantitative"
          }
         },
         "mark": "point",
         "title": "Mean rainfall (mm/day) by latitude",
         "width": 300
        }
       ]
      },
      "image/png": "[encoded data removed]",
      "text/plain": [
       "<VegaLite 4 object>\n",
       "\n",
       "If you see this message, it means the renderer has not been properly enabled\n",
       "for the frontend that you are using. For more information, see\n",
       "https://altair-viz.github.io/user_guide/troubleshooting.html\n"
      ]
     },
     "execution_count": 8,
     "metadata": {},
     "output_type": "execute_result"
    }
   ],
   "source": [
    "lon_max_eda = (\n",
    "    alt.Chart(lon_max_df, title=\"Mean rainfall (mm/day) by longitude\")\n",
    "    .mark_point()\n",
    "    .encode(\n",
    "        x=alt.X(\"lon_max\", scale=alt.Scale(domain=(140, 160)), title=\"Longitude max\"),\n",
    "        y=alt.Y(\"rain (mm/day)\", title=\"Rainfall (mm/day)\"),\n",
    "    )\n",
    ").properties(width=300)\n",
    "lat_max_eda = (\n",
    "    alt.Chart(lat_max_df, title=\"Mean rainfall (mm/day) by latitude\")\n",
    "    .mark_point()\n",
    "    .encode(\n",
    "        x=alt.X(\"lat_max\", scale=alt.Scale(domain=(-40, -25)), title=\"Latitude max\"),\n",
    "        y=alt.Y(\"rain (mm/day)\", title=\"Rainfall (mm/day)\"),\n",
    "    )\n",
    ").properties(width=300)\n",
    "lon_max_eda | lat_max_eda"
   ]
  },
  {
   "cell_type": "code",
   "execution_count": 9,
   "id": "75004ac4-7df7-48e0-91dc-8dd6aeed7fa0",
   "metadata": {},
   "outputs": [
    {
     "data": {
      "application/vnd.vegalite.v4+json": {
       "$schema": "https://vega.github.io/schema/vega-lite/v4.17.0.json",
       "config": {
        "view": {
         "continuousHeight": 300,
         "continuousWidth": 400
        }
       },
       "data": {
        "name": "data-44e2bae861fddff868d898f7045167a9"
       },
       "datasets": {
        "data-44e2bae861fddff868d898f7045167a9": [
         {
          "lat_max": -36,
          "lon_max": 141.25,
          "rain (mm/day)": null
         },
         {
          "lat_max": -36,
          "lon_max": 142.5,
          "rain (mm/day)": null
         },
         {
          "lat_max": -36,
          "lon_max": 143.75000000000003,
          "rain (mm/day)": null
         },
         {
          "lat_max": -36,
          "lon_max": 145,
          "rain (mm/day)": null
         },
         {
          "lat_max": -36,
          "lon_max": 146.25,
          "rain (mm/day)": null
         },
         {
          "lat_max": -36,
          "lon_max": 147.5,
          "rain (mm/day)": null
         },
         {
          "lat_max": -36,
          "lon_max": 148.75,
          "rain (mm/day)": null
         },
         {
          "lat_max": -36,
          "lon_max": 150,
          "rain (mm/day)": null
         },
         {
          "lat_max": -36,
          "lon_max": 151.25,
          "rain (mm/day)": null
         },
         {
          "lat_max": -36,
          "lon_max": 152.5,
          "rain (mm/day)": null
         },
         {
          "lat_max": -35.532329496779006,
          "lon_max": 142.03125,
          "rain (mm/day)": 0.7617888246958527
         },
         {
          "lat_max": -35.532329496779006,
          "lon_max": 142.96875,
          "rain (mm/day)": 0.7408971645756954
         },
         {
          "lat_max": -35.532329496779006,
          "lon_max": 143.90625,
          "rain (mm/day)": 0.7022892237147305
         },
         {
          "lat_max": -35.532329496779006,
          "lon_max": 144.84375,
          "rain (mm/day)": 0.7244909852452329
         },
         {
          "lat_max": -35.532329496779006,
          "lon_max": 145.78125,
          "rain (mm/day)": 0.8995336299153175
         },
         {
          "lat_max": -35.532329496779006,
          "lon_max": 146.71875,
          "rain (mm/day)": 1.2073015199362773
         },
         {
          "lat_max": -35.532329496779006,
          "lon_max": 147.65625,
          "rain (mm/day)": 1.7533883555626444
         },
         {
          "lat_max": -35.532329496779006,
          "lon_max": 148.59375,
          "rain (mm/day)": 1.8930631314163096
         },
         {
          "lat_max": -35.532329496779006,
          "lon_max": 149.53125,
          "rain (mm/day)": 1.3157093037537004
         },
         {
          "lat_max": -35.532329496779006,
          "lon_max": 150.46875,
          "rain (mm/day)": 1.276190045005608
         },
         {
          "lat_max": -35.532329496779006,
          "lon_max": 151.40625,
          "rain (mm/day)": 2.0465392025547327
         },
         {
          "lat_max": -35.532329496779006,
          "lon_max": 152.34375,
          "rain (mm/day)": 2.0833390948849817
         },
         {
          "lat_max": -35.532329496779006,
          "lon_max": 153.28125,
          "rain (mm/day)": 2.6414254857130293
         },
         {
          "lat_max": -35.532329496779006,
          "lon_max": 154.21875,
          "rain (mm/day)": 2.5792708622614886
         },
         {
          "lat_max": -35.1,
          "lon_max": 142.275,
          "rain (mm/day)": 0.9665891359557519
         },
         {
          "lat_max": -35.1,
          "lon_max": 143.525,
          "rain (mm/day)": 0.9530476904980203
         },
         {
          "lat_max": -35.1,
          "lon_max": 144.775,
          "rain (mm/day)": 1.0383821848611756
         },
         {
          "lat_max": -35.1,
          "lon_max": 146.025,
          "rain (mm/day)": 1.1574042967971898
         },
         {
          "lat_max": -35.1,
          "lon_max": 147.275,
          "rain (mm/day)": 1.564483239310323
         },
         {
          "lat_max": -35.1,
          "lon_max": 148.525,
          "rain (mm/day)": 2.2555047100527745
         },
         {
          "lat_max": -35.1,
          "lon_max": 149.775,
          "rain (mm/day)": 2.7367054496685275
         },
         {
          "lat_max": -35.1,
          "lon_max": 151.025,
          "rain (mm/day)": 2.3810499631593007
         },
         {
          "lat_max": -35.1,
          "lon_max": 152.275,
          "rain (mm/day)": 2.3560449805199783
         },
         {
          "lat_max": -35.1,
          "lon_max": 153.525,
          "rain (mm/day)": 2.713545572721357
         },
         {
          "lat_max": -35.0201512327519,
          "lon_max": 142.734375,
          "rain (mm/day)": 1.4342452078596868
         },
         {
          "lat_max": -35.0201512327519,
          "lon_max": 144.140625,
          "rain (mm/day)": 1.5214787682919548
         },
         {
          "lat_max": -35.0201512327519,
          "lon_max": 145.546875,
          "rain (mm/day)": 1.7114961073744814
         },
         {
          "lat_max": -35.0201512327519,
          "lon_max": 146.953125,
          "rain (mm/day)": 1.993385898831669
         },
         {
          "lat_max": -35.0201512327519,
          "lon_max": 148.359375,
          "rain (mm/day)": 2.4123084482310047
         },
         {
          "lat_max": -35.0201512327519,
          "lon_max": 149.765625,
          "rain (mm/day)": 2.5861401767884993
         },
         {
          "lat_max": -35.0201512327519,
          "lon_max": 151.171875,
          "rain (mm/day)": 2.84402762120034
         },
         {
          "lat_max": -35.0201512327519,
          "lon_max": 152.578125,
          "rain (mm/day)": 3.0486517932812123
         },
         {
          "lat_max": -35.0201512327519,
          "lon_max": 153.984375,
          "rain (mm/day)": 3.234893830227743
         },
         {
          "lat_max": -35,
          "lon_max": 141.25,
          "rain (mm/day)": null
         },
         {
          "lat_max": -35,
          "lon_max": 142.5,
          "rain (mm/day)": 1.0372777147530647
         },
         {
          "lat_max": -35,
          "lon_max": 143.75000000000003,
          "rain (mm/day)": 0.9405761772987996
         },
         {
          "lat_max": -35,
          "lon_max": 144.375,
          "rain (mm/day)": 1.3386505301778426
         },
         {
          "lat_max": -35,
          "lon_max": 145,
          "rain (mm/day)": 1.0870153737747605
         },
         {
          "lat_max": -35,
          "lon_max": 146.25,
          "rain (mm/day)": 1.6775269640630246
         },
         {
          "lat_max": -35,
          "lon_max": 147.5,
          "rain (mm/day)": 1.7363614221948178
         },
         {
          "lat_max": -35,
          "lon_max": 148.125,
          "rain (mm/day)": 2.2037735151946274
         },
         {
          "lat_max": -35,
          "lon_max": 148.75,
          "rain (mm/day)": 1.885349648990367
         },
         {
          "lat_max": -35,
          "lon_max": 150,
          "rain (mm/day)": 1.836154796408707
         },
         {
          "lat_max": -35,
          "lon_max": 151.25,
          "rain (mm/day)": 1.7986397682603612
         },
         {
          "lat_max": -35,
          "lon_max": 151.875,
          "rain (mm/day)": 2.270437463289882
         },
         {
          "lat_max": -35,
          "lon_max": 152.5,
          "rain (mm/day)": 2.2480964010539655
         },
         {
          "lat_max": -35,
          "lon_max": 153.75,
          "rain (mm/day)": 2.7105381798673003
         },
         {
          "lat_max": -34.86910994764398,
          "lon_max": 141.875,
          "rain (mm/day)": 1.2733428700784095
         },
         {
          "lat_max": -34.86910994764398,
          "lon_max": 143.125,
          "rain (mm/day)": 1.3351790604302607
         },
         {
          "lat_max": -34.86910994764398,
          "lon_max": 144.375,
          "rain (mm/day)": 1.461061589969747
         },
         {
          "lat_max": -34.86910994764398,
          "lon_max": 145.625,
          "rain (mm/day)": 1.6155826964385755
         },
         {
          "lat_max": -34.86910994764398,
          "lon_max": 146.875,
          "rain (mm/day)": 1.8776122964507573
         },
         {
          "lat_max": -34.86910994764398,
          "lon_max": 148.125,
          "rain (mm/day)": 2.3356058752332616
         },
         {
          "lat_max": -34.86910994764398,
          "lon_max": 149.375,
          "rain (mm/day)": 2.2874539236615368
         },
         {
          "lat_max": -34.86910994764398,
          "lon_max": 150.625,
          "rain (mm/day)": 2.8257123081091016
         },
         {
          "lat_max": -34.86910994764398,
          "lon_max": 151.875,
          "rain (mm/day)": 3.372493251312172
         },
         {
          "lat_max": -34.86910994764398,
          "lon_max": 153.125,
          "rain (mm/day)": 3.445210405785533
         },
         {
          "lat_max": -34.86910994764398,
          "lon_max": 154.375,
          "rain (mm/day)": 3.7656421492990035
         },
         {
          "lat_max": -34.766165,
          "lon_max": 142.3125,
          "rain (mm/day)": 0.9627559438336053
         },
         {
          "lat_max": -34.766165,
          "lon_max": 143.4375,
          "rain (mm/day)": 0.9809115325380687
         },
         {
          "lat_max": -34.766165,
          "lon_max": 144.5625,
          "rain (mm/day)": 0.9828826527075354
         },
         {
          "lat_max": -34.766165,
          "lon_max": 145.6875,
          "rain (mm/day)": 1.0713444196568835
         },
         {
          "lat_max": -34.766165,
          "lon_max": 146.8125,
          "rain (mm/day)": 1.2741440027285356
         },
         {
          "lat_max": -34.766165,
          "lon_max": 147.9375,
          "rain (mm/day)": 1.5753150024091944
         },
         {
          "lat_max": -34.766165,
          "lon_max": 149.0625,
          "rain (mm/day)": 1.7327235706707258
         },
         {
          "lat_max": -34.766165,
          "lon_max": 150.1875,
          "rain (mm/day)": 1.638997435972578
         },
         {
          "lat_max": -34.766165,
          "lon_max": 151.3125,
          "rain (mm/day)": 1.4003019058403021
         },
         {
          "lat_max": -34.766165,
          "lon_max": 152.4375,
          "rain (mm/day)": 1.587801877148237
         },
         {
          "lat_max": -34.766165,
          "lon_max": 153.5625,
          "rain (mm/day)": 2.1764845163480193
         },
         {
          "lat_max": -34.76616213046054,
          "lon_max": 142.3125,
          "rain (mm/day)": 0.8359170907889347
         },
         {
          "lat_max": -34.76616213046054,
          "lon_max": 143.4375,
          "rain (mm/day)": 0.828031392347791
         },
         {
          "lat_max": -34.76616213046054,
          "lon_max": 144.5625,
          "rain (mm/day)": 0.8778389265862081
         },
         {
          "lat_max": -34.76616213046054,
          "lon_max": 145.6875,
          "rain (mm/day)": 0.9993014446170658
         },
         {
          "lat_max": -34.76616213046054,
          "lon_max": 146.8125,
          "rain (mm/day)": 1.175866094696361
         },
         {
          "lat_max": -34.76616213046054,
          "lon_max": 147.9375,
          "rain (mm/day)": 1.4897282659805344
         },
         {
          "lat_max": -34.76616213046054,
          "lon_max": 149.0625,
          "rain (mm/day)": 1.7393084774580974
         },
         {
          "lat_max": -34.76616213046054,
          "lon_max": 150.1875,
          "rain (mm/day)": 1.9554201397458941
         },
         {
          "lat_max": -34.76616213046054,
          "lon_max": 151.3125,
          "rain (mm/day)": 2.4594849879899487
         },
         {
          "lat_max": -34.76616213046054,
          "lon_max": 152.4375,
          "rain (mm/day)": 2.9471933872591247
         },
         {
          "lat_max": -34.76616213046054,
          "lon_max": 153.5625,
          "rain (mm/day)": 3.406361016402896
         },
         {
          "lat_max": -34.766162130460515,
          "lon_max": 142.3125,
          "rain (mm/day)": 1.2268196311044548
         },
         {
          "lat_max": -34.766162130460515,
          "lon_max": 143.4375,
          "rain (mm/day)": 1.3029922651683188
         },
         {
          "lat_max": -34.766162130460515,
          "lon_max": 144.5625,
          "rain (mm/day)": 1.4506029332095103
         },
         {
          "lat_max": -34.766162130460515,
          "lon_max": 145.6875,
          "rain (mm/day)": 1.6540535289540081
         },
         {
          "lat_max": -34.766162130460515,
          "lon_max": 146.8125,
          "rain (mm/day)": 1.8709767397853825
         },
         {
          "lat_max": -34.766162130460515,
          "lon_max": 147.9375,
          "rain (mm/day)": 1.9654286124920697
         },
         {
          "lat_max": -34.766162130460515,
          "lon_max": 149.0625,
          "rain (mm/day)": 1.9379574870268141
         },
         {
          "lat_max": -34.766162130460515,
          "lon_max": 150.1875,
          "rain (mm/day)": 1.9604437429740011
         },
         {
          "lat_max": -34.766162130460515,
          "lon_max": 151.3125,
          "rain (mm/day)": 2.6846222981823216
         },
         {
          "lat_max": -34.766162130460515,
          "lon_max": 152.4375,
          "rain (mm/day)": 2.9922105653741116
         },
         {
          "lat_max": -34.766162130460515,
          "lon_max": 153.5625,
          "rain (mm/day)": 3.484051962131702
         },
         {
          "lat_max": -34.597269270703286,
          "lon_max": 142.03125,
          "rain (mm/day)": 0.5615807111852883
         },
         {
          "lat_max": -34.597269270703286,
          "lon_max": 142.96875,
          "rain (mm/day)": 0.558197758727649
         },
         {
          "lat_max": -34.597269270703286,
          "lon_max": 143.90625,
          "rain (mm/day)": 0.5622480170634403
         },
         {
          "lat_max": -34.597269270703286,
          "lon_max": 144.84375,
          "rain (mm/day)": 0.5867785395814664
         },
         {
          "lat_max": -34.597269270703286,
          "lon_max": 145.78125,
          "rain (mm/day)": 0.6441576565911584
         },
         {
          "lat_max": -34.597269270703286,
          "lon_max": 146.71875,
          "rain (mm/day)": 0.7857753983620528
         },
         {
          "lat_max": -34.597269270703286,
          "lon_max": 147.65625,
          "rain (mm/day)": 1.0330305494443999
         },
         {
          "lat_max": -34.597269270703286,
          "lon_max": 148.59375,
          "rain (mm/day)": 1.292709674379047
         },
         {
          "lat_max": -34.597269270703286,
          "lon_max": 149.53125,
          "rain (mm/day)": 1.2978087486748229
         },
         {
          "lat_max": -34.597269270703286,
          "lon_max": 150.46875,
          "rain (mm/day)": 1.2403814387817824
         },
         {
          "lat_max": -34.597269270703286,
          "lon_max": 151.40625,
          "rain (mm/day)": 2.051436202552062
         },
         {
          "lat_max": -34.597269270703286,
          "lon_max": 152.34375,
          "rain (mm/day)": 1.9151232425534186
         },
         {
          "lat_max": -34.597269270703286,
          "lon_max": 153.28125,
          "rain (mm/day)": 2.480900595784264
         },
         {
          "lat_max": -34.597269270703286,
          "lon_max": 154.21875,
          "rain (mm/day)": 2.8746329694549453
         },
         {
          "lat_max": -34.5,
          "lon_max": 143,
          "rain (mm/day)": 1.483721252659378
         },
         {
          "lat_max": -34.5,
          "lon_max": 145,
          "rain (mm/day)": 1.7528003234419933
         },
         {
          "lat_max": -34.5,
          "lon_max": 147,
          "rain (mm/day)": 2.483155577033439
         },
         {
          "lat_max": -34.5,
          "lon_max": 149,
          "rain (mm/day)": 3.240080089156229
         },
         {
          "lat_max": -34.5,
          "lon_max": 151,
          "rain (mm/day)": 3.7506250009516724
         },
         {
          "lat_max": -34.5,
          "lon_max": 153,
          "rain (mm/day)": 3.764952605024518
         },
         {
          "lat_max": -34.5,
          "lon_max": 155,
          "rain (mm/day)": 3.2697452244123064
         },
         {
          "lat_max": -34.43037974683545,
          "lon_max": 143,
          "rain (mm/day)": 1.2472071722491593
         },
         {
          "lat_max": -34.43037974683545,
          "lon_max": 145,
          "rain (mm/day)": 1.224001058666694
         },
         {
          "lat_max": -34.43037974683545,
          "lon_max": 147,
          "rain (mm/day)": 1.0659911389739176
         },
         {
          "lat_max": -34.43037974683545,
          "lon_max": 149,
          "rain (mm/day)": 2.597516220358133
         },
         {
          "lat_max": -34.43037974683545,
          "lon_max": 151,
          "rain (mm/day)": 3.8939523940521896
         },
         {
          "lat_max": -34.43037974683545,
          "lon_max": 153,
          "rain (mm/day)": 2.323671578554481
         },
         {
          "lat_max": -34.43037974683545,
          "lon_max": 155,
          "rain (mm/day)": 2.9831673580806584
         },
         {
          "lat_max": -34.375,
          "lon_max": 143.4375,
          "rain (mm/day)": 1.3293126401002173
         },
         {
          "lat_max": -34.375,
          "lon_max": 145.3125,
          "rain (mm/day)": 1.6928656294066542
         },
         {
          "lat_max": -34.375,
          "lon_max": 147.1875,
          "rain (mm/day)": 2.0087221892045726
         },
         {
          "lat_max": -34.375,
          "lon_max": 149.0625,
          "rain (mm/day)": 2.070592626778721
         },
         {
          "lat_max": -34.375,
          "lon_max": 150.9375,
          "rain (mm/day)": 1.9869517651884145
         },
         {
          "lat_max": -34.375,
          "lon_max": 152.8125,
          "rain (mm/day)": 2.9059834082268514
         },
         {
          "lat_max": -34.375,
          "lon_max": 154.6875,
          "rain (mm/day)": 3.8185381565133127
         },
         {
          "lat_max": -34.10526315789474,
          "lon_max": 143.75,
          "rain (mm/day)": 1.3218667008371854
         },
         {
          "lat_max": -34.10526315789474,
          "lon_max": 146.25,
          "rain (mm/day)": 1.6620767989314307
         },
         {
          "lat_max": -34.10526315789474,
          "lon_max": 148.75,
          "rain (mm/day)": 2.2042780290801427
         },
         {
          "lat_max": -34.10526315789474,
          "lon_max": 151.25,
          "rain (mm/day)": 2.426947170420895
         },
         {
          "lat_max": -34.10526315789474,
          "lon_max": 153.75,
          "rain (mm/day)": 3.2871827930310498
         },
         {
          "lat_max": -34.1,
          "lon_max": 142.275,
          "rain (mm/day)": 0.8613462832723708
         },
         {
          "lat_max": -34.1,
          "lon_max": 143.525,
          "rain (mm/day)": 0.8896945349811227
         },
         {
          "lat_max": -34.1,
          "lon_max": 144.775,
          "rain (mm/day)": 0.9606966277338593
         },
         {
          "lat_max": -34.1,
          "lon_max": 146.025,
          "rain (mm/day)": 1.0899119280455378
         },
         {
          "lat_max": -34.1,
          "lon_max": 147.275,
          "rain (mm/day)": 1.2567105242021384
         },
         {
          "lat_max": -34.1,
          "lon_max": 148.525,
          "rain (mm/day)": 1.5794643878155923
         },
         {
          "lat_max": -34.1,
          "lon_max": 149.775,
          "rain (mm/day)": 2.377582071816354
         },
         {
          "lat_max": -34.1,
          "lon_max": 151.025,
          "rain (mm/day)": 2.5910778908253165
         },
         {
          "lat_max": -34.1,
          "lon_max": 152.275,
          "rain (mm/day)": 2.377174252684179
         },
         {
          "lat_max": -34.1,
          "lon_max": 153.525,
          "rain (mm/day)": 2.747257772787336
         },
         {
          "lat_max": -34,
          "lon_max": 141.25,
          "rain (mm/day)": null
         },
         {
          "lat_max": -34,
          "lon_max": 142.5,
          "rain (mm/day)": 0.8122098778008091
         },
         {
          "lat_max": -34,
          "lon_max": 143.75000000000003,
          "rain (mm/day)": 0.8281929075047214
         },
         {
          "lat_max": -34,
          "lon_max": 145,
          "rain (mm/day)": 0.9115323703880714
         },
         {
          "lat_max": -34,
          "lon_max": 146.25,
          "rain (mm/day)": 1.1437452114145894
         },
         {
          "lat_max": -34,
          "lon_max": 147.5,
          "rain (mm/day)": 1.5101524724673459
         },
         {
          "lat_max": -34,
          "lon_max": 148.75,
          "rain (mm/day)": 1.7181747377478056
         },
         {
          "lat_max": -34,
          "lon_max": 150,
          "rain (mm/day)": 1.664515669778122
         },
         {
          "lat_max": -34,
          "lon_max": 151.25,
          "rain (mm/day)": 1.7618835965923634
         },
         {
          "lat_max": -34,
          "lon_max": 152.5,
          "rain (mm/day)": 2.1968693625414275
         },
         {
          "lat_max": -34,
          "lon_max": 153.75,
          "rain (mm/day)": 2.690259209499289
         },
         {
          "lat_max": -33.926701570680635,
          "lon_max": 141.875,
          "rain (mm/day)": 1.1174764692046824
         },
         {
          "lat_max": -33.926701570680635,
          "lon_max": 143.125,
          "rain (mm/day)": 1.2020332222761139
         },
         {
          "lat_max": -33.926701570680635,
          "lon_max": 144.375,
          "rain (mm/day)": 1.345711538631123
         },
         {
          "lat_max": -33.926701570680635,
          "lon_max": 145.625,
          "rain (mm/day)": 1.4860664108408719
         },
         {
          "lat_max": -33.926701570680635,
          "lon_max": 146.875,
          "rain (mm/day)": 1.7577545084043247
         },
         {
          "lat_max": -33.926701570680635,
          "lon_max": 148.125,
          "rain (mm/day)": 2.0897587556694264
         },
         {
          "lat_max": -33.926701570680635,
          "lon_max": 149.375,
          "rain (mm/day)": 2.3467671314899965
         },
         {
          "lat_max": -33.926701570680635,
          "lon_max": 150.625,
          "rain (mm/day)": 2.589687741638922
         },
         {
          "lat_max": -33.926701570680635,
          "lon_max": 151.875,
          "rain (mm/day)": 3.1762352536607423
         },
         {
          "lat_max": -33.926701570680635,
          "lon_max": 153.125,
          "rain (mm/day)": 3.291127225697912
         },
         {
          "lat_max": -33.926701570680635,
          "lon_max": 154.375,
          "rain (mm/day)": 3.9030198134134473
         },
         {
          "lat_max": -33.92670157068063,
          "lon_max": 141.875,
          "rain (mm/day)": 1.3208190183357038
         },
         {
          "lat_max": -33.92670157068063,
          "lon_max": 143.125,
          "rain (mm/day)": 1.3940599149394803
         },
         {
          "lat_max": -33.92670157068063,
          "lon_max": 144.375,
          "rain (mm/day)": 1.546558725545342
         },
         {
          "lat_max": -33.92670157068063,
          "lon_max": 145.625,
          "rain (mm/day)": 1.664958915099744
         },
         {
          "lat_max": -33.92670157068063,
          "lon_max": 146.875,
          "rain (mm/day)": 1.9613310589523127
         },
         {
          "lat_max": -33.92670157068063,
          "lon_max": 148.125,
          "rain (mm/day)": 2.269290720573908
         },
         {
          "lat_max": -33.92670157068063,
          "lon_max": 149.375,
          "rain (mm/day)": 2.410359342292617
         },
         {
          "lat_max": -33.92670157068063,
          "lon_max": 150.625,
          "rain (mm/day)": 2.74332138704193
         },
         {
          "lat_max": -33.92670157068063,
          "lon_max": 151.875,
          "rain (mm/day)": 3.5052411910202848
         },
         {
          "lat_max": -33.92670157068063,
          "lon_max": 153.125,
          "rain (mm/day)": 3.3908677883292686
         },
         {
          "lat_max": -33.92670157068063,
          "lon_max": 154.375,
          "rain (mm/day)": 3.781550958166481
         },
         {
          "lat_max": -33.75,
          "lon_max": 142.5,
          "rain (mm/day)": 0.7674478922177861
         },
         {
          "lat_max": -33.75,
          "lon_max": 144.375,
          "rain (mm/day)": 0.9500253108734729
         },
         {
          "lat_max": -33.75,
          "lon_max": 146.25,
          "rain (mm/day)": 1.2215750348683097
         },
         {
          "lat_max": -33.75,
          "lon_max": 148.125,
          "rain (mm/day)": 1.5513450231642267
         },
         {
          "lat_max": -33.75,
          "lon_max": 150,
          "rain (mm/day)": 1.729520903513427
         },
         {
          "lat_max": -33.75,
          "lon_max": 151.875,
          "rain (mm/day)": 1.9536433771749622
         },
         {
          "lat_max": -33.75,
          "lon_max": 153.75,
          "rain (mm/day)": 2.3168706708414555
         },
         {
          "lat_max": -33.75,
          "lon_max": 155.625,
          "rain (mm/day)": 1.9478649858023733
         },
         {
          "lat_max": -33.66220893975506,
          "lon_max": 142.03125,
          "rain (mm/day)": 0.41765795522188565
         },
         {
          "lat_max": -33.66220893975506,
          "lon_max": 142.96875,
          "rain (mm/day)": 0.44116269906375855
         },
         {
          "lat_max": -33.66220893975506,
          "lon_max": 143.90625,
          "rain (mm/day)": 0.4743062811412639
         },
         {
          "lat_max": -33.66220893975506,
          "lon_max": 144.84375,
          "rain (mm/day)": 0.546629125691997
         },
         {
          "lat_max": -33.66220893975506,
          "lon_max": 145.78125,
          "rain (mm/day)": 0.6186223753414231
         },
         {
          "lat_max": -33.66220893975506,
          "lon_max": 146.71875,
          "rain (mm/day)": 0.639021262117385
         },
         {
          "lat_max": -33.66220893975506,
          "lon_max": 147.65625,
          "rain (mm/day)": 0.7345828198314877
         },
         {
          "lat_max": -33.66220893975506,
          "lon_max": 148.59375,
          "rain (mm/day)": 0.8924630492673746
         },
         {
          "lat_max": -33.66220893975506,
          "lon_max": 149.53125,
          "rain (mm/day)": 1.1458480250906862
         },
         {
          "lat_max": -33.66220893975506,
          "lon_max": 150.46875,
          "rain (mm/day)": 1.0868618149684794
         },
         {
          "lat_max": -33.66220893975506,
          "lon_max": 151.40625,
          "rain (mm/day)": 1.3073657122180105
         },
         {
          "lat_max": -33.66220893975506,
          "lon_max": 152.34375,
          "rain (mm/day)": 1.9855536691446571
         },
         {
          "lat_max": -33.66220893975506,
          "lon_max": 153.28125,
          "rain (mm/day)": 2.2946983527676594
         },
         {
          "lat_max": -33.66220893975506,
          "lon_max": 154.21875,
          "rain (mm/day)": 2.5915725926675814
         },
         {
          "lat_max": -33.644675,
          "lon_max": 142.3125,
          "rain (mm/day)": 0.8043866307753826
         },
         {
          "lat_max": -33.644675,
          "lon_max": 143.4375,
          "rain (mm/day)": 0.898945059697696
         },
         {
          "lat_max": -33.644675,
          "lon_max": 144.5625,
          "rain (mm/day)": 0.9503945613156329
         },
         {
          "lat_max": -33.644675,
          "lon_max": 145.6875,
          "rain (mm/day)": 1.06419154570446
         },
         {
          "lat_max": -33.644675,
          "lon_max": 146.8125,
          "rain (mm/day)": 1.2434389169282039
         },
         {
          "lat_max": -33.644675,
          "lon_max": 147.9375,
          "rain (mm/day)": 1.3905085837233282
         },
         {
          "lat_max": -33.644675,
          "lon_max": 149.0625,
          "rain (mm/day)": 1.5961353592068144
         },
         {
          "lat_max": -33.644675,
          "lon_max": 150.1875,
          "rain (mm/day)": 1.686203429224146
         },
         {
          "lat_max": -33.644675,
          "lon_max": 151.3125,
          "rain (mm/day)": 1.5227022213562265
         },
         {
          "lat_max": -33.644675,
          "lon_max": 152.4375,
          "rain (mm/day)": 1.6895365431356693
         },
         {
          "lat_max": -33.644675,
          "lon_max": 153.5625,
          "rain (mm/day)": 2.3475209162787745
         },
         {
          "lat_max": -33.644674761747694,
          "lon_max": 142.3125,
          "rain (mm/day)": 0.7067795271111539
         },
         {
          "lat_max": -33.644674761747694,
          "lon_max": 143.4375,
          "rain (mm/day)": 0.7695902329608663
         },
         {
          "lat_max": -33.644674761747694,
          "lon_max": 144.5625,
          "rain (mm/day)": 0.815424506892319
         },
         {
          "lat_max": -33.644674761747694,
          "lon_max": 145.6875,
          "rain (mm/day)": 0.9152573511103913
         },
         {
          "lat_max": -33.644674761747694,
          "lon_max": 146.8125,
          "rain (mm/day)": 1.1369594579148323
         },
         {
          "lat_max": -33.644674761747694,
          "lon_max": 147.9375,
          "rain (mm/day)": 1.3275135897313215
         },
         {
          "lat_max": -33.644674761747694,
          "lon_max": 149.0625,
          "rain (mm/day)": 1.5255243576315105
         },
         {
          "lat_max": -33.644674761747694,
          "lon_max": 150.1875,
          "rain (mm/day)": 1.863178984179158
         },
         {
          "lat_max": -33.644674761747694,
          "lon_max": 151.3125,
          "rain (mm/day)": 2.561699759195896
         },
         {
          "lat_max": -33.644674761747694,
          "lon_max": 152.4375,
          "rain (mm/day)": 2.96610071811352
         },
         {
          "lat_max": -33.644674761747694,
          "lon_max": 153.5625,
          "rain (mm/day)": 3.3752442461181933
         },
         {
          "lat_max": -33.64467476174769,
          "lon_max": 142.3125,
          "rain (mm/day)": 1.1562679024130913
         },
         {
          "lat_max": -33.64467476174769,
          "lon_max": 143.4375,
          "rain (mm/day)": 1.2570520155568636
         },
         {
          "lat_max": -33.64467476174769,
          "lon_max": 144.5625,
          "rain (mm/day)": 1.3991046228597988
         },
         {
          "lat_max": -33.64467476174769,
          "lon_max": 145.6875,
          "rain (mm/day)": 1.5723077107271433
         },
         {
          "lat_max": -33.64467476174769,
          "lon_max": 146.8125,
          "rain (mm/day)": 1.7779845396039495
         },
         {
          "lat_max": -33.64467476174769,
          "lon_max": 147.9375,
          "rain (mm/day)": 1.9651845289897834
         },
         {
          "lat_max": -33.64467476174769,
          "lon_max": 149.0625,
          "rain (mm/day)": 2.040497376583109
         },
         {
          "lat_max": -33.64467476174769,
          "lon_max": 150.1875,
          "rain (mm/day)": 2.0421283504631242
         },
         {
          "lat_max": -33.64467476174769,
          "lon_max": 151.3125,
          "rain (mm/day)": 2.214538016348578
         },
         {
          "lat_max": -33.64467476174769,
          "lon_max": 152.4375,
          "rain (mm/day)": 3.0863020920905107
         },
         {
          "lat_max": -33.64467476174769,
          "lon_max": 153.5625,
          "rain (mm/day)": 3.3706990667973473
         },
         {
          "lat_max": -33.61933741870392,
          "lon_max": 142.734375,
          "rain (mm/day)": 1.3540920282363293
         },
         {
          "lat_max": -33.61933741870392,
          "lon_max": 144.140625,
          "rain (mm/day)": 1.4310311983846427
         },
         {
          "lat_max": -33.61933741870392,
          "lon_max": 145.546875,
          "rain (mm/day)": 1.5872708418120396
         },
         {
          "lat_max": -33.61933741870392,
          "lon_max": 146.953125,
          "rain (mm/day)": 1.8526449748179552
         },
         {
          "lat_max": -33.61933741870392,
          "lon_max": 148.359375,
          "rain (mm/day)": 2.2175535436090232
         },
         {
          "lat_max": -33.61933741870392,
          "lon_max": 149.765625,
          "rain (mm/day)": 2.44683779314756
         },
         {
          "lat_max": -33.61933741870392,
          "lon_max": 151.171875,
          "rain (mm/day)": 2.8081819838389865
         },
         {
          "lat_max": -33.61933741870392,
          "lon_max": 152.578125,
          "rain (mm/day)": 3.097720556718452
         },
         {
          "lat_max": -33.61933741870392,
          "lon_max": 153.984375,
          "rain (mm/day)": 3.5987178772195803
         },
         {
          "lat_max": -33.574618890009354,
          "lon_max": 143.4375,
          "rain (mm/day)": 0.7967217288356475
         },
         {
          "lat_max": -33.574618890009354,
          "lon_max": 145.3125,
          "rain (mm/day)": 1.0618323099684075
         },
         {
          "lat_max": -33.574618890009354,
          "lon_max": 147.1875,
          "rain (mm/day)": 1.3411840090056832
         },
         {
          "lat_max": -33.574618890009354,
          "lon_max": 149.0625,
          "rain (mm/day)": 1.5087338777034003
         },
         {
          "lat_max": -33.574618890009354,
          "lon_max": 150.9375,
          "rain (mm/day)": 1.4855797323150168
         },
         {
          "lat_max": -33.574618890009354,
          "lon_max": 152.8125,
          "rain (mm/day)": 2.979025200305063
         },
         {
          "lat_max": -33.574618890009354,
          "lon_max": 154.6875,
          "rain (mm/day)": 2.95597750307436
         },
         {
          "lat_max": -33.49098058,
          "lon_max": 144.84375,
          "rain (mm/day)": 1.3475300415172908
         },
         {
          "lat_max": -33.49098058,
          "lon_max": 147.65625,
          "rain (mm/day)": 1.6334487620915439
         },
         {
          "lat_max": -33.49098058,
          "lon_max": 150.46875,
          "rain (mm/day)": 2.070092269836379
         },
         {
          "lat_max": -33.49098058,
          "lon_max": 153.28125,
          "rain (mm/day)": 2.906266970531277
         },
         {
          "lat_max": -33.487232437758735,
          "lon_max": 144.84375,
          "rain (mm/day)": 1.3028275088028438
         },
         {
          "lat_max": -33.487232437758735,
          "lon_max": 147.65625,
          "rain (mm/day)": 1.522720195197652
         },
         {
          "lat_max": -33.487232437758735,
          "lon_max": 150.46875,
          "rain (mm/day)": 1.7496952929109624
         },
         {
          "lat_max": -33.487232437758735,
          "lon_max": 153.28125,
          "rain (mm/day)": 2.76620100414919
         },
         {
          "lat_max": -33.125,
          "lon_max": 143.4375,
          "rain (mm/day)": 1.2258687591777864
         },
         {
          "lat_max": -33.125,
          "lon_max": 145.3125,
          "rain (mm/day)": 1.5282271939295966
         },
         {
          "lat_max": -33.125,
          "lon_max": 147.1875,
          "rain (mm/day)": 1.8664745029577516
         },
         {
          "lat_max": -33.125,
          "lon_max": 149.0625,
          "rain (mm/day)": 2.1680891123367547
         },
         {
          "lat_max": -33.125,
          "lon_max": 150.9375,
          "rain (mm/day)": 2.2983601019094753
         },
         {
          "lat_max": -33.125,
          "lon_max": 152.8125,
          "rain (mm/day)": 2.9125832605921573
         },
         {
          "lat_max": -33.125,
          "lon_max": 154.6875,
          "rain (mm/day)": 3.6889415978621845
         },
         {
          "lat_max": -33.1,
          "lon_max": 142.275,
          "rain (mm/day)": 0.7835197961090844
         },
         {
          "lat_max": -33.1,
          "lon_max": 143.525,
          "rain (mm/day)": 0.8505367043125588
         },
         {
          "lat_max": -33.1,
          "lon_max": 144.775,
          "rain (mm/day)": 0.9240821947813583
         },
         {
          "lat_max": -33.1,
          "lon_max": 146.025,
          "rain (mm/day)": 1.0697548663061969
         },
         {
          "lat_max": -33.1,
          "lon_max": 147.275,
          "rain (mm/day)": 1.2182938809859087
         },
         {
          "lat_max": -33.1,
          "lon_max": 148.525,
          "rain (mm/day)": 1.3709716818761881
         },
         {
          "lat_max": -33.1,
          "lon_max": 149.775,
          "rain (mm/day)": 2.1837632873513546
         },
         {
          "lat_max": -33.1,
          "lon_max": 151.025,
          "rain (mm/day)": 2.5800527460729783
         },
         {
          "lat_max": -33.1,
          "lon_max": 152.275,
          "rain (mm/day)": 2.3779771542242725
         },
         {
          "lat_max": -33.1,
          "lon_max": 153.525,
          "rain (mm/day)": 2.7324253168763484
         },
         {
          "lat_max": -33,
          "lon_max": 141.25,
          "rain (mm/day)": null
         },
         {
          "lat_max": -33,
          "lon_max": 142.5,
          "rain (mm/day)": 0.7303600184423794
         },
         {
          "lat_max": -33,
          "lon_max": 143,
          "rain (mm/day)": 1.3719280791553503
         },
         {
          "lat_max": -33,
          "lon_max": 143.75000000000003,
          "rain (mm/day)": 0.7642972742757154
         },
         {
          "lat_max": -33,
          "lon_max": 145,
          "rain (mm/day)": 1.3347233177325701
         },
         {
          "lat_max": -33,
          "lon_max": 146.25,
          "rain (mm/day)": 1.0082618141734063
         },
         {
          "lat_max": -33,
          "lon_max": 147,
          "rain (mm/day)": 2.0779778908078934
         },
         {
          "lat_max": -33,
          "lon_max": 147.5,
          "rain (mm/day)": 1.271987576172969
         },
         {
          "lat_max": -33,
          "lon_max": 148.75,
          "rain (mm/day)": 1.5403494410102079
         },
         {
          "lat_max": -33,
          "lon_max": 149,
          "rain (mm/day)": 2.839479224143575
         },
         {
          "lat_max": -33,
          "lon_max": 150,
          "rain (mm/day)": 1.6547219898461765
         },
         {
          "lat_max": -33,
          "lon_max": 151,
          "rain (mm/day)": 3.4687945183659954
         },
         {
          "lat_max": -33,
          "lon_max": 151.25,
          "rain (mm/day)": 1.8196149711745837
         },
         {
          "lat_max": -33,
          "lon_max": 152.5,
          "rain (mm/day)": 2.1509105271523
         },
         {
          "lat_max": -33,
          "lon_max": 153,
          "rain (mm/day)": 3.9743283524348523
         },
         {
          "lat_max": -33,
          "lon_max": 153.75,
          "rain (mm/day)": 2.7177632866936725
         },
         {
          "lat_max": -33,
          "lon_max": 155,
          "rain (mm/day)": 3.698050378787832
         },
         {
          "lat_max": -32.98429319371728,
          "lon_max": 141.875,
          "rain (mm/day)": 1.2083780451254236
         },
         {
          "lat_max": -32.98429319371728,
          "lon_max": 143.125,
          "rain (mm/day)": 1.264412514225867
         },
         {
          "lat_max": -32.98429319371728,
          "lon_max": 144.375,
          "rain (mm/day)": 1.4361915211209326
         },
         {
          "lat_max": -32.98429319371728,
          "lon_max": 145.625,
          "rain (mm/day)": 1.5719906355120785
         },
         {
          "lat_max": -32.98429319371728,
          "lon_max": 146.875,
          "rain (mm/day)": 1.856112052659144
         },
         {
          "lat_max": -32.98429319371728,
          "lon_max": 148.125,
          "rain (mm/day)": 2.130156666648631
         },
         {
          "lat_max": -32.98429319371728,
          "lon_max": 149.375,
          "rain (mm/day)": 2.3705713705236415
         },
         {
          "lat_max": -32.98429319371728,
          "lon_max": 150.625,
          "rain (mm/day)": 2.592370483354997
         },
         {
          "lat_max": -32.98429319371728,
          "lon_max": 151.875,
          "rain (mm/day)": 3.312637041345291
         },
         {
          "lat_max": -32.98429319371728,
          "lon_max": 153.125,
          "rain (mm/day)": 3.248405458385142
         },
         {
          "lat_max": -32.98429319371728,
          "lon_max": 154.375,
          "rain (mm/day)": 3.9062569230939728
         },
         {
          "lat_max": -32.727148509773,
          "lon_max": 142.03125,
          "rain (mm/day)": 0.36520032489600185
         },
         {
          "lat_max": -32.727148509773,
          "lon_max": 142.96875,
          "rain (mm/day)": 0.3773813022391262
         },
         {
          "lat_max": -32.727148509773,
          "lon_max": 143.90625,
          "rain (mm/day)": 0.39408890988850964
         },
         {
          "lat_max": -32.727148509773,
          "lon_max": 144.84375,
          "rain (mm/day)": 0.4596021630883429
         },
         {
          "lat_max": -32.727148509773,
          "lon_max": 145.78125,
          "rain (mm/day)": 0.5728842196513321
         },
         {
          "lat_max": -32.727148509773,
          "lon_max": 146.71875,
          "rain (mm/day)": 0.616225887210254
         },
         {
          "lat_max": -32.727148509773,
          "lon_max": 147.65625,
          "rain (mm/day)": 0.6638828601392606
         },
         {
          "lat_max": -32.727148509773,
          "lon_max": 148.59375,
          "rain (mm/day)": 0.7565932664984507
         },
         {
          "lat_max": -32.727148509773,
          "lon_max": 149.53125,
          "rain (mm/day)": 1.0289850295066554
         },
         {
          "lat_max": -32.727148509773,
          "lon_max": 150.46875,
          "rain (mm/day)": 0.9956172518456893
         },
         {
          "lat_max": -32.727148509773,
          "lon_max": 151.40625,
          "rain (mm/day)": 1.1500602173698427
         },
         {
          "lat_max": -32.727148509773,
          "lon_max": 152.34375,
          "rain (mm/day)": 1.8322712163085515
         },
         {
          "lat_max": -32.727148509773,
          "lon_max": 153.28125,
          "rain (mm/day)": 1.9990636566302076
         },
         {
          "lat_max": -32.727148509773,
          "lon_max": 154.21875,
          "rain (mm/day)": 2.2773976747075584
         },
         {
          "lat_max": -32.52318718826733,
          "lon_max": 142.3125,
          "rain (mm/day)": 1.1339897466783724
         },
         {
          "lat_max": -32.52318718826733,
          "lon_max": 143.4375,
          "rain (mm/day)": 1.2232871116248174
         },
         {
          "lat_max": -32.52318718826733,
          "lon_max": 144.5625,
          "rain (mm/day)": 1.3531188006716643
         },
         {
          "lat_max": -32.52318718826733,
          "lon_max": 145.6875,
          "rain (mm/day)": 1.526751369968461
         },
         {
          "lat_max": -32.52318718826733,
          "lon_max": 146.8125,
          "rain (mm/day)": 1.7213578783183567
         },
         {
          "lat_max": -32.52318718826733,
          "lon_max": 147.9375,
          "rain (mm/day)": 1.9197299558895098
         },
         {
          "lat_max": -32.52318718826733,
          "lon_max": 149.0625,
          "rain (mm/day)": 2.0560926900168166
         },
         {
          "lat_max": -32.52318718826733,
          "lon_max": 150.1875,
          "rain (mm/day)": 2.091540009370061
         },
         {
          "lat_max": -32.52318718826733,
          "lon_max": 151.3125,
          "rain (mm/day)": 2.204003731372975
         },
         {
          "lat_max": -32.52318718826733,
          "lon_max": 152.4375,
          "rain (mm/day)": 2.7841145005210355
         },
         {
          "lat_max": -32.52318718826733,
          "lon_max": 153.5625,
          "rain (mm/day)": 3.4492335798286335
         },
         {
          "lat_max": -32.5231871882673,
          "lon_max": 142.3125,
          "rain (mm/day)": 0.66664818229492
         },
         {
          "lat_max": -32.5231871882673,
          "lon_max": 143.4375,
          "rain (mm/day)": 0.7206743483076551
         },
         {
          "lat_max": -32.5231871882673,
          "lon_max": 144.5625,
          "rain (mm/day)": 0.7823797347732138
         },
         {
          "lat_max": -32.5231871882673,
          "lon_max": 145.6875,
          "rain (mm/day)": 0.911389085373304
         },
         {
          "lat_max": -32.5231871882673,
          "lon_max": 146.8125,
          "rain (mm/day)": 1.1318977262902152
         },
         {
          "lat_max": -32.5231871882673,
          "lon_max": 147.9375,
          "rain (mm/day)": 1.2783093056376358
         },
         {
          "lat_max": -32.5231871882673,
          "lon_max": 149.0625,
          "rain (mm/day)": 1.48078373502475
         },
         {
          "lat_max": -32.5231871882673,
          "lon_max": 150.1875,
          "rain (mm/day)": 1.8261747260190937
         },
         {
          "lat_max": -32.5231871882673,
          "lon_max": 151.3125,
          "rain (mm/day)": 1.9661011601510512
         },
         {
          "lat_max": -32.5231871882673,
          "lon_max": 152.4375,
          "rain (mm/day)": 2.3043984994606213
         },
         {
          "lat_max": -32.5231871882673,
          "lon_max": 153.5625,
          "rain (mm/day)": 2.983661661185617
         },
         {
          "lat_max": -32.523185,
          "lon_max": 142.3125,
          "rain (mm/day)": 0.7184712133968754
         },
         {
          "lat_max": -32.523185,
          "lon_max": 143.4375,
          "rain (mm/day)": 0.8002642435253489
         },
         {
          "lat_max": -32.523185,
          "lon_max": 144.5625,
          "rain (mm/day)": 0.8848423618717983
         },
         {
          "lat_max": -32.523185,
          "lon_max": 145.6875,
          "rain (mm/day)": 1.0314584354282996
         },
         {
          "lat_max": -32.523185,
          "lon_max": 146.8125,
          "rain (mm/day)": 1.2033275966531705
         },
         {
          "lat_max": -32.523185,
          "lon_max": 147.9375,
          "rain (mm/day)": 1.2857700038089874
         },
         {
          "lat_max": -32.523185,
          "lon_max": 149.0625,
          "rain (mm/day)": 1.5032030171276816
         },
         {
          "lat_max": -32.523185,
          "lon_max": 150.1875,
          "rain (mm/day)": 1.6943510646240278
         },
         {
          "lat_max": -32.523185,
          "lon_max": 151.3125,
          "rain (mm/day)": 1.5756516784593821
         },
         {
          "lat_max": -32.523185,
          "lon_max": 152.4375,
          "rain (mm/day)": 1.6586033193831988
         },
         {
          "lat_max": -32.523185,
          "lon_max": 153.5625,
          "rain (mm/day)": 2.278292727053771
         },
         {
          "lat_max": -32.5,
          "lon_max": 142.5,
          "rain (mm/day)": 0.9065750333437018
         },
         {
          "lat_max": -32.5,
          "lon_max": 144.375,
          "rain (mm/day)": 1.0715179249157143
         },
         {
          "lat_max": -32.5,
          "lon_max": 146.25,
          "rain (mm/day)": 1.3574023901977368
         },
         {
          "lat_max": -32.5,
          "lon_max": 148.125,
          "rain (mm/day)": 1.7562614597801651
         },
         {
          "lat_max": -32.5,
          "lon_max": 150,
          "rain (mm/day)": 2.1054292426949432
         },
         {
          "lat_max": -32.5,
          "lon_max": 151.875,
          "rain (mm/day)": 2.178512526773409
         },
         {
          "lat_max": -32.5,
          "lon_max": 153.75,
          "rain (mm/day)": 2.73312326142757
         },
         {
          "lat_max": -32.40506329113924,
          "lon_max": 143,
          "rain (mm/day)": 1.0303937089145498
         },
         {
          "lat_max": -32.40506329113924,
          "lon_max": 145,
          "rain (mm/day)": 1.1257187129641053
         },
         {
          "lat_max": -32.40506329113924,
          "lon_max": 147,
          "rain (mm/day)": 1.7364716461518843
         },
         {
          "lat_max": -32.40506329113924,
          "lon_max": 149,
          "rain (mm/day)": 1.575246495400634
         },
         {
          "lat_max": -32.40506329113924,
          "lon_max": 151,
          "rain (mm/day)": 4.046129776093829
         },
         {
          "lat_max": -32.40506329113924,
          "lon_max": 153,
          "rain (mm/day)": 1.733369883605103
         },
         {
          "lat_max": -32.40506329113924,
          "lon_max": 155,
          "rain (mm/day)": 3.1566254582615154
         },
         {
          "lat_max": -32.21852474395423,
          "lon_max": 142.734375,
          "rain (mm/day)": 1.333502742510725
         },
         {
          "lat_max": -32.21852474395423,
          "lon_max": 144.140625,
          "rain (mm/day)": 1.407230363611292
         },
         {
          "lat_max": -32.21852474395423,
          "lon_max": 145.546875,
          "rain (mm/day)": 1.5642990694805086
         },
         {
          "lat_max": -32.21852474395423,
          "lon_max": 146.953125,
          "rain (mm/day)": 1.8069326022375936
         },
         {
          "lat_max": -32.21852474395423,
          "lon_max": 148.359375,
          "rain (mm/day)": 2.151152643027059
         },
         {
          "lat_max": -32.21852474395423,
          "lon_max": 149.765625,
          "rain (mm/day)": 2.4815811645728765
         },
         {
          "lat_max": -32.21852474395423,
          "lon_max": 151.171875,
          "rain (mm/day)": 2.6771773157308347
         },
         {
          "lat_max": -32.21852474395423,
          "lon_max": 152.578125,
          "rain (mm/day)": 3.229237073141453
         },
         {
          "lat_max": -32.21852474395423,
          "lon_max": 153.984375,
          "rain (mm/day)": 3.80786274044143
         },
         {
          "lat_max": -32.21052631578948,
          "lon_max": 143.75,
          "rain (mm/day)": 1.2787163551068976
         },
         {
          "lat_max": -32.21052631578948,
          "lon_max": 146.25,
          "rain (mm/day)": 1.6087625913525594
         },
         {
          "lat_max": -32.21052631578948,
          "lon_max": 148.75,
          "rain (mm/day)": 2.2111078623049427
         },
         {
          "lat_max": -32.21052631578948,
          "lon_max": 151.25,
          "rain (mm/day)": 2.4668726823479
         },
         {
          "lat_max": -32.21052631578948,
          "lon_max": 153.75,
          "rain (mm/day)": 3.440626442736294
         },
         {
          "lat_max": -32.1,
          "lon_max": 142.275,
          "rain (mm/day)": 0.7658428464127276
         },
         {
          "lat_max": -32.1,
          "lon_max": 143.525,
          "rain (mm/day)": 0.7725642507211351
         },
         {
          "lat_max": -32.1,
          "lon_max": 144.775,
          "rain (mm/day)": 0.8605139644421863
         },
         {
          "lat_max": -32.1,
          "lon_max": 146.025,
          "rain (mm/day)": 1.031889716402289
         },
         {
          "lat_max": -32.1,
          "lon_max": 147.275,
          "rain (mm/day)": 1.1647130717231773
         },
         {
          "lat_max": -32.1,
          "lon_max": 148.525,
          "rain (mm/day)": 1.2843380904969937
         },
         {
          "lat_max": -32.1,
          "lon_max": 149.775,
          "rain (mm/day)": 1.875484528256127
         },
         {
          "lat_max": -32.1,
          "lon_max": 151.025,
          "rain (mm/day)": 2.2275603580174272
         },
         {
          "lat_max": -32.1,
          "lon_max": 152.275,
          "rain (mm/day)": 2.6458777263210322
         },
         {
          "lat_max": -32.1,
          "lon_max": 153.525,
          "rain (mm/day)": 2.7393279717874415
         },
         {
          "lat_max": -32.04188481675392,
          "lon_max": 141.875,
          "rain (mm/day)": 1.1680093604940005
         },
         {
          "lat_max": -32.04188481675392,
          "lon_max": 143.125,
          "rain (mm/day)": 1.2186966982331802
         },
         {
          "lat_max": -32.04188481675392,
          "lon_max": 144.375,
          "rain (mm/day)": 1.376503221852325
         },
         {
          "lat_max": -32.04188481675392,
          "lon_max": 145.625,
          "rain (mm/day)": 1.602025163377272
         },
         {
          "lat_max": -32.04188481675392,
          "lon_max": 146.875,
          "rain (mm/day)": 1.8506000979747776
         },
         {
          "lat_max": -32.04188481675392,
          "lon_max": 148.125,
          "rain (mm/day)": 2.073803734468229
         },
         {
          "lat_max": -32.04188481675392,
          "lon_max": 149.375,
          "rain (mm/day)": 2.414544762084648
         },
         {
          "lat_max": -32.04188481675392,
          "lon_max": 150.625,
          "rain (mm/day)": 2.543438133616325
         },
         {
          "lat_max": -32.04188481675392,
          "lon_max": 151.875,
          "rain (mm/day)": 2.9855235868697636
         },
         {
          "lat_max": -32.04188481675392,
          "lon_max": 153.125,
          "rain (mm/day)": 3.178514385635344
         },
         {
          "lat_max": -32.04188481675392,
          "lon_max": 154.375,
          "rain (mm/day)": 3.753922485627969
         },
         {
          "lat_max": -32,
          "lon_max": 141.25,
          "rain (mm/day)": null
         },
         {
          "lat_max": -32,
          "lon_max": 142.5,
          "rain (mm/day)": 0.6680158210668088
         },
         {
          "lat_max": -32,
          "lon_max": 143.75000000000003,
          "rain (mm/day)": 0.7063696394750374
         },
         {
          "lat_max": -32,
          "lon_max": 145,
          "rain (mm/day)": 0.7984311050542319
         },
         {
          "lat_max": -32,
          "lon_max": 146.25,
          "rain (mm/day)": 0.9286620098131221
         },
         {
          "lat_max": -32,
          "lon_max": 147.5,
          "rain (mm/day)": 1.129705650613383
         },
         {
          "lat_max": -32,
          "lon_max": 148.75,
          "rain (mm/day)": 1.411260632858734
         },
         {
          "lat_max": -32,
          "lon_max": 150,
          "rain (mm/day)": 1.6331034236815698
         },
         {
          "lat_max": -32,
          "lon_max": 151.25,
          "rain (mm/day)": 1.7936083628510224
         },
         {
          "lat_max": -32,
          "lon_max": 152.5,
          "rain (mm/day)": 2.0160709180187606
         },
         {
          "lat_max": -32,
          "lon_max": 153.75,
          "rain (mm/day)": 2.618150236190781
         },
         {
          "lat_max": -31.875000000000004,
          "lon_max": 142.5,
          "rain (mm/day)": 0.5485179437095428
         },
         {
          "lat_max": -31.875000000000004,
          "lon_max": 144.375,
          "rain (mm/day)": 0.5904351061503412
         },
         {
          "lat_max": -31.875000000000004,
          "lon_max": 146.25,
          "rain (mm/day)": 0.7374885213354186
         },
         {
          "lat_max": -31.875000000000004,
          "lon_max": 148.125,
          "rain (mm/day)": 0.9259635501734285
         },
         {
          "lat_max": -31.875000000000004,
          "lon_max": 150,
          "rain (mm/day)": 1.14730651092895
         },
         {
          "lat_max": -31.875000000000004,
          "lon_max": 151.875,
          "rain (mm/day)": 1.4928293783500046
         },
         {
          "lat_max": -31.875000000000004,
          "lon_max": 153.75,
          "rain (mm/day)": 2.1132139992305055
         },
         {
          "lat_max": -31.875,
          "lon_max": 143.4375,
          "rain (mm/day)": 1.1632675398712702
         },
         {
          "lat_max": -31.875,
          "lon_max": 144.375,
          "rain (mm/day)": 1.032623105557439
         },
         {
          "lat_max": -31.875,
          "lon_max": 145.3125,
          "rain (mm/day)": 1.4937678618392103
         },
         {
          "lat_max": -31.875,
          "lon_max": 146.25,
          "rain (mm/day)": 1.2052300148558253
         },
         {
          "lat_max": -31.875,
          "lon_max": 147.1875,
          "rain (mm/day)": 1.8022008373491574
         },
         {
          "lat_max": -31.875,
          "lon_max": 148.125,
          "rain (mm/day)": 1.4614129869453714
         },
         {
          "lat_max": -31.875,
          "lon_max": 149.0625,
          "rain (mm/day)": 2.1847965837098333
         },
         {
          "lat_max": -31.875,
          "lon_max": 150,
          "rain (mm/day)": 1.5988575206522748
         },
         {
          "lat_max": -31.875,
          "lon_max": 150.9375,
          "rain (mm/day)": 2.3861127031518876
         },
         {
          "lat_max": -31.875,
          "lon_max": 151.875,
          "rain (mm/day)": 1.7974676469636954
         },
         {
          "lat_max": -31.875,
          "lon_max": 152.8125,
          "rain (mm/day)": 2.6371228654109484
         },
         {
          "lat_max": -31.875,
          "lon_max": 153.75,
          "rain (mm/day)": 2.2278069983826403
         },
         {
          "lat_max": -31.875,
          "lon_max": 154.6875,
          "rain (mm/day)": 3.5846495900868165
         },
         {
          "lat_max": -31.875,
          "lon_max": 155.625,
          "rain (mm/day)": 1.8914526072480122
         },
         {
          "lat_max": -31.792087986243843,
          "lon_max": 142.03125,
          "rain (mm/day)": 0.3341012740705296
         },
         {
          "lat_max": -31.792087986243843,
          "lon_max": 142.96875,
          "rain (mm/day)": 0.36289545511920457
         },
         {
          "lat_max": -31.792087986243843,
          "lon_max": 143.90625,
          "rain (mm/day)": 0.3696293944938204
         },
         {
          "lat_max": -31.792087986243843,
          "lon_max": 144.84375,
          "rain (mm/day)": 0.4145981876406287
         },
         {
          "lat_max": -31.792087986243843,
          "lon_max": 145.78125,
          "rain (mm/day)": 0.4844409539735463
         },
         {
          "lat_max": -31.792087986243843,
          "lon_max": 146.71875,
          "rain (mm/day)": 0.5537876636494935
         },
         {
          "lat_max": -31.792087986243843,
          "lon_max": 147.65625,
          "rain (mm/day)": 0.5791808498387837
         },
         {
          "lat_max": -31.792087986243843,
          "lon_max": 148.59375,
          "rain (mm/day)": 0.6725239864523365
         },
         {
          "lat_max": -31.792087986243843,
          "lon_max": 149.53125,
          "rain (mm/day)": 0.8223621459979625
         },
         {
          "lat_max": -31.792087986243843,
          "lon_max": 150.46875,
          "rain (mm/day)": 0.8948491249875163
         },
         {
          "lat_max": -31.792087986243843,
          "lon_max": 151.40625,
          "rain (mm/day)": 0.960687135572136
         },
         {
          "lat_max": -31.792087986243843,
          "lon_max": 152.34375,
          "rain (mm/day)": 1.1284502408245611
         },
         {
          "lat_max": -31.792087986243843,
          "lon_max": 153.28125,
          "rain (mm/day)": 1.9636159452137794
         },
         {
          "lat_max": -31.792087986243843,
          "lon_max": 154.21875,
          "rain (mm/day)": 2.101275923879271
         },
         {
          "lat_max": -31.709369250120464,
          "lon_max": 143.4375,
          "rain (mm/day)": 0.715353749082426
         },
         {
          "lat_max": -31.709369250120464,
          "lon_max": 145.3125,
          "rain (mm/day)": 0.8678875173682666
         },
         {
          "lat_max": -31.709369250120464,
          "lon_max": 147.1875,
          "rain (mm/day)": 1.1077794420316838
         },
         {
          "lat_max": -31.709369250120464,
          "lon_max": 149.0625,
          "rain (mm/day)": 1.3381281084469565
         },
         {
          "lat_max": -31.709369250120464,
          "lon_max": 150.9375,
          "rain (mm/day)": 1.4752602850262748
         },
         {
          "lat_max": -31.709369250120464,
          "lon_max": 152.8125,
          "rain (mm/day)": 2.2287807693084067
         },
         {
          "lat_max": -31.709369250120464,
          "lon_max": 154.6875,
          "rain (mm/day)": 2.8940511802169477
         },
         {
          "lat_max": -31.5,
          "lon_max": 143,
          "rain (mm/day)": 1.3720975336193306
         },
         {
          "lat_max": -31.5,
          "lon_max": 145,
          "rain (mm/day)": 1.6079023875921665
         },
         {
          "lat_max": -31.5,
          "lon_max": 147,
          "rain (mm/day)": 2.065128589338796
         },
         {
          "lat_max": -31.5,
          "lon_max": 149,
          "rain (mm/day)": 2.8194740701376144
         },
         {
          "lat_max": -31.5,
          "lon_max": 151,
          "rain (mm/day)": 3.4572026761298624
         },
         {
          "lat_max": -31.5,
          "lon_max": 153,
          "rain (mm/day)": 3.931468063469193
         },
         {
          "lat_max": -31.5,
          "lon_max": 155,
          "rain (mm/day)": 3.973417478925314
         },
         {
          "lat_max": -31.4017,
          "lon_max": 142.3125,
          "rain (mm/day)": 0.7304956493253434
         },
         {
          "lat_max": -31.4017,
          "lon_max": 143.4375,
          "rain (mm/day)": 0.8073801154982043
         },
         {
          "lat_max": -31.4017,
          "lon_max": 144.5625,
          "rain (mm/day)": 0.8623907542271503
         },
         {
          "lat_max": -31.4017,
          "lon_max": 145.6875,
          "rain (mm/day)": 1.0427645020072174
         },
         {
          "lat_max": -31.4017,
          "lon_max": 146.8125,
          "rain (mm/day)": 1.2071881291808915
         },
         {
          "lat_max": -31.4017,
          "lon_max": 147.9375,
          "rain (mm/day)": 1.245642731478426
         },
         {
          "lat_max": -31.4017,
          "lon_max": 149.0625,
          "rain (mm/day)": 1.4058729390744924
         },
         {
          "lat_max": -31.4017,
          "lon_max": 150.1875,
          "rain (mm/day)": 1.6313004457132634
         },
         {
          "lat_max": -31.4017,
          "lon_max": 151.3125,
          "rain (mm/day)": 1.7171498073584226
         },
         {
          "lat_max": -31.4017,
          "lon_max": 152.4375,
          "rain (mm/day)": 1.882348711479703
         },
         {
          "lat_max": -31.4017,
          "lon_max": 153.5625,
          "rain (mm/day)": 2.103618173460443
         },
         {
          "lat_max": -31.40169942354492,
          "lon_max": 142.3125,
          "rain (mm/day)": 1.1328466689821326
         },
         {
          "lat_max": -31.40169942354492,
          "lon_max": 143.4375,
          "rain (mm/day)": 1.2378318414850753
         },
         {
          "lat_max": -31.40169942354492,
          "lon_max": 144.5625,
          "rain (mm/day)": 1.355123065881633
         },
         {
          "lat_max": -31.40169942354492,
          "lon_max": 145.6875,
          "rain (mm/day)": 1.5122015700536964
         },
         {
          "lat_max": -31.40169942354492,
          "lon_max": 146.8125,
          "rain (mm/day)": 1.682775681532617
         },
         {
          "lat_max": -31.40169942354492,
          "lon_max": 147.9375,
          "rain (mm/day)": 1.8676170218594348
         },
         {
          "lat_max": -31.40169942354492,
          "lon_max": 149.0625,
          "rain (mm/day)": 2.047582931954205
         },
         {
          "lat_max": -31.40169942354492,
          "lon_max": 150.1875,
          "rain (mm/day)": 2.194611370534103
         },
         {
          "lat_max": -31.40169942354492,
          "lon_max": 151.3125,
          "rain (mm/day)": 2.2724002538671
         },
         {
          "lat_max": -31.40169942354492,
          "lon_max": 152.4375,
          "rain (mm/day)": 2.4910623347832472
         },
         {
          "lat_max": -31.40169942354492,
          "lon_max": 153.5625,
          "rain (mm/day)": 3.0310206900995844
         },
         {
          "lat_max": -31.401699423544898,
          "lon_max": 142.3125,
          "rain (mm/day)": 0.7187096210981835
         },
         {
          "lat_max": -31.401699423544898,
          "lon_max": 143.4375,
          "rain (mm/day)": 0.7924751568349162
         },
         {
          "lat_max": -31.401699423544898,
          "lon_max": 144.5625,
          "rain (mm/day)": 0.82541396146456
         },
         {
          "lat_max": -31.401699423544898,
          "lon_max": 145.6875,
          "rain (mm/day)": 0.9710993190026632
         },
         {
          "lat_max": -31.401699423544898,
          "lon_max": 146.8125,
          "rain (mm/day)": 1.1613041188726978
         },
         {
          "lat_max": -31.401699423544898,
          "lon_max": 147.9375,
          "rain (mm/day)": 1.2566175225628353
         },
         {
          "lat_max": -31.401699423544898,
          "lon_max": 149.0625,
          "rain (mm/day)": 1.348305336675051
         },
         {
          "lat_max": -31.401699423544898,
          "lon_max": 150.1875,
          "rain (mm/day)": 1.5530191480344007
         },
         {
          "lat_max": -31.401699423544898,
          "lon_max": 151.3125,
          "rain (mm/day)": 1.8869612395071853
         },
         {
          "lat_max": -31.401699423544898,
          "lon_max": 152.4375,
          "rain (mm/day)": 2.17275280356567
         },
         {
          "lat_max": -31.401699423544898,
          "lon_max": 153.5625,
          "rain (mm/day)": 2.60763304944361
         },
         {
          "lat_max": -31.25,
          "lon_max": 142.5,
          "rain (mm/day)": 0.8742170083969294
         },
         {
          "lat_max": -31.25,
          "lon_max": 144.375,
          "rain (mm/day)": 1.0706581938146618
         },
         {
          "lat_max": -31.25,
          "lon_max": 146.25,
          "rain (mm/day)": 1.3720080841215214
         },
         {
          "lat_max": -31.25,
          "lon_max": 148.125,
          "rain (mm/day)": 1.7070100528645153
         },
         {
          "lat_max": -31.25,
          "lon_max": 150,
          "rain (mm/day)": 2.1360883692448387
         },
         {
          "lat_max": -31.25,
          "lon_max": 151.875,
          "rain (mm/day)": 2.2893461741694465
         },
         {
          "lat_max": -31.25,
          "lon_max": 153.75,
          "rain (mm/day)": 2.7630188182012896
         },
         {
          "lat_max": -31.1,
          "lon_max": 142.275,
          "rain (mm/day)": 0.8037582340515078
         },
         {
          "lat_max": -31.1,
          "lon_max": 143.525,
          "rain (mm/day)": 0.7876488262003859
         },
         {
          "lat_max": -31.1,
          "lon_max": 144.775,
          "rain (mm/day)": 0.8373061227788127
         },
         {
          "lat_max": -31.1,
          "lon_max": 146.025,
          "rain (mm/day)": 1.031983247848824
         },
         {
          "lat_max": -31.1,
          "lon_max": 147.275,
          "rain (mm/day)": 1.0991374833348841
         },
         {
          "lat_max": -31.1,
          "lon_max": 148.525,
          "rain (mm/day)": 1.199999796980994
         },
         {
          "lat_max": -31.1,
          "lon_max": 149.775,
          "rain (mm/day)": 1.6456203380190813
         },
         {
          "lat_max": -31.1,
          "lon_max": 151.025,
          "rain (mm/day)": 2.1691780145542054
         },
         {
          "lat_max": -31.1,
          "lon_max": 152.275,
          "rain (mm/day)": 3.6913223795139185
         },
         {
          "lat_max": -31.1,
          "lon_max": 153.525,
          "rain (mm/day)": 2.987838513568764
         },
         {
          "lat_max": -31.09947643979057,
          "lon_max": 141.875,
          "rain (mm/day)": 1.2034950570939476
         },
         {
          "lat_max": -31.09947643979057,
          "lon_max": 143.125,
          "rain (mm/day)": 1.3121151025598423
         },
         {
          "lat_max": -31.09947643979057,
          "lon_max": 144.375,
          "rain (mm/day)": 1.4249244914613526
         },
         {
          "lat_max": -31.09947643979057,
          "lon_max": 145.625,
          "rain (mm/day)": 1.6178672242308285
         },
         {
          "lat_max": -31.09947643979057,
          "lon_max": 146.875,
          "rain (mm/day)": 1.8376801063260289
         },
         {
          "lat_max": -31.09947643979057,
          "lon_max": 148.125,
          "rain (mm/day)": 2.036802824119233
         },
         {
          "lat_max": -31.09947643979057,
          "lon_max": 149.375,
          "rain (mm/day)": 2.2997113899847137
         },
         {
          "lat_max": -31.09947643979057,
          "lon_max": 150.625,
          "rain (mm/day)": 2.614148256463756
         },
         {
          "lat_max": -31.09947643979057,
          "lon_max": 151.875,
          "rain (mm/day)": 2.7950379340046423
         },
         {
          "lat_max": -31.09947643979057,
          "lon_max": 153.125,
          "rain (mm/day)": 3.7515751847515664
         },
         {
          "lat_max": -31.09947643979057,
          "lon_max": 154.375,
          "rain (mm/day)": 4.025439608280474
         },
         {
          "lat_max": -31,
          "lon_max": 141.25,
          "rain (mm/day)": null
         },
         {
          "lat_max": -31,
          "lon_max": 142.5,
          "rain (mm/day)": 0.6366568229611697
         },
         {
          "lat_max": -31,
          "lon_max": 143.75000000000003,
          "rain (mm/day)": 0.6674489877134855
         },
         {
          "lat_max": -31,
          "lon_max": 145,
          "rain (mm/day)": 0.7453894986823981
         },
         {
          "lat_max": -31,
          "lon_max": 146.25,
          "rain (mm/day)": 0.8787987887809487
         },
         {
          "lat_max": -31,
          "lon_max": 147.5,
          "rain (mm/day)": 1.0442971977703215
         },
         {
          "lat_max": -31,
          "lon_max": 148.75,
          "rain (mm/day)": 1.3111289781660393
         },
         {
          "lat_max": -31,
          "lon_max": 150,
          "rain (mm/day)": 1.580565328490525
         },
         {
          "lat_max": -31,
          "lon_max": 151.25,
          "rain (mm/day)": 1.732147696347867
         },
         {
          "lat_max": -31,
          "lon_max": 152.5,
          "rain (mm/day)": 2.156720309529468
         },
         {
          "lat_max": -31,
          "lon_max": 153.75,
          "rain (mm/day)": 2.502382531407103
         },
         {
          "lat_max": -30.85702737433103,
          "lon_max": 142.03125,
          "rain (mm/day)": 0.29188562897947823
         },
         {
          "lat_max": -30.85702737433103,
          "lon_max": 142.96875,
          "rain (mm/day)": 0.3428523076244959
         },
         {
          "lat_max": -30.85702737433103,
          "lon_max": 143.90625,
          "rain (mm/day)": 0.34804338467288365
         },
         {
          "lat_max": -30.85702737433103,
          "lon_max": 144.84375,
          "rain (mm/day)": 0.3789140596729289
         },
         {
          "lat_max": -30.85702737433103,
          "lon_max": 145.78125,
          "rain (mm/day)": 0.4303668337332232
         },
         {
          "lat_max": -30.85702737433103,
          "lon_max": 146.71875,
          "rain (mm/day)": 0.4955961281614267
         },
         {
          "lat_max": -30.85702737433103,
          "lon_max": 147.65625,
          "rain (mm/day)": 0.529308481654418
         },
         {
          "lat_max": -30.85702737433103,
          "lon_max": 148.59375,
          "rain (mm/day)": 0.5683453690329474
         },
         {
          "lat_max": -30.85702737433103,
          "lon_max": 149.53125,
          "rain (mm/day)": 0.6894154301657123
         },
         {
          "lat_max": -30.85702737433103,
          "lon_max": 150.46875,
          "rain (mm/day)": 0.8439857698552692
         },
         {
          "lat_max": -30.85702737433103,
          "lon_max": 151.40625,
          "rain (mm/day)": 1.0801827568425388
         },
         {
          "lat_max": -30.85702737433103,
          "lon_max": 152.34375,
          "rain (mm/day)": 1.2426681580226477
         },
         {
          "lat_max": -30.85702737433103,
          "lon_max": 153.28125,
          "rain (mm/day)": 2.5182426797173
         },
         {
          "lat_max": -30.85702737433103,
          "lon_max": 154.21875,
          "rain (mm/day)": 2.0918394633626236
         },
         {
          "lat_max": -30.81771311536081,
          "lon_max": 142.734375,
          "rain (mm/day)": 1.297693223721006
         },
         {
          "lat_max": -30.81771311536081,
          "lon_max": 144.140625,
          "rain (mm/day)": 1.414384725264574
         },
         {
          "lat_max": -30.81771311536081,
          "lon_max": 145.546875,
          "rain (mm/day)": 1.5903394157939066
         },
         {
          "lat_max": -30.81771311536081,
          "lon_max": 146.953125,
          "rain (mm/day)": 1.8039458187808868
         },
         {
          "lat_max": -30.81771311536081,
          "lon_max": 148.359375,
          "rain (mm/day)": 2.0680300880005125
         },
         {
          "lat_max": -30.81771311536081,
          "lon_max": 149.765625,
          "rain (mm/day)": 2.4282686585685482
         },
         {
          "lat_max": -30.81771311536081,
          "lon_max": 151.171875,
          "rain (mm/day)": 2.8116869241408455
         },
         {
          "lat_max": -30.81771311536081,
          "lon_max": 152.578125,
          "rain (mm/day)": 3.4279542320836454
         },
         {
          "lat_max": -30.81771311536081,
          "lon_max": 153.984375,
          "rain (mm/day)": 4.127153823228809
         },
         {
          "lat_max": -30.70001521,
          "lon_max": 144.84375,
          "rain (mm/day)": 1.1914789213630956
         },
         {
          "lat_max": -30.70001521,
          "lon_max": 147.65625,
          "rain (mm/day)": 1.3662443487816534
         },
         {
          "lat_max": -30.70001521,
          "lon_max": 150.46875,
          "rain (mm/day)": 1.9748272469257886
         },
         {
          "lat_max": -30.70001521,
          "lon_max": 153.28125,
          "rain (mm/day)": 2.991144760252469
         },
         {
          "lat_max": -30.69665175175337,
          "lon_max": 144.84375,
          "rain (mm/day)": 1.251823542689028
         },
         {
          "lat_max": -30.69665175175337,
          "lon_max": 147.65625,
          "rain (mm/day)": 1.5503316999405643
         },
         {
          "lat_max": -30.69665175175337,
          "lon_max": 150.46875,
          "rain (mm/day)": 1.8996972411775803
         },
         {
          "lat_max": -30.69665175175337,
          "lon_max": 153.28125,
          "rain (mm/day)": 2.390063781446144
         },
         {
          "lat_max": -30.625,
          "lon_max": 143.4375,
          "rain (mm/day)": 1.1639870686220248
         },
         {
          "lat_max": -30.625,
          "lon_max": 145.3125,
          "rain (mm/day)": 1.4704241348612395
         },
         {
          "lat_max": -30.625,
          "lon_max": 147.1875,
          "rain (mm/day)": 1.8241441897159996
         },
         {
          "lat_max": -30.625,
          "lon_max": 149.0625,
          "rain (mm/day)": 2.2484923229845575
         },
         {
          "lat_max": -30.625,
          "lon_max": 150.9375,
          "rain (mm/day)": 2.453608130536884
         },
         {
          "lat_max": -30.625,
          "lon_max": 152.8125,
          "rain (mm/day)": 2.8054454146171217
         },
         {
          "lat_max": -30.625,
          "lon_max": 154.6875,
          "rain (mm/day)": 3.621410827691872
         },
         {
          "lat_max": -30.37974683544305,
          "lon_max": 143,
          "rain (mm/day)": 1.394371369360006
         },
         {
          "lat_max": -30.37974683544305,
          "lon_max": 145,
          "rain (mm/day)": 1.1596721633992562
         },
         {
          "lat_max": -30.37974683544305,
          "lon_max": 147,
          "rain (mm/day)": 1.830598874949466
         },
         {
          "lat_max": -30.37974683544305,
          "lon_max": 149,
          "rain (mm/day)": 1.5826982020954867
         },
         {
          "lat_max": -30.37974683544305,
          "lon_max": 151,
          "rain (mm/day)": 2.2933912151058022
         },
         {
          "lat_max": -30.37974683544305,
          "lon_max": 153,
          "rain (mm/day)": 5.578502743622205
         },
         {
          "lat_max": -30.37974683544305,
          "lon_max": 155,
          "rain (mm/day)": 2.526785365726056
         },
         {
          "lat_max": -30.31578947368421,
          "lon_max": 143.75,
          "rain (mm/day)": 1.3596069890731424
         },
         {
          "lat_max": -30.31578947368421,
          "lon_max": 146.25,
          "rain (mm/day)": 1.7005548773462142
         },
         {
          "lat_max": -30.31578947368421,
          "lon_max": 148.75,
          "rain (mm/day)": 2.1912381785978456
         },
         {
          "lat_max": -30.31578947368421,
          "lon_max": 151.25,
          "rain (mm/day)": 2.6452404009635506
         },
         {
          "lat_max": -30.31578947368421,
          "lon_max": 153.75,
          "rain (mm/day)": 3.3657661242504053
         },
         {
          "lat_max": -30.280215,
          "lon_max": 142.3125,
          "rain (mm/day)": 0.7219740651199227
         },
         {
          "lat_max": -30.280215,
          "lon_max": 143.4375,
          "rain (mm/day)": 0.8197071470676385
         },
         {
          "lat_max": -30.280215,
          "lon_max": 144.5625,
          "rain (mm/day)": 0.8458315197258367
         },
         {
          "lat_max": -30.280215,
          "lon_max": 145.6875,
          "rain (mm/day)": 0.9928452269737064
         },
         {
          "lat_max": -30.280215,
          "lon_max": 146.8125,
          "rain (mm/day)": 1.1577402629487286
         },
         {
          "lat_max": -30.280215,
          "lon_max": 147.9375,
          "rain (mm/day)": 1.2085810581938152
         },
         {
          "lat_max": -30.280215,
          "lon_max": 149.0625,
          "rain (mm/day)": 1.3716290526466546
         },
         {
          "lat_max": -30.280215,
          "lon_max": 150.1875,
          "rain (mm/day)": 1.655489786146952
         },
         {
          "lat_max": -30.280215,
          "lon_max": 151.3125,
          "rain (mm/day)": 2.0173746179036844
         },
         {
          "lat_max": -30.280215,
          "lon_max": 152.4375,
          "rain (mm/day)": 2.463249058613717
         },
         {
          "lat_max": -30.280215,
          "lon_max": 153.5625,
          "rain (mm/day)": 2.2481744053038715
         },
         {
          "lat_max": -30.28021148016025,
          "lon_max": 142.3125,
          "rain (mm/day)": 0.7094404187601104
         },
         {
          "lat_max": -30.28021148016025,
          "lon_max": 143.4375,
          "rain (mm/day)": 0.8676558323847972
         },
         {
          "lat_max": -30.28021148016025,
          "lon_max": 144.5625,
          "rain (mm/day)": 0.8680854013128566
         },
         {
          "lat_max": -30.28021148016025,
          "lon_max": 145.6875,
          "rain (mm/day)": 0.9814148143372112
         },
         {
          "lat_max": -30.28021148016025,
          "lon_max": 146.8125,
          "rain (mm/day)": 1.1581661689768707
         },
         {
          "lat_max": -30.28021148016025,
          "lon_max": 147.9375,
          "rain (mm/day)": 1.2018984950785585
         },
         {
          "lat_max": -30.28021148016025,
          "lon_max": 149.0625,
          "rain (mm/day)": 1.3006848741987376
         },
         {
          "lat_max": -30.28021148016025,
          "lon_max": 150.1875,
          "rain (mm/day)": 1.4416203735983384
         },
         {
          "lat_max": -30.28021148016025,
          "lon_max": 151.3125,
          "rain (mm/day)": 1.7979988134685823
         },
         {
          "lat_max": -30.28021148016025,
          "lon_max": 152.4375,
          "rain (mm/day)": 2.576711422541841
         },
         {
          "lat_max": -30.28021148016025,
          "lon_max": 153.5625,
          "rain (mm/day)": 3.25696138280477
         },
         {
          "lat_max": -30.28021148016024,
          "lon_max": 142.3125,
          "rain (mm/day)": 1.159452386627919
         },
         {
          "lat_max": -30.28021148016024,
          "lon_max": 143.4375,
          "rain (mm/day)": 1.258465132623443
         },
         {
          "lat_max": -30.28021148016024,
          "lon_max": 144.5625,
          "rain (mm/day)": 1.3786833369816296
         },
         {
          "lat_max": -30.28021148016024,
          "lon_max": 145.6875,
          "rain (mm/day)": 1.545526865825247
         },
         {
          "lat_max": -30.28021148016024,
          "lon_max": 146.8125,
          "rain (mm/day)": 1.7031324573273787
         },
         {
          "lat_max": -30.28021148016024,
          "lon_max": 147.9375,
          "rain (mm/day)": 1.882888350421505
         },
         {
          "lat_max": -30.28021148016024,
          "lon_max": 149.0625,
          "rain (mm/day)": 2.0621623945498615
         },
         {
          "lat_max": -30.28021148016024,
          "lon_max": 150.1875,
          "rain (mm/day)": 2.2189841891902984
         },
         {
          "lat_max": -30.28021148016024,
          "lon_max": 151.3125,
          "rain (mm/day)": 2.3509491188302247
         },
         {
          "lat_max": -30.28021148016024,
          "lon_max": 152.4375,
          "rain (mm/day)": 2.4767449241558164
         },
         {
          "lat_max": -30.28021148016024,
          "lon_max": 153.5625,
          "rain (mm/day)": 2.9603906045039103
         },
         {
          "lat_max": -30.157068062827232,
          "lon_max": 141.875,
          "rain (mm/day)": 1.0525105441245446
         },
         {
          "lat_max": -30.157068062827232,
          "lon_max": 143.125,
          "rain (mm/day)": 1.1510068283505144
         },
         {
          "lat_max": -30.157068062827232,
          "lon_max": 144.375,
          "rain (mm/day)": 1.3113297571709495
         },
         {
          "lat_max": -30.157068062827232,
          "lon_max": 145.625,
          "rain (mm/day)": 1.5092966492449442
         },
         {
          "lat_max": -30.157068062827232,
          "lon_max": 146.875,
          "rain (mm/day)": 1.7519681235271996
         },
         {
          "lat_max": -30.157068062827232,
          "lon_max": 148.125,
          "rain (mm/day)": 1.9694264348346986
         },
         {
          "lat_max": -30.157068062827232,
          "lon_max": 149.375,
          "rain (mm/day)": 2.2383798924129845
         },
         {
          "lat_max": -30.157068062827232,
          "lon_max": 150.625,
          "rain (mm/day)": 3.104186336451125
         },
         {
          "lat_max": -30.157068062827232,
          "lon_max": 151.875,
          "rain (mm/day)": 2.887538990913997
         },
         {
          "lat_max": -30.157068062827232,
          "lon_max": 153.125,
          "rain (mm/day)": 3.6194133153009567
         },
         {
          "lat_max": -30.157068062827232,
          "lon_max": 154.375,
          "rain (mm/day)": 4.246943781013811
         },
         {
          "lat_max": -30.157068062827225,
          "lon_max": 141.875,
          "rain (mm/day)": 1.1820877942128936
         },
         {
          "lat_max": -30.157068062827225,
          "lon_max": 143.125,
          "rain (mm/day)": 1.3277322382973118
         },
         {
          "lat_max": -30.157068062827225,
          "lon_max": 144.375,
          "rain (mm/day)": 1.4357775024394992
         },
         {
          "lat_max": -30.157068062827225,
          "lon_max": 145.625,
          "rain (mm/day)": 1.6358942934446694
         },
         {
          "lat_max": -30.157068062827225,
          "lon_max": 146.875,
          "rain (mm/day)": 1.8728061718782423
         },
         {
          "lat_max": -30.157068062827225,
          "lon_max": 148.125,
          "rain (mm/day)": 2.0367223179019747
         },
         {
          "lat_max": -30.157068062827225,
          "lon_max": 149.375,
          "rain (mm/day)": 2.2300678762380883
         },
         {
          "lat_max": -30.157068062827225,
          "lon_max": 150.625,
          "rain (mm/day)": 2.5736759801310525
         },
         {
          "lat_max": -30.157068062827225,
          "lon_max": 151.875,
          "rain (mm/day)": 2.6694281887821205
         },
         {
          "lat_max": -30.157068062827225,
          "lon_max": 153.125,
          "rain (mm/day)": 3.2689547610234806
         },
         {
          "lat_max": -30.157068062827225,
          "lon_max": 154.375,
          "rain (mm/day)": 4.153256076595867
         },
         {
          "lat_max": -30.15706806282722,
          "lon_max": 141.875,
          "rain (mm/day)": 1.2608965359686555
         },
         {
          "lat_max": -30.15706806282722,
          "lon_max": 143.125,
          "rain (mm/day)": 1.3878105238247604
         },
         {
          "lat_max": -30.15706806282722,
          "lon_max": 144.375,
          "rain (mm/day)": 1.5242984772300803
         },
         {
          "lat_max": -30.15706806282722,
          "lon_max": 145.625,
          "rain (mm/day)": 1.7147391256664894
         },
         {
          "lat_max": -30.15706806282722,
          "lon_max": 146.875,
          "rain (mm/day)": 1.941732338405046
         },
         {
          "lat_max": -30.15706806282722,
          "lon_max": 148.125,
          "rain (mm/day)": 2.0606824856738446
         },
         {
          "lat_max": -30.15706806282722,
          "lon_max": 149.375,
          "rain (mm/day)": 2.1970887354013726
         },
         {
          "lat_max": -30.15706806282722,
          "lon_max": 150.625,
          "rain (mm/day)": 2.8053588958381392
         },
         {
          "lat_max": -30.15706806282722,
          "lon_max": 151.875,
          "rain (mm/day)": 2.7053649096305206
         },
         {
          "lat_max": -30.15706806282722,
          "lon_max": 153.125,
          "rain (mm/day)": 3.465686387351041
         },
         {
          "lat_max": -30.15706806282722,
          "lon_max": 154.375,
          "rain (mm/day)": 4.133950946949651
         },
         {
          "lat_max": -30.1,
          "lon_max": 142.275,
          "rain (mm/day)": 0.76543973668807
         },
         {
          "lat_max": -30.1,
          "lon_max": 143.525,
          "rain (mm/day)": 0.7926822045350901
         },
         {
          "lat_max": -30.1,
          "lon_max": 144.775,
          "rain (mm/day)": 0.8202523485267151
         },
         {
          "lat_max": -30.1,
          "lon_max": 146.025,
          "rain (mm/day)": 0.9720918942190929
         },
         {
          "lat_max": -30.1,
          "lon_max": 147.275,
          "rain (mm/day)": 1.055634181671287
         },
         {
          "lat_max": -30.1,
          "lon_max": 148.525,
          "rain (mm/day)": 1.1808180096584187
         },
         {
          "lat_max": -30.1,
          "lon_max": 149.775,
          "rain (mm/day)": 1.5023604823680174
         },
         {
          "lat_max": -30.1,
          "lon_max": 151.025,
          "rain (mm/day)": 1.9966096582138735
         },
         {
          "lat_max": -30.1,
          "lon_max": 152.275,
          "rain (mm/day)": 3.5269814820708083
         },
         {
          "lat_max": -30.1,
          "lon_max": 153.525,
          "rain (mm/day)": 3.37400384123813
         },
         {
          "lat_max": -30,
          "lon_max": 141.25,
          "rain (mm/day)": null
         },
         {
          "lat_max": -30,
          "lon_max": 142.5,
          "rain (mm/day)": 0.6773137876715934
         },
         {
          "lat_max": -30,
          "lon_max": 143,
          "rain (mm/day)": 1.3471234946027708
         },
         {
          "lat_max": -30,
          "lon_max": 143.75000000000003,
          "rain (mm/day)": 0.6348738020309092
         },
         {
          "lat_max": -30,
          "lon_max": 144.375,
          "rain (mm/day)": 0.9251218495811372
         },
         {
          "lat_max": -30,
          "lon_max": 145,
          "rain (mm/day)": 1.3245568533985732
         },
         {
          "lat_max": -30,
          "lon_max": 146.25,
          "rain (mm/day)": 1.0391522205831525
         },
         {
          "lat_max": -30,
          "lon_max": 147,
          "rain (mm/day)": 2.064477548158647
         },
         {
          "lat_max": -30,
          "lon_max": 147.5,
          "rain (mm/day)": 0.9987498047924452
         },
         {
          "lat_max": -30,
          "lon_max": 148.125,
          "rain (mm/day)": 1.3308715337920196
         },
         {
          "lat_max": -30,
          "lon_max": 148.75,
          "rain (mm/day)": 1.2496999293745863
         },
         {
          "lat_max": -30,
          "lon_max": 149,
          "rain (mm/day)": 2.7260395892420335
         },
         {
          "lat_max": -30,
          "lon_max": 150,
          "rain (mm/day)": 1.5800998264796777
         },
         {
          "lat_max": -30,
          "lon_max": 151,
          "rain (mm/day)": 3.418893322130492
         },
         {
          "lat_max": -30,
          "lon_max": 151.25,
          "rain (mm/day)": 1.7111858119705177
         },
         {
          "lat_max": -30,
          "lon_max": 151.875,
          "rain (mm/day)": 1.8537513984762177
         },
         {
          "lat_max": -30,
          "lon_max": 152.5,
          "rain (mm/day)": 2.1443714239452416
         },
         {
          "lat_max": -30,
          "lon_max": 153,
          "rain (mm/day)": 3.9259861458006826
         },
         {
          "lat_max": -30,
          "lon_max": 153.75,
          "rain (mm/day)": 2.29662103477023
         },
         {
          "lat_max": -30,
          "lon_max": 155,
          "rain (mm/day)": 4.175559821524822
         },
         {
          "lat_max": -30,
          "lon_max": 155.625,
          "rain (mm/day)": 2.4183100298158093
         },
         {
          "lat_max": -29.921966678900723,
          "lon_max": 142.03125,
          "rain (mm/day)": 0.2561325271829793
         },
         {
          "lat_max": -29.921966678900723,
          "lon_max": 142.96875,
          "rain (mm/day)": 0.3124384142184964
         },
         {
          "lat_max": -29.921966678900723,
          "lon_max": 143.90625,
          "rain (mm/day)": 0.3426871673572842
         },
         {
          "lat_max": -29.921966678900723,
          "lon_max": 144.84375,
          "rain (mm/day)": 0.36137969218534
         },
         {
          "lat_max": -29.921966678900723,
          "lon_max": 145.78125,
          "rain (mm/day)": 0.40841779483411295
         },
         {
          "lat_max": -29.921966678900723,
          "lon_max": 146.71875,
          "rain (mm/day)": 0.4731041275516972
         },
         {
          "lat_max": -29.921966678900723,
          "lon_max": 147.65625,
          "rain (mm/day)": 0.500504789549843
         },
         {
          "lat_max": -29.921966678900723,
          "lon_max": 148.59375,
          "rain (mm/day)": 0.5384677543816918
         },
         {
          "lat_max": -29.921966678900723,
          "lon_max": 149.53125,
          "rain (mm/day)": 0.6430105141861501
         },
         {
          "lat_max": -29.921966678900723,
          "lon_max": 150.46875,
          "rain (mm/day)": 0.7944258328496411
         },
         {
          "lat_max": -29.921966678900723,
          "lon_max": 151.40625,
          "rain (mm/day)": 1.1892166747827533
         },
         {
          "lat_max": -29.921966678900723,
          "lon_max": 152.34375,
          "rain (mm/day)": 1.3127543057000985
         },
         {
          "lat_max": -29.921966678900723,
          "lon_max": 153.28125,
          "rain (mm/day)": 1.7260392476237971
         },
         {
          "lat_max": -29.921966678900723,
          "lon_max": 154.21875,
          "rain (mm/day)": 2.0402294761626694
         },
         {
          "lat_max": -29.844118215220497,
          "lon_max": 143.4375,
          "rain (mm/day)": 0.7038667148850053
         },
         {
          "lat_max": -29.844118215220497,
          "lon_max": 145.3125,
          "rain (mm/day)": 0.7924842096033687
         },
         {
          "lat_max": -29.844118215220497,
          "lon_max": 147.1875,
          "rain (mm/day)": 0.9895443264851772
         },
         {
          "lat_max": -29.844118215220497,
          "lon_max": 149.0625,
          "rain (mm/day)": 1.1705192554569777
         },
         {
          "lat_max": -29.844118215220497,
          "lon_max": 150.9375,
          "rain (mm/day)": 1.5677584024575837
         },
         {
          "lat_max": -29.844118215220497,
          "lon_max": 152.8125,
          "rain (mm/day)": 1.6991587136897235
         },
         {
          "lat_max": -29.844118215220497,
          "lon_max": 154.6875,
          "rain (mm/day)": 3.2980687977568115
         },
         {
          "lat_max": -29.416902447784427,
          "lon_max": 142.734375,
          "rain (mm/day)": 1.255754420315524
         },
         {
          "lat_max": -29.416902447784427,
          "lon_max": 144.140625,
          "rain (mm/day)": 1.3844094616298426
         },
         {
          "lat_max": -29.416902447784427,
          "lon_max": 145.546875,
          "rain (mm/day)": 1.563560460762226
         },
         {
          "lat_max": -29.416902447784427,
          "lon_max": 146.953125,
          "rain (mm/day)": 1.7557511206776284
         },
         {
          "lat_max": -29.416902447784427,
          "lon_max": 148.359375,
          "rain (mm/day)": 1.978170774478191
         },
         {
          "lat_max": -29.416902447784427,
          "lon_max": 149.765625,
          "rain (mm/day)": 2.3305743983529026
         },
         {
          "lat_max": -29.416902447784427,
          "lon_max": 151.171875,
          "rain (mm/day)": 2.7810922314218347
         },
         {
          "lat_max": -29.416902447784427,
          "lon_max": 152.578125,
          "rain (mm/day)": 3.5058189038256646
         },
         {
          "lat_max": -29.416902447784427,
          "lon_max": 153.984375,
          "rain (mm/day)": 4.410533113919661
         },
         {
          "lat_max": -29.375,
          "lon_max": 143.4375,
          "rain (mm/day)": 1.1389796774659464
         },
         {
          "lat_max": -29.375,
          "lon_max": 145.3125,
          "rain (mm/day)": 1.4282625436938765
         },
         {
          "lat_max": -29.375,
          "lon_max": 147.1875,
          "rain (mm/day)": 1.823107099004685
         },
         {
          "lat_max": -29.375,
          "lon_max": 149.0625,
          "rain (mm/day)": 2.2345520232734635
         },
         {
          "lat_max": -29.375,
          "lon_max": 150.9375,
          "rain (mm/day)": 2.423219555031139
         },
         {
          "lat_max": -29.375,
          "lon_max": 152.8125,
          "rain (mm/day)": 2.706541753157465
         },
         {
          "lat_max": -29.375,
          "lon_max": 154.6875,
          "rain (mm/day)": 3.516934804211521
         },
         {
          "lat_max": -29.214659685863875,
          "lon_max": 141.875,
          "rain (mm/day)": 1.21828322343575
         },
         {
          "lat_max": -29.214659685863875,
          "lon_max": 143.125,
          "rain (mm/day)": 1.331006647387939
         },
         {
          "lat_max": -29.214659685863875,
          "lon_max": 144.375,
          "rain (mm/day)": 1.4956052585506239
         },
         {
          "lat_max": -29.214659685863875,
          "lon_max": 145.625,
          "rain (mm/day)": 1.6652545357005704
         },
         {
          "lat_max": -29.214659685863875,
          "lon_max": 146.875,
          "rain (mm/day)": 1.886466318116194
         },
         {
          "lat_max": -29.214659685863875,
          "lon_max": 148.125,
          "rain (mm/day)": 2.064565457618788
         },
         {
          "lat_max": -29.214659685863875,
          "lon_max": 149.375,
          "rain (mm/day)": 2.2644847229639637
         },
         {
          "lat_max": -29.214659685863875,
          "lon_max": 150.625,
          "rain (mm/day)": 2.4109525158397234
         },
         {
          "lat_max": -29.214659685863875,
          "lon_max": 151.875,
          "rain (mm/day)": 2.673274641950237
         },
         {
          "lat_max": -29.214659685863875,
          "lon_max": 153.125,
          "rain (mm/day)": 3.15529570180714
         },
         {
          "lat_max": -29.214659685863875,
          "lon_max": 154.375,
          "rain (mm/day)": 4.316677271153555
         },
         {
          "lat_max": -29.21465968586387,
          "lon_max": 141.875,
          "rain (mm/day)": 1.1880288275195063
         },
         {
          "lat_max": -29.21465968586387,
          "lon_max": 143.125,
          "rain (mm/day)": 1.300591380662963
         },
         {
          "lat_max": -29.21465968586387,
          "lon_max": 144.375,
          "rain (mm/day)": 1.471143655266928
         },
         {
          "lat_max": -29.21465968586387,
          "lon_max": 145.625,
          "rain (mm/day)": 1.6406136427687368
         },
         {
          "lat_max": -29.21465968586387,
          "lon_max": 146.875,
          "rain (mm/day)": 1.8256776534759238
         },
         {
          "lat_max": -29.21465968586387,
          "lon_max": 148.125,
          "rain (mm/day)": 1.9974241729751625
         },
         {
          "lat_max": -29.21465968586387,
          "lon_max": 149.375,
          "rain (mm/day)": 2.1741659850386257
         },
         {
          "lat_max": -29.21465968586387,
          "lon_max": 150.625,
          "rain (mm/day)": 2.432503138519083
         },
         {
          "lat_max": -29.21465968586387,
          "lon_max": 151.875,
          "rain (mm/day)": 2.602621012218994
         },
         {
          "lat_max": -29.21465968586387,
          "lon_max": 153.125,
          "rain (mm/day)": 3.212794007617243
         },
         {
          "lat_max": -29.21465968586387,
          "lon_max": 154.375,
          "rain (mm/day)": 4.480563493255895
         },
         {
          "lat_max": -29.158725,
          "lon_max": 142.3125,
          "rain (mm/day)": 0.6819993156778358
         },
         {
          "lat_max": -29.158725,
          "lon_max": 143.4375,
          "rain (mm/day)": 0.7810267170188002
         },
         {
          "lat_max": -29.158725,
          "lon_max": 144.5625,
          "rain (mm/day)": 0.8563918130610264
         },
         {
          "lat_max": -29.158725,
          "lon_max": 145.6875,
          "rain (mm/day)": 0.976245113328011
         },
         {
          "lat_max": -29.158725,
          "lon_max": 146.8125,
          "rain (mm/day)": 1.1305014131251552
         },
         {
          "lat_max": -29.158725,
          "lon_max": 147.9375,
          "rain (mm/day)": 1.2234021099518113
         },
         {
          "lat_max": -29.158725,
          "lon_max": 149.0625,
          "rain (mm/day)": 1.3720167162777812
         },
         {
          "lat_max": -29.158725,
          "lon_max": 150.1875,
          "rain (mm/day)": 1.4569875103779084
         },
         {
          "lat_max": -29.158725,
          "lon_max": 151.3125,
          "rain (mm/day)": 1.8257713261790598
         },
         {
          "lat_max": -29.158725,
          "lon_max": 152.4375,
          "rain (mm/day)": 2.4247001827136128
         },
         {
          "lat_max": -29.158725,
          "lon_max": 153.5625,
          "rain (mm/day)": 2.2103331435936533
         },
         {
          "lat_max": -29.1587233698376,
          "lon_max": 142.3125,
          "rain (mm/day)": 0.9363163541920725
         },
         {
          "lat_max": -29.1587233698376,
          "lon_max": 143.4375,
          "rain (mm/day)": 1.0501198216039582
         },
         {
          "lat_max": -29.1587233698376,
          "lon_max": 144.5625,
          "rain (mm/day)": 1.1343035669034036
         },
         {
          "lat_max": -29.1587233698376,
          "lon_max": 145.6875,
          "rain (mm/day)": 1.252414945407863
         },
         {
          "lat_max": -29.1587233698376,
          "lon_max": 146.8125,
          "rain (mm/day)": 1.3960958470493674
         },
         {
          "lat_max": -29.1587233698376,
          "lon_max": 147.9375,
          "rain (mm/day)": 1.5054398398759143
         },
         {
          "lat_max": -29.1587233698376,
          "lon_max": 149.0625,
          "rain (mm/day)": 1.6583136102700773
         },
         {
          "lat_max": -29.1587233698376,
          "lon_max": 150.1875,
          "rain (mm/day)": 1.7947120357816062
         },
         {
          "lat_max": -29.1587233698376,
          "lon_max": 151.3125,
          "rain (mm/day)": 2.0062033493039686
         },
         {
          "lat_max": -29.1587233698376,
          "lon_max": 152.4375,
          "rain (mm/day)": 2.533478771196097
         },
         {
          "lat_max": -29.1587233698376,
          "lon_max": 153.5625,
          "rain (mm/day)": 3.237252053571549
         },
         {
          "lat_max": -29.100000000000005,
          "lon_max": 142.275,
          "rain (mm/day)": 0.6895042267543237
         },
         {
          "lat_max": -29.100000000000005,
          "lon_max": 143.525,
          "rain (mm/day)": 0.7420081516004495
         },
         {
          "lat_max": -29.100000000000005,
          "lon_max": 144.775,
          "rain (mm/day)": 0.8037111894230689
         },
         {
          "lat_max": -29.100000000000005,
          "lon_max": 146.025,
          "rain (mm/day)": 0.9261855784777063
         },
         {
          "lat_max": -29.100000000000005,
          "lon_max": 147.275,
          "rain (mm/day)": 1.0380435450836283
         },
         {
          "lat_max": -29.100000000000005,
          "lon_max": 148.525,
          "rain (mm/day)": 1.1773542044121885
         },
         {
          "lat_max": -29.100000000000005,
          "lon_max": 149.775,
          "rain (mm/day)": 1.3565378801001788
         },
         {
          "lat_max": -29.100000000000005,
          "lon_max": 151.025,
          "rain (mm/day)": 1.7912238150849
         },
         {
          "lat_max": -29.100000000000005,
          "lon_max": 152.275,
          "rain (mm/day)": 3.3172735550413037
         },
         {
          "lat_max": -29.100000000000005,
          "lon_max": 153.525,
          "rain (mm/day)": 3.520447940613304
         },
         {
          "lat_max": -29.000000000000004,
          "lon_max": 142.5,
          "rain (mm/day)": 0.5578671913273092
         },
         {
          "lat_max": -29.000000000000004,
          "lon_max": 143.75000000000003,
          "rain (mm/day)": 0.6346231813802684
         },
         {
          "lat_max": -29.000000000000004,
          "lon_max": 145,
          "rain (mm/day)": 0.7442680342329022
         },
         {
          "lat_max": -29.000000000000004,
          "lon_max": 146.25,
          "rain (mm/day)": 0.8684626403979999
         },
         {
          "lat_max": -29.000000000000004,
          "lon_max": 147.5,
          "rain (mm/day)": 1.0038463082577114
         },
         {
          "lat_max": -29.000000000000004,
          "lon_max": 148.75,
          "rain (mm/day)": 1.2375046739175262
         },
         {
          "lat_max": -29.000000000000004,
          "lon_max": 150,
          "rain (mm/day)": 1.5734525871725416
         },
         {
          "lat_max": -29.000000000000004,
          "lon_max": 151.25,
          "rain (mm/day)": 1.7570773149818115
         },
         {
          "lat_max": -29.000000000000004,
          "lon_max": 152.5,
          "rain (mm/day)": 2.0951427100127686
         },
         {
          "lat_max": -29.000000000000004,
          "lon_max": 153.75,
          "rain (mm/day)": 2.4998601403941896
         },
         {
          "lat_max": -28.98690590454548,
          "lon_max": 142.03125,
          "rain (mm/day)": 0.2538782889097278
         },
         {
          "lat_max": -28.98690590454548,
          "lon_max": 142.96875,
          "rain (mm/day)": 0.3050442347352579
         },
         {
          "lat_max": -28.98690590454548,
          "lon_max": 143.90625,
          "rain (mm/day)": 0.33028604446360205
         },
         {
          "lat_max": -28.98690590454548,
          "lon_max": 144.84375,
          "rain (mm/day)": 0.35130140748651995
         },
         {
          "lat_max": -28.98690590454548,
          "lon_max": 145.78125,
          "rain (mm/day)": 0.3805190888374071
         },
         {
          "lat_max": -28.98690590454548,
          "lon_max": 146.71875,
          "rain (mm/day)": 0.4339009307561374
         },
         {
          "lat_max": -28.98690590454548,
          "lon_max": 147.65625,
          "rain (mm/day)": 0.4854893245015135
         },
         {
          "lat_max": -28.98690590454548,
          "lon_max": 148.59375,
          "rain (mm/day)": 0.5545942672508567
         },
         {
          "lat_max": -28.98690590454548,
          "lon_max": 149.53125,
          "rain (mm/day)": 0.6392806929487225
         },
         {
          "lat_max": -28.98690590454548,
          "lon_max": 150.46875,
          "rain (mm/day)": 0.71779486852569
         },
         {
          "lat_max": -28.98690590454548,
          "lon_max": 151.40625,
          "rain (mm/day)": 0.9428170063646498
         },
         {
          "lat_max": -28.98690590454548,
          "lon_max": 152.34375,
          "rain (mm/day)": 1.173374276083721
         },
         {
          "lat_max": -28.98690590454548,
          "lon_max": 153.28125,
          "rain (mm/day)": 1.5446295395355545
         },
         {
          "lat_max": -28.98690590454548,
          "lon_max": 154.21875,
          "rain (mm/day)": 1.8223552649229124
         },
         {
          "lat_max": -28.75,
          "lon_max": 142.5,
          "rain (mm/day)": 0.8418500916745457
         },
         {
          "lat_max": -28.75,
          "lon_max": 144.375,
          "rain (mm/day)": 1.0636767743588837
         },
         {
          "lat_max": -28.75,
          "lon_max": 146.25,
          "rain (mm/day)": 1.362496912947102
         },
         {
          "lat_max": -28.75,
          "lon_max": 148.125,
          "rain (mm/day)": 1.7167329541084255
         },
         {
          "lat_max": -28.75,
          "lon_max": 150,
          "rain (mm/day)": 2.1944981266868195
         },
         {
          "lat_max": -28.75,
          "lon_max": 151.875,
          "rain (mm/day)": 2.454351528230062
         },
         {
          "lat_max": -28.75,
          "lon_max": 153.75,
          "rain (mm/day)": 2.4287307598394405
         },
         {
          "lat_max": -28.5,
          "lon_max": 143,
          "rain (mm/day)": 1.3739328549345935
         },
         {
          "lat_max": -28.5,
          "lon_max": 145,
          "rain (mm/day)": 1.6485360973374574
         },
         {
          "lat_max": -28.5,
          "lon_max": 147,
          "rain (mm/day)": 1.9926052387612048
         },
         {
          "lat_max": -28.5,
          "lon_max": 149,
          "rain (mm/day)": 2.5169012665848056
         },
         {
          "lat_max": -28.5,
          "lon_max": 151,
          "rain (mm/day)": 3.2762381181295552
         },
         {
          "lat_max": -28.5,
          "lon_max": 153,
          "rain (mm/day)": 3.8276933678969938
         },
         {
          "lat_max": -28.5,
          "lon_max": 155,
          "rain (mm/day)": 4.006120527071061
         },
         {
          "lat_max": -28.421052631578952,
          "lon_max": 143.75,
          "rain (mm/day)": 1.481635060711697
         },
         {
          "lat_max": -28.421052631578952,
          "lon_max": 146.25,
          "rain (mm/day)": 1.821117664632513
         },
         {
          "lat_max": -28.421052631578952,
          "lon_max": 148.75,
          "rain (mm/day)": 2.1763482706157995
         },
         {
          "lat_max": -28.421052631578952,
          "lon_max": 151.25,
          "rain (mm/day)": 2.709492917841766
         },
         {
          "lat_max": -28.421052631578952,
          "lon_max": 153.75,
          "rain (mm/day)": 3.2565430858555966
         },
         {
          "lat_max": -28.35443037974683,
          "lon_max": 143,
          "rain (mm/day)": 0.9437540149473582
         },
         {
          "lat_max": -28.35443037974683,
          "lon_max": 145,
          "rain (mm/day)": 1.0732610888772716
         },
         {
          "lat_max": -28.35443037974683,
          "lon_max": 147,
          "rain (mm/day)": 1.1221870447500295
         },
         {
          "lat_max": -28.35443037974683,
          "lon_max": 149,
          "rain (mm/day)": 1.3894234313476785
         },
         {
          "lat_max": -28.35443037974683,
          "lon_max": 151,
          "rain (mm/day)": 1.407586809451184
         },
         {
          "lat_max": -28.35443037974683,
          "lon_max": 153,
          "rain (mm/day)": 6.105506034979393
         },
         {
          "lat_max": -28.35443037974683,
          "lon_max": 155,
          "rain (mm/day)": 2.232544176142915
         },
         {
          "lat_max": -28.125,
          "lon_max": 142.5,
          "rain (mm/day)": 0.6712784997514918
         },
         {
          "lat_max": -28.125,
          "lon_max": 144.375,
          "rain (mm/day)": 0.7424012110119165
         },
         {
          "lat_max": -28.125,
          "lon_max": 146.25,
          "rain (mm/day)": 0.855994800317825
         },
         {
          "lat_max": -28.125,
          "lon_max": 148.125,
          "rain (mm/day)": 1.0019631129156537
         },
         {
          "lat_max": -28.125,
          "lon_max": 150,
          "rain (mm/day)": 1.1119638280903308
         },
         {
          "lat_max": -28.125,
          "lon_max": 151.875,
          "rain (mm/day)": 1.2712081949513894
         },
         {
          "lat_max": -28.125,
          "lon_max": 153.75,
          "rain (mm/day)": 1.931611411659418
         },
         {
          "lat_max": -27.9090649,
          "lon_max": 144.84375,
          "rain (mm/day)": 1.223812353412521
         },
         {
          "lat_max": -27.9090649,
          "lon_max": 147.65625,
          "rain (mm/day)": 1.452664876108538
         },
         {
          "lat_max": -27.9090649,
          "lon_max": 150.46875,
          "rain (mm/day)": 1.8319598285369596
         },
         {
          "lat_max": -27.9090649,
          "lon_max": 153.28125,
          "rain (mm/day)": 2.7424627396305223
         },
         {
          "lat_max": -27.906064473486865,
          "lon_max": 144.84375,
          "rain (mm/day)": 1.2773910605603735
         },
         {
          "lat_max": -27.906064473486865,
          "lon_max": 147.65625,
          "rain (mm/day)": 1.5912369494065666
         },
         {
          "lat_max": -27.906064473486865,
          "lon_max": 150.46875,
          "rain (mm/day)": 2.034876368724289
         },
         {
          "lat_max": -27.906064473486865,
          "lon_max": 153.28125,
          "rain (mm/day)": 2.395519906663918
         }
        ]
       },
       "encoding": {
        "color": {
         "field": "rain (mm/day)",
         "title": "Rainfall (mm/day)",
         "type": "quantitative"
        },
        "x": {
         "bin": {
          "maxbins": 40
         },
         "field": "lon_max",
         "title": "Longitude max",
         "type": "quantitative"
        },
        "y": {
         "bin": {
          "maxbins": 40
         },
         "field": "lat_max",
         "title": "Latitude max",
         "type": "quantitative"
        }
       },
       "mark": "rect",
       "title": {
        "text": "Mean rainfall (mm/day) by latitude and longitude"
       }
      },
      "image/png": "[encoded data removed]",
      "text/plain": [
       "<VegaLite 4 object>\n",
       "\n",
       "If you see this message, it means the renderer has not been properly enabled\n",
       "for the frontend that you are using. For more information, see\n",
       "https://altair-viz.github.io/user_guide/troubleshooting.html\n"
      ]
     },
     "execution_count": 9,
     "metadata": {},
     "output_type": "execute_result"
    }
   ],
   "source": [
    "(alt.Chart(\n",
    "    lon_lat_df,\n",
    "    title=alt.TitleParams(\n",
    "        text='Mean rainfall (mm/day) by latitude and longitude',\n",
    "    )\n",
    ").mark_rect().encode(\n",
    "    alt.X('lon_max', bin=alt.Bin(maxbins=40), title='Longitude max'), \n",
    "    alt.Y('lat_max', bin=alt.Bin(maxbins=40), title='Latitude max'),\n",
    "    alt.Color('rain (mm/day)', title='Rainfall (mm/day)')))"
   ]
  },
  {
   "cell_type": "markdown",
   "id": "d9a78c04-7549-4140-a7ea-76a6c9e6b764",
   "metadata": {},
   "source": [
    "<!--  -->"
   ]
  },
  {
   "cell_type": "markdown",
   "id": "0e304e69-1d0a-46b7-adb7-36cb555d11a8",
   "metadata": {},
   "source": [
    "## EDA in R"
   ]
  },
  {
   "cell_type": "code",
   "execution_count": 10,
   "id": "c44c7ac0-3870-4069-9159-cd2b3e64cd78",
   "metadata": {},
   "outputs": [],
   "source": [
    "%load_ext rpy2.ipython"
   ]
  },
  {
   "cell_type": "markdown",
   "id": "d4e8d4bd-61a8-4888-b143-5c16d1a02112",
   "metadata": {},
   "source": [
    "### Transfer the dataframe from python to R using Apache Arrow"
   ]
  },
  {
   "cell_type": "code",
   "execution_count": 11,
   "id": "7d1ea438-85d9-4c25-8a6d-0c45a87e886f",
   "metadata": {},
   "outputs": [
    {
     "name": "stdout",
     "output_type": "stream",
     "text": [
      "peak memory: 2982.81 MiB, increment: 815.95 MiB\n",
      "CPU times: user 1min, sys: 4.95 s, total: 1min 5s\n",
      "Wall time: 1min 5s\n"
     ]
    }
   ],
   "source": [
    "%%time\n",
    "%%memit\n",
    "dataset = ds.dataset(\"figsharerainfall/combined_data.csv\", format=\"csv\")\n",
    "table = dataset.to_table()\n",
    "r_table = pyra.converter.py2rpy(table)"
   ]
  },
  {
   "cell_type": "code",
   "execution_count": 12,
   "id": "3adfb155-05e2-4004-91e9-7bbda95c2845",
   "metadata": {},
   "outputs": [
    {
     "name": "stdout",
     "output_type": "stream",
     "text": [
      "Time difference of 6.145427 secs\n",
      "CPU times: user 11.8 s, sys: 2.26 s, total: 14 s\n",
      "Wall time: 6.2 s\n"
     ]
    }
   ],
   "source": [
    "%%time\n",
    "%%R -i r_table\n",
    "\n",
    "start_time <- Sys.time()\n",
    "suppressMessages(library(tidyverse))\n",
    "suppressMessages(library(ggplot2))\n",
    "lon_max_df <- r_table |> \n",
    "    group_by(lon_max) |> \n",
    "    summarize(mean_rainfall = mean(`rain (mm/day)`)) |> \n",
    "    collect()\n",
    "lat_max_df <- r_table |> \n",
    "    group_by(lat_max) |> \n",
    "    summarize(mean_rainfall = mean(`rain (mm/day)`)) |> \n",
    "    collect()\n",
    "end_time <- Sys.time()\n",
    "print(end_time - start_time)"
   ]
  },
  {
   "cell_type": "code",
   "execution_count": 13,
   "id": "d9a08be9-0e26-495a-ae60-071ccc48e079",
   "metadata": {},
   "outputs": [
    {
     "data": {
      "image/png": "[encoded data removed]"
     },
     "metadata": {},
     "output_type": "display_data"
    }
   ],
   "source": [
    "%%R\n",
    "suppressMessages(library(cowplot))\n",
    "lon_max_eda <- lon_max_df |> \n",
    "    ggplot(aes(x = lon_max, y = mean_rainfall)) + \n",
    "    geom_point() +\n",
    "    ggtitle(\"Mean rainfall (mm/day) by longitude\") +\n",
    "    labs(x = \"Longitude max\", y = \"Mean rainfall (mm/day)\")\n",
    "lat_max_eda <- lat_max_df |> \n",
    "    ggplot(aes(x = lat_max, y = mean_rainfall)) + \n",
    "    geom_point() +\n",
    "    ggtitle(\"Mean rainfall (mm/day) by latitude\") +\n",
    "    labs(x = \"Latitude max\", y = \"Mean rainfall (mm/day)\")\n",
    "plot_grid(lon_max_eda, lat_max_eda)"
   ]
  }
 ],
 "metadata": {
  "kernelspec": {
   "display_name": "Python [conda env:525_2022]",
   "language": "python",
   "name": "conda-env-525_2022-py"
  },
  "language_info": {
   "codemirror_mode": {
    "name": "ipython",
    "version": 3
   },
   "file_extension": ".py",
   "mimetype": "text/x-python",
   "name": "python",
   "nbconvert_exporter": "python",
   "pygments_lexer": "ipython3",
   "version": "3.8.13"
  }
 },
 "nbformat": 4,
 "nbformat_minor": 5
}
