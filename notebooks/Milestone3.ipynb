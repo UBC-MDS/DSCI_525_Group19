{
 "cells": [
  {
   "cell_type": "markdown",
   "id": "d6b95450",
   "metadata": {},
   "source": [
    "# DSCI 525 - Web and Cloud Computing\n",
    "\n",
    "***Milestone 3:*** This milestone aims to set up your spark cluster and develop your machine learning to deploy in the cloud for the next milestone.\n",
    "\n",
    "## Milestone 3 checklist  :\n",
    "- [x] Setup your EMR cluster with Spark, Hadoop, JupyterEnterpriseGateway, JupyterHub 1.1.0, and Livy.  \n",
    "- [x] Make sure you set up foxy proxy for your web browser(Firefox). Probably you already set this up from the previous milestone.\n",
    "- [x] Develop a ML model using scikit-learn. (We will be using this model to deploy for our next milestone.)\n",
    "- [x] Obtain the best hyperparameter settings using spark's MLlib.\n",
    "\n",
    "**Keep in mind:**\n",
    "\n",
    "- _Please use the Firefox browser for this milestone. Make sure you got foxy proxy setup._\n",
    "\n",
    "- _All services you use are in region us-west-2 region._\n",
    "\n",
    "- _Use only default VPC and subnet, if not specified explicitly in instruction, leave all other options default when setting up your cluster._\n",
    "    \n",
    "- _No IP addresses are visible when you provide the screenshot (***Please mask it before uploading***)._\n",
    "\n",
    "- _1 node cluster with a single master node (zero slave nodes) of size ```m5.xlarge``` is good enough for your spark MLlib process. These configurations might take 15 - 20 minutes to get optimal tuning parameters for the entire dataset._\n",
    "\n",
    "- _Say something went wrong and you want to spin up another EMR cluster, then make sure you terminate the previous one._\n",
    "\n",
    "- _Upon termination, stored data in your cluster will be lost. Make sure you save any data to S3 and download the notebooks to your laptop so that next time you have your jupyterHub in a different cluster, you can upload your notebook there._\n",
    "\n",
    "_***Outside of Milestone [OPTIONAL]:*** You are encouraged to practice it yourself by spinning up EMR clusters._\n",
    "\n",
    "***VERY IMPORTANT:*** With task 4, make sure you occasionally download the notebook to your local computer. Once the lab is stopped after 3 hours, your EMR cluster will be terminated, and everything will vanish."
   ]
  },
  {
   "cell_type": "markdown",
   "id": "ea48794e",
   "metadata": {},
   "source": [
    "\n"
   ]
  },
  {
   "cell_type": "markdown",
   "id": "cdfdf156",
   "metadata": {},
   "source": [
    "### 1. Setup your EMR cluster\n",
    "rubric={correctness:25}"
   ]
  },
  {
   "cell_type": "markdown",
   "id": "003d29e6",
   "metadata": {
    "tags": []
   },
   "source": [
    "Follow the instructions shown during the lecture to set up your EMR cluster. I am adding instructions here again for guidance.\n",
    "\n",
    "1.1) Go to advanced options.\n",
    "\n",
    "1.2) Choose Release 6.5.0.\n",
    "\n",
    "1.3) Check Spark, Hadoop, JupyterEnterpriseGateway, JupyterHub 1.1.0, and Livy.  \n",
    "\n",
    "1.4) Core instances to be 0, master 1.\n",
    "    \n",
    "1.5) By default, the instance will be selected as m5.xlarge. However, you can also choose a bigger instance (e.g., m4.4xlarge, but make sure you budget )\n",
    "\n",
    "1.6) Cluster name : Your-group-number.\n",
    "    \n",
    "1.7) Uncheck Enable auto-termination.\n",
    "        \n",
    "1.8) Select the key pair you have access to (from your milestone 2).\n",
    "\n",
    "1.9) EC2 security group, please go with the default. Remember, this is a managed service; what we learned from the shared responsibility model so that AWS will take care of many things. EMR comes in the list of container services. Check [this]( https://aws.amazon.com/blogs/industries/applying-the-aws-shared-responsibility-model-to-your-gxp-solution/).\n",
    "    \n",
    "1.10) Wait for the cluster to start. This takes around ~15 min. Once it is ready, you will see a solid green dot. "
   ]
  },
  {
   "cell_type": "markdown",
   "id": "f843172e",
   "metadata": {},
   "source": [
    "#### Please attach this screen shots from your group for grading\n",
    "https://github.ubc.ca/mds-2021-22/DSCI_525_web-cloud-comp_students/blob/master/release/milestone3/images/Task1.png"
   ]
  },
  {
   "cell_type": "markdown",
   "id": "f059aff4-928d-463c-8a23-91d7404ad488",
   "metadata": {},
   "source": [
    "<img src=\"img/m3t1-emr1.png\">"
   ]
  },
  {
   "cell_type": "markdown",
   "id": "32dcccdd-d831-4313-84a5-050a7292a527",
   "metadata": {},
   "source": [
    "<img src=\"img/m3t1-emr2.png\">"
   ]
  },
  {
   "cell_type": "markdown",
   "id": "ad68efa6",
   "metadata": {},
   "source": [
    "### 2. Setup your browser , jupyter environment & connect to the master node.\n",
    "rubric={correctness:25}"
   ]
  },
  {
   "cell_type": "markdown",
   "id": "d8a3f0e3",
   "metadata": {},
   "source": [
    "2.1) Under cluster ```summary > Application user interfaces > On-cluster user interfaces```: Click on _***Enable an SSH Connection***_.\n",
    "\n",
    "2.2) From instructions in the popup from Step 2.1, use: **Step 1: Open an SSH Tunnel to the Amazon EMR Master Node.** Remember you are running this from your laptop terminal, and after running, it will look like [this](https://github.ubc.ca/mds-2021-22/DSCI_525_web-cloud-comp_students/blob/master/release/milestone3/images/eg.png). For the private key make sure you point to the correct location in your computer.\n",
    "\n",
    "2.3) (If you haven't done so from milestone 2) From instructions in the popup from Step 2.1, please ignore **Step 2: Configure a proxy management tool**. Instead follow  instructions given [here](https://docs.aws.amazon.com/emr/latest/ManagementGuide/emr-connect-master-node-proxy.html), under section **Example: Configure FoxyProxy for Firefox:**. Get foxy proxy standard [here](https://addons.mozilla.org/en-CA/firefox/addon/foxyproxy-standard/) \n",
    "\n",
    "2.4) Move to **application user interfaces** tab, use the jupytetHub URL to access it.\n",
    "\n",
    "2.4.1) Username: ```jovyan```, Password: ```jupyter```. These are default more details [here](https://docs.aws.amazon.com/emr/latest/ReleaseGuide/emr-jupyterhub-user-access.html)\n",
    "\n",
    "2.5) Login into the master node from your laptop terminal (```cluster summary > Connect to the Master Node Using SSH```), and install the necessary packages. Here are the needed packages based on my solution; you might have to install other packages depending on your approach.\n",
    "\n",
    "    sudo yum install python3-devel\n",
    "    sudo pip3 install pandas\n",
    "    sudo pip3 install s3fs\n",
    "\n",
    "**IMPORTANT:** \n",
    "- Make sure ssh -i ~/ggeorgeAD.pem -ND 8157 hadoop@xxxxx.compute.amazonaws.com (Step 2.2) is running in your terminal window before trying to access your jupyter URL. Sometimes the connection might lose; in that case, run that step again to access your jupyterHub.\n",
    "- Don't confuse Step 2.2 and Step 2.5. In 2.2, you open an ssh tunnel to access the jupyterHub URL. With Step 2.6, you log into the master node to install the necessary packages."
   ]
  },
  {
   "cell_type": "markdown",
   "id": "131926a4",
   "metadata": {},
   "source": [
    "#### Please attach this screen shots from your group for grading\n",
    "https://github.ubc.ca/mds-2021-22/DSCI_525_web-cloud-comp_students/blob/master/release/milestone3/images/Task2.png"
   ]
  },
  {
   "cell_type": "markdown",
   "id": "f99e8fcb-c0cc-4f3d-9de8-1d1240396459",
   "metadata": {},
   "source": [
    "<img src=\"img/m3t2-jupyterhub.png\">"
   ]
  },
  {
   "cell_type": "markdown",
   "id": "c176de06",
   "metadata": {},
   "source": [
    "\n"
   ]
  },
  {
   "cell_type": "markdown",
   "id": "ce0ac1ae",
   "metadata": {},
   "source": [
    "### 3. Develop a ML model using scikit-learn.\n",
    "rubric={correctness:25}"
   ]
  },
  {
   "cell_type": "markdown",
   "id": "5d0811c0",
   "metadata": {},
   "source": [
    "You can either use the setup that we have from our last milestone. But it might have been shut down by AWS due to the time limit; also, we haven't got permission from AWS to spin up instances larger than t2.large. Considering the situation, I recommend doing this on your local computer. So upload this notebook to your local jupyter notebook and follow the instructions.\n",
    "https://github.ubc.ca/mds-2021-22/DSCI_525_web-cloud-comp_students/blob/master/release/milestone3/Milestone3-Task3.ipynb\n",
    "\n",
    "There are 2 parts to this notebook; For doing part 2, you want information from Task 4."
   ]
  },
  {
   "cell_type": "markdown",
   "id": "b291b92d",
   "metadata": {},
   "source": [
    "\n"
   ]
  },
  {
   "cell_type": "markdown",
   "id": "d47b6ff7",
   "metadata": {},
   "source": [
    "### 4. Obtain best hyperparameter settings using spark's MLlib.\n",
    "rubric={correctness:20}"
   ]
  },
  {
   "cell_type": "markdown",
   "id": "3d43e02c",
   "metadata": {},
   "source": [
    "Upload this notebook to your jupyterHub (AWS managed jupyterHub in the cluster) you set up in Task 2 and follow the instructions given in the notebook.\n",
    "https://github.ubc.ca/mds-2021-22/DSCI_525_web-cloud-comp_students/blob/master/release/milestone3/Milestone3-Task4.ipynb"
   ]
  },
  {
   "cell_type": "markdown",
   "id": "98da804e",
   "metadata": {},
   "source": [
    "### 5. Submission instructions\n",
    "rubric={mechanics:5}\n",
    "\n",
    "***SUBMISSION:*** Please put a link to your GitHub folder in the canvas where TAs can find the following-\n",
    "- [x] Python 3 notebook, with the code for ML model in scikit-learn. (You can develop this on your local computer)\n",
    "- [x] PySpark notebook, with the code for obtaining the best hyperparameter settings. ( For this, you have to use PySpark notebook(kernal) in your EMR cluster )\n",
    "- [x] Screenshot from \n",
    "    - [x] Setup your EMR cluster (Task 1).\n",
    "    - [x] Setup your browser, jupyter environment & connect to the master node (Task 2). \n",
    "    - [x] Your S3 bucket showing ```model.joblib``` file. (From Task 3 Develop a ML model using scikit-learn)"
   ]
  },
  {
   "cell_type": "markdown",
   "id": "aa61dd68-7df3-4c9e-9ad3-e9ab37d63c92",
   "metadata": {
    "tags": []
   },
   "source": [
    "#### Screeshots for S3 bucket showing `model.joblib` file"
   ]
  },
  {
   "cell_type": "markdown",
   "id": "d58dad9c-7d6c-4e05-921e-7aacd511577d",
   "metadata": {},
   "source": [
    "<img src=\"img/m3t3-model-in-S3.png\">"
   ]
  }
 ],
 "metadata": {
  "kernelspec": {
   "display_name": "Python 3 (ipykernel)",
   "language": "python",
   "name": "python3"
  },
  "language_info": {
   "codemirror_mode": {
    "name": "ipython",
    "version": 3
   },
   "file_extension": ".py",
   "mimetype": "text/x-python",
   "name": "python",
   "nbconvert_exporter": "python",
   "pygments_lexer": "ipython3",
   "version": "3.9.12"
  }
 },
 "nbformat": 4,
 "nbformat_minor": 5
}
