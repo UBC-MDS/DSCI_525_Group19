{
 "cells": [
  {
   "cell_type": "markdown",
   "id": "6a2b4b57-9066-4f33-b196-af3b8b40bf6d",
   "metadata": {},
   "source": [
    "# Group 19: Milestone 1"
   ]
  },
  {
   "cell_type": "markdown",
   "id": "a5f436f4-351b-4fb4-969a-fa9b7eb0b7a4",
   "metadata": {},
   "source": [
    "<!--  -->"
   ]
  },
  {
   "cell_type": "markdown",
   "id": "a846daa8-6b1f-49cb-ad51-d92f9a14b90e",
   "metadata": {},
   "source": [
    "## Library Imports"
   ]
  },
  {
   "cell_type": "code",
   "execution_count": 1,
   "id": "cfc9a9b2-239b-4d30-867e-ffd4ae37a735",
   "metadata": {},
   "outputs": [],
   "source": [
    "import re\n",
    "import os\n",
    "import glob\n",
    "import zipfile\n",
    "import requests\n",
    "from urllib.request import urlretrieve\n",
    "import json\n",
    "import pandas as pd\n",
    "import dask.dataframe as dd"
   ]
  },
  {
   "cell_type": "markdown",
   "id": "0bbb0e3f-d2fa-46fc-aff5-2518d868d214",
   "metadata": {},
   "source": [
    "<!--  -->"
   ]
  },
  {
   "cell_type": "markdown",
   "id": "9421bd59-5f23-46fa-b27e-cfe26f2d3547",
   "metadata": {
    "tags": []
   },
   "source": [
    "## 3. Downloading the data\n",
    "\n",
    "rubric={correctness:10}"
   ]
  },
  {
   "cell_type": "markdown",
   "id": "020cd9d0-d785-4bc9-8383-d2c48d77b13a",
   "metadata": {},
   "source": [
    "<div class=\"alert alert-block alert-info\">\n",
    "Download the data from figshare to your local computer using the figshare API (you need to make use of requests library).\n",
    "    \n",
    "Extract the zip file, again programmatically, similar to how we did it in class.\n",
    "\n",
    "You can download the data and unzip it manually. But we learned about APIs, so we can do it in a reproducible way with the requests library, similar to how we did it in class.\n",
    "\n",
    "There are 5 files in the figshare repo. The one we want is: `data.zip`\n",
    "</div>"
   ]
  },
  {
   "cell_type": "markdown",
   "id": "c9f7348d-38be-42fb-b6a4-f6104fb5c956",
   "metadata": {},
   "source": [
    "### 3.1 Setting up API\n",
    "\n",
    "Code adopted from lecture 2 notes."
   ]
  },
  {
   "cell_type": "markdown",
   "id": "1ea7f2a3-1832-493f-abec-7645b6099e58",
   "metadata": {},
   "source": [
    "<!--  -->"
   ]
  },
  {
   "cell_type": "code",
   "execution_count": 2,
   "id": "1532df51-4bc0-4566-81c9-f333bc1b8201",
   "metadata": {},
   "outputs": [],
   "source": [
    "# Necessary metadata\n",
    "article_id = 14096681  # this is the unique identifier of the article on figshare\n",
    "url = f\"https://api.figshare.com/v2/articles/{article_id}\"\n",
    "headers = {\"Content-Type\": \"application/json\"}\n",
    "output_directory = \"figsharerainfall/\""
   ]
  },
  {
   "cell_type": "code",
   "execution_count": 3,
   "id": "b5b7e85c-5ff4-4af6-a6b0-e8d9a602fcb0",
   "metadata": {},
   "outputs": [
    {
     "data": {
      "text/plain": [
       "[{'id': 26579150,\n",
       "  'name': 'daily_rainfall_2014.png',\n",
       "  'size': 58863,\n",
       "  'is_link_only': False,\n",
       "  'download_url': 'https://ndownloader.figshare.com/files/26579150',\n",
       "  'supplied_md5': 'fd32a2ffde300a31f8d63b1825d47e5e',\n",
       "  'computed_md5': 'fd32a2ffde300a31f8d63b1825d47e5e'},\n",
       " {'id': 26579171,\n",
       "  'name': 'environment.yml',\n",
       "  'size': 192,\n",
       "  'is_link_only': False,\n",
       "  'download_url': 'https://ndownloader.figshare.com/files/26579171',\n",
       "  'supplied_md5': '060b2020017eed93a1ee7dd8c65b2f34',\n",
       "  'computed_md5': '060b2020017eed93a1ee7dd8c65b2f34'},\n",
       " {'id': 26586554,\n",
       "  'name': 'README.md',\n",
       "  'size': 5422,\n",
       "  'is_link_only': False,\n",
       "  'download_url': 'https://ndownloader.figshare.com/files/26586554',\n",
       "  'supplied_md5': '61858c6cc0e6a6d6663a7e4c75bbd88c',\n",
       "  'computed_md5': '61858c6cc0e6a6d6663a7e4c75bbd88c'},\n",
       " {'id': 26766812,\n",
       "  'name': 'data.zip',\n",
       "  'size': 814041183,\n",
       "  'is_link_only': False,\n",
       "  'download_url': 'https://ndownloader.figshare.com/files/26766812',\n",
       "  'supplied_md5': 'b517383f76e77bd03755a63a8ff83ee9',\n",
       "  'computed_md5': 'b517383f76e77bd03755a63a8ff83ee9'},\n",
       " {'id': 26766815,\n",
       "  'name': 'get_data.py',\n",
       "  'size': 4113,\n",
       "  'is_link_only': False,\n",
       "  'download_url': 'https://ndownloader.figshare.com/files/26766815',\n",
       "  'supplied_md5': '7829028495fd9dec9680ea013474afa6',\n",
       "  'computed_md5': '7829028495fd9dec9680ea013474afa6'}]"
      ]
     },
     "execution_count": 3,
     "metadata": {},
     "output_type": "execute_result"
    }
   ],
   "source": [
    "response = requests.request(\"GET\", url, headers=headers)\n",
    "data = json.loads(response.text)  # this contains all the articles data, feel free to check it out\n",
    "files = data[\"files\"]             # this is just the data about the files, which is what we want\n",
    "files"
   ]
  },
  {
   "cell_type": "markdown",
   "id": "81dcedff-35ac-44b9-a9f2-5581531e2dcb",
   "metadata": {},
   "source": [
    "### 3.2 Download the data and unzip it\n",
    "\n",
    "Code adopted from lecture 2 notes."
   ]
  },
  {
   "cell_type": "code",
   "execution_count": 4,
   "id": "b4d378a7-a7e3-4ddd-b4a1-22cb497a45dd",
   "metadata": {},
   "outputs": [
    {
     "name": "stdout",
     "output_type": "stream",
     "text": [
      "CPU times: total: 3.28 s\n",
      "Wall time: 25.5 s\n"
     ]
    }
   ],
   "source": [
    "%%time\n",
    "files_to_dl = [\"data.zip\"]  # feel free to add other files here\n",
    "for file in files:\n",
    "    if file[\"name\"] in files_to_dl:\n",
    "        os.makedirs(output_directory, exist_ok=True)\n",
    "        urlretrieve(file[\"download_url\"], output_directory + file[\"name\"])"
   ]
  },
  {
   "cell_type": "code",
   "execution_count": 5,
   "id": "06a5f75c-f087-4e53-905c-e31a7846c35e",
   "metadata": {},
   "outputs": [
    {
     "name": "stdout",
     "output_type": "stream",
     "text": [
      "CPU times: total: 21.6 s\n",
      "Wall time: 22.1 s\n"
     ]
    }
   ],
   "source": [
    "%%time\n",
    "with zipfile.ZipFile(os.path.join(output_directory, \"data.zip\"), 'r') as f:\n",
    "    f.extractall(output_directory)"
   ]
  },
  {
   "cell_type": "code",
   "execution_count": 6,
   "id": "f9c324e6-f84c-41dd-a6b3-c7537bcfb989",
   "metadata": {},
   "outputs": [
    {
     "name": "stderr",
     "output_type": "stream",
     "text": [
      "Invalid switch - \"\".\n"
     ]
    }
   ],
   "source": [
    "%ls figsharerainfall/"
   ]
  },
  {
   "cell_type": "markdown",
   "id": "d546df1c-5ca6-45e5-add7-fc4b99abf765",
   "metadata": {},
   "source": [
    "### 3.3 Preview data"
   ]
  },
  {
   "cell_type": "code",
   "execution_count": 7,
   "id": "c351bdb2-637c-445c-84ae-03212b8b5231",
   "metadata": {},
   "outputs": [
    {
     "data": {
      "text/html": [
       "<div>\n",
       "<style scoped>\n",
       "    .dataframe tbody tr th:only-of-type {\n",
       "        vertical-align: middle;\n",
       "    }\n",
       "\n",
       "    .dataframe tbody tr th {\n",
       "        vertical-align: top;\n",
       "    }\n",
       "\n",
       "    .dataframe thead th {\n",
       "        text-align: right;\n",
       "    }\n",
       "</style>\n",
       "<table border=\"1\" class=\"dataframe\">\n",
       "  <thead>\n",
       "    <tr style=\"text-align: right;\">\n",
       "      <th></th>\n",
       "      <th>time</th>\n",
       "      <th>lat_min</th>\n",
       "      <th>lat_max</th>\n",
       "      <th>lon_min</th>\n",
       "      <th>lon_max</th>\n",
       "      <th>rain (mm/day)</th>\n",
       "    </tr>\n",
       "  </thead>\n",
       "  <tbody>\n",
       "    <tr>\n",
       "      <th>0</th>\n",
       "      <td>1889-01-01 12:00:00</td>\n",
       "      <td>-36.25</td>\n",
       "      <td>-35.00</td>\n",
       "      <td>140.625</td>\n",
       "      <td>142.50</td>\n",
       "      <td>3.293256e-13</td>\n",
       "    </tr>\n",
       "    <tr>\n",
       "      <th>1</th>\n",
       "      <td>1889-01-02 12:00:00</td>\n",
       "      <td>-36.25</td>\n",
       "      <td>-35.00</td>\n",
       "      <td>140.625</td>\n",
       "      <td>142.50</td>\n",
       "      <td>0.000000e+00</td>\n",
       "    </tr>\n",
       "    <tr>\n",
       "      <th>2</th>\n",
       "      <td>1889-01-03 12:00:00</td>\n",
       "      <td>-36.25</td>\n",
       "      <td>-35.00</td>\n",
       "      <td>140.625</td>\n",
       "      <td>142.50</td>\n",
       "      <td>0.000000e+00</td>\n",
       "    </tr>\n",
       "    <tr>\n",
       "      <th>3</th>\n",
       "      <td>1889-01-04 12:00:00</td>\n",
       "      <td>-36.25</td>\n",
       "      <td>-35.00</td>\n",
       "      <td>140.625</td>\n",
       "      <td>142.50</td>\n",
       "      <td>0.000000e+00</td>\n",
       "    </tr>\n",
       "    <tr>\n",
       "      <th>4</th>\n",
       "      <td>1889-01-05 12:00:00</td>\n",
       "      <td>-36.25</td>\n",
       "      <td>-35.00</td>\n",
       "      <td>140.625</td>\n",
       "      <td>142.50</td>\n",
       "      <td>1.047658e-02</td>\n",
       "    </tr>\n",
       "    <tr>\n",
       "      <th>...</th>\n",
       "      <td>...</td>\n",
       "      <td>...</td>\n",
       "      <td>...</td>\n",
       "      <td>...</td>\n",
       "      <td>...</td>\n",
       "      <td>...</td>\n",
       "    </tr>\n",
       "    <tr>\n",
       "      <th>1932835</th>\n",
       "      <td>2014-12-27 12:00:00</td>\n",
       "      <td>-30.00</td>\n",
       "      <td>-28.75</td>\n",
       "      <td>151.875</td>\n",
       "      <td>153.75</td>\n",
       "      <td>2.951144e-02</td>\n",
       "    </tr>\n",
       "    <tr>\n",
       "      <th>1932836</th>\n",
       "      <td>2014-12-28 12:00:00</td>\n",
       "      <td>-30.00</td>\n",
       "      <td>-28.75</td>\n",
       "      <td>151.875</td>\n",
       "      <td>153.75</td>\n",
       "      <td>2.257118e-01</td>\n",
       "    </tr>\n",
       "    <tr>\n",
       "      <th>1932837</th>\n",
       "      <td>2014-12-29 12:00:00</td>\n",
       "      <td>-30.00</td>\n",
       "      <td>-28.75</td>\n",
       "      <td>151.875</td>\n",
       "      <td>153.75</td>\n",
       "      <td>1.204670e-01</td>\n",
       "    </tr>\n",
       "    <tr>\n",
       "      <th>1932838</th>\n",
       "      <td>2014-12-30 12:00:00</td>\n",
       "      <td>-30.00</td>\n",
       "      <td>-28.75</td>\n",
       "      <td>151.875</td>\n",
       "      <td>153.75</td>\n",
       "      <td>2.632404e-02</td>\n",
       "    </tr>\n",
       "    <tr>\n",
       "      <th>1932839</th>\n",
       "      <td>2014-12-31 12:00:00</td>\n",
       "      <td>-30.00</td>\n",
       "      <td>-28.75</td>\n",
       "      <td>151.875</td>\n",
       "      <td>153.75</td>\n",
       "      <td>3.431610e-02</td>\n",
       "    </tr>\n",
       "  </tbody>\n",
       "</table>\n",
       "<p>1932840 rows × 6 columns</p>\n",
       "</div>"
      ],
      "text/plain": [
       "                        time  lat_min  lat_max  lon_min  lon_max  \\\n",
       "0        1889-01-01 12:00:00   -36.25   -35.00  140.625   142.50   \n",
       "1        1889-01-02 12:00:00   -36.25   -35.00  140.625   142.50   \n",
       "2        1889-01-03 12:00:00   -36.25   -35.00  140.625   142.50   \n",
       "3        1889-01-04 12:00:00   -36.25   -35.00  140.625   142.50   \n",
       "4        1889-01-05 12:00:00   -36.25   -35.00  140.625   142.50   \n",
       "...                      ...      ...      ...      ...      ...   \n",
       "1932835  2014-12-27 12:00:00   -30.00   -28.75  151.875   153.75   \n",
       "1932836  2014-12-28 12:00:00   -30.00   -28.75  151.875   153.75   \n",
       "1932837  2014-12-29 12:00:00   -30.00   -28.75  151.875   153.75   \n",
       "1932838  2014-12-30 12:00:00   -30.00   -28.75  151.875   153.75   \n",
       "1932839  2014-12-31 12:00:00   -30.00   -28.75  151.875   153.75   \n",
       "\n",
       "         rain (mm/day)  \n",
       "0         3.293256e-13  \n",
       "1         0.000000e+00  \n",
       "2         0.000000e+00  \n",
       "3         0.000000e+00  \n",
       "4         1.047658e-02  \n",
       "...                ...  \n",
       "1932835   2.951144e-02  \n",
       "1932836   2.257118e-01  \n",
       "1932837   1.204670e-01  \n",
       "1932838   2.632404e-02  \n",
       "1932839   3.431610e-02  \n",
       "\n",
       "[1932840 rows x 6 columns]"
      ]
     },
     "execution_count": 7,
     "metadata": {},
     "output_type": "execute_result"
    }
   ],
   "source": [
    "pd.read_csv(\"figsharerainfall/ACCESS-CM2_daily_rainfall_NSW.csv\")"
   ]
  },
  {
   "cell_type": "code",
   "execution_count": 8,
   "id": "ebddf6a7-39e8-429e-a30c-26c3d175fafd",
   "metadata": {},
   "outputs": [],
   "source": [
    "%load_ext memory_profiler"
   ]
  },
  {
   "cell_type": "markdown",
   "id": "68106cb2-c027-4886-8334-30c75980da0c",
   "metadata": {},
   "source": [
    "<!--  -->"
   ]
  },
  {
   "cell_type": "markdown",
   "id": "3c7cc5ea-3224-4a83-aff1-8fd280fc5ec3",
   "metadata": {},
   "source": [
    "<!--  -->"
   ]
  },
  {
   "cell_type": "markdown",
   "id": "6f71b773-e874-4a2a-a6ed-798b9e6f2802",
   "metadata": {},
   "source": [
    "## 4. Combining data CSVs\n",
    "\n",
    "rubric={correctness:10,reasoning:10}"
   ]
  },
  {
   "cell_type": "markdown",
   "id": "e97f9248-7b49-4e7b-bd6c-b8538e9db63c",
   "metadata": {},
   "source": [
    "<div class=\"alert alert-block alert-info\">\n",
    "\n",
    "1. Combine data CSVs into a single CSV using pandas.\n",
    "\n",
    "2. When combining the CSV files, add an extra column called \"model\" that identifies the model. \n",
    "    > Tip 1: you can get this column populated from the file name, eg: for file name \"SAM0-UNICON_daily_rainfall_NSW.csv\", the model name is SAM0-UNICON \n",
    "    \n",
    "    > Tip 2: Remember how we added year when we combined airline CSVs. Tip 3: You can use regex generator.\n",
    "\n",
    "Note: There is a file called observed_daily_rainfall_SYD.csv in the data folder that you downloaded. Make sure you exclude this file (programmatically or just take out that file from folder) before you combine CSVs. We will use this file in our next milestone.\n",
    "</div>"
   ]
  },
  {
   "cell_type": "markdown",
   "id": "68e88548-6080-4b12-a785-e338a6ca6438",
   "metadata": {},
   "source": [
    "- As instructed, the code below removes the `observed_daily_rainfall_SYD.csv` file "
   ]
  },
  {
   "cell_type": "code",
   "execution_count": 9,
   "id": "f7de9611-9e8d-43ce-b423-729bc9a25be2",
   "metadata": {},
   "outputs": [],
   "source": [
    "# Removing the observed_daily_rainfall_SYD.csv file as instructed\n",
    "\n",
    "file_path = 'figsharerainfall/observed_daily_rainfall_SYD.csv'\n",
    "\n",
    "try:\n",
    "    os.remove(file_path)\n",
    "except OSError as e:\n",
    "    print(\"Error: %s : %s\" % (file_path, e.strerror))"
   ]
  },
  {
   "cell_type": "markdown",
   "id": "93750fce-da8c-47f2-a235-1a6686920067",
   "metadata": {},
   "source": [
    "- Note that a new column, `model` that identify the respective files is created below"
   ]
  },
  {
   "cell_type": "code",
   "execution_count": 10,
   "id": "a870805a-5b01-45a5-abb1-ce97986e8d21",
   "metadata": {},
   "outputs": [
    {
     "name": "stdout",
     "output_type": "stream",
     "text": [
      "peak memory: 7039.04 MiB, increment: 6765.08 MiB\n",
      "CPU times: total: 6min 36s\n",
      "Wall time: 6min 43s\n"
     ]
    }
   ],
   "source": [
    "%%time\n",
    "%%memit\n",
    "\n",
    "files = glob.glob('figsharerainfall/*.csv')\n",
    "df = pd.concat(\n",
    "    (pd.read_csv(file, index_col=0)\n",
    "                .assign(model=re.findall(r'(?<=fall\\\\)(.+)?(?=_daily)', file)[0])\n",
    "                for file in files)\n",
    "              )\n",
    "df.to_csv(\"figsharerainfall/combined_data.csv\")"
   ]
  },
  {
   "cell_type": "code",
   "execution_count": 11,
   "id": "f8bbd5b9-0d64-4095-b24c-dc1360a5cf3c",
   "metadata": {},
   "outputs": [
    {
     "name": "stdout",
     "output_type": "stream",
     "text": [
      "(62467843, 6)\n"
     ]
    },
    {
     "data": {
      "text/html": [
       "<div>\n",
       "<style scoped>\n",
       "    .dataframe tbody tr th:only-of-type {\n",
       "        vertical-align: middle;\n",
       "    }\n",
       "\n",
       "    .dataframe tbody tr th {\n",
       "        vertical-align: top;\n",
       "    }\n",
       "\n",
       "    .dataframe thead th {\n",
       "        text-align: right;\n",
       "    }\n",
       "</style>\n",
       "<table border=\"1\" class=\"dataframe\">\n",
       "  <thead>\n",
       "    <tr style=\"text-align: right;\">\n",
       "      <th></th>\n",
       "      <th>lat_min</th>\n",
       "      <th>lat_max</th>\n",
       "      <th>lon_min</th>\n",
       "      <th>lon_max</th>\n",
       "      <th>rain (mm/day)</th>\n",
       "      <th>model</th>\n",
       "    </tr>\n",
       "    <tr>\n",
       "      <th>time</th>\n",
       "      <th></th>\n",
       "      <th></th>\n",
       "      <th></th>\n",
       "      <th></th>\n",
       "      <th></th>\n",
       "      <th></th>\n",
       "    </tr>\n",
       "  </thead>\n",
       "  <tbody>\n",
       "    <tr>\n",
       "      <th>1889-01-01 12:00:00</th>\n",
       "      <td>-36.25</td>\n",
       "      <td>-35.0</td>\n",
       "      <td>140.625</td>\n",
       "      <td>142.5</td>\n",
       "      <td>3.293256e-13</td>\n",
       "      <td>ACCESS-CM2</td>\n",
       "    </tr>\n",
       "    <tr>\n",
       "      <th>1889-01-02 12:00:00</th>\n",
       "      <td>-36.25</td>\n",
       "      <td>-35.0</td>\n",
       "      <td>140.625</td>\n",
       "      <td>142.5</td>\n",
       "      <td>0.000000e+00</td>\n",
       "      <td>ACCESS-CM2</td>\n",
       "    </tr>\n",
       "    <tr>\n",
       "      <th>1889-01-03 12:00:00</th>\n",
       "      <td>-36.25</td>\n",
       "      <td>-35.0</td>\n",
       "      <td>140.625</td>\n",
       "      <td>142.5</td>\n",
       "      <td>0.000000e+00</td>\n",
       "      <td>ACCESS-CM2</td>\n",
       "    </tr>\n",
       "    <tr>\n",
       "      <th>1889-01-04 12:00:00</th>\n",
       "      <td>-36.25</td>\n",
       "      <td>-35.0</td>\n",
       "      <td>140.625</td>\n",
       "      <td>142.5</td>\n",
       "      <td>0.000000e+00</td>\n",
       "      <td>ACCESS-CM2</td>\n",
       "    </tr>\n",
       "    <tr>\n",
       "      <th>1889-01-05 12:00:00</th>\n",
       "      <td>-36.25</td>\n",
       "      <td>-35.0</td>\n",
       "      <td>140.625</td>\n",
       "      <td>142.5</td>\n",
       "      <td>1.047658e-02</td>\n",
       "      <td>ACCESS-CM2</td>\n",
       "    </tr>\n",
       "  </tbody>\n",
       "</table>\n",
       "</div>"
      ],
      "text/plain": [
       "                     lat_min  lat_max  lon_min  lon_max  rain (mm/day)  \\\n",
       "time                                                                     \n",
       "1889-01-01 12:00:00   -36.25    -35.0  140.625    142.5   3.293256e-13   \n",
       "1889-01-02 12:00:00   -36.25    -35.0  140.625    142.5   0.000000e+00   \n",
       "1889-01-03 12:00:00   -36.25    -35.0  140.625    142.5   0.000000e+00   \n",
       "1889-01-04 12:00:00   -36.25    -35.0  140.625    142.5   0.000000e+00   \n",
       "1889-01-05 12:00:00   -36.25    -35.0  140.625    142.5   1.047658e-02   \n",
       "\n",
       "                          model  \n",
       "time                             \n",
       "1889-01-01 12:00:00  ACCESS-CM2  \n",
       "1889-01-02 12:00:00  ACCESS-CM2  \n",
       "1889-01-03 12:00:00  ACCESS-CM2  \n",
       "1889-01-04 12:00:00  ACCESS-CM2  \n",
       "1889-01-05 12:00:00  ACCESS-CM2  "
      ]
     },
     "execution_count": 11,
     "metadata": {},
     "output_type": "execute_result"
    }
   ],
   "source": [
    "print(df.shape)\n",
    "\n",
    "df.head()"
   ]
  },
  {
   "cell_type": "markdown",
   "id": "253779c8-3bb8-4700-98ba-86586e2168a0",
   "metadata": {},
   "source": [
    "The above code takes a very long to run. We will be trying in-memory methods below:\n",
    " - Float convert \n",
    " - Chunks\n",
    " - Dask"
   ]
  },
  {
   "cell_type": "markdown",
   "id": "6835e410-387b-4582-bf8b-29340827f295",
   "metadata": {},
   "source": [
    "<!--  -->"
   ]
  },
  {
   "cell_type": "markdown",
   "id": "607b6af6-7cae-4ee9-81cc-4235ff0f92ca",
   "metadata": {},
   "source": [
    "<!--  -->"
   ]
  },
  {
   "cell_type": "markdown",
   "id": "a9a9c957-b825-4814-bad9-1104eda2946a",
   "metadata": {
    "tags": []
   },
   "source": [
    "## 5. Load the combined CSV to memory and perform a simple EDA\n",
    "\n",
    "rubric={correctness:10,reasoning:10}"
   ]
  },
  {
   "cell_type": "markdown",
   "id": "32877ec8-8b93-4952-888f-d2204b367113",
   "metadata": {},
   "source": [
    "<div class=\"alert alert-block alert-info\">\n",
    "\n",
    "Investigate at least two of the following approaches to reduce memory usage while performing the EDA (e.g., value_counts).\n",
    "- Changing dtype of your data\n",
    "- Load just columns what we want\n",
    "- Loading in chunks\n",
    "- Dask\n",
    "\n",
    "Compare run times on different machines within your team and summarize your observations.\n",
    "</div>"
   ]
  },
  {
   "cell_type": "markdown",
   "id": "dd558600-f28c-4bd6-aab5-5fd8a6c896a6",
   "metadata": {},
   "source": [
    "- Note here that our EDA of choice is simply returning the count of each unique model using `value_counts`"
   ]
  },
  {
   "cell_type": "markdown",
   "id": "8e4ecdbe-e868-44c1-93f1-b1522df36dfa",
   "metadata": {},
   "source": [
    "<!--  -->"
   ]
  },
  {
   "cell_type": "markdown",
   "id": "42319f69-8226-4d27-8ae5-9f2790e3c13a",
   "metadata": {},
   "source": [
    "### Method 1: Changing dtype (from float64 to float32)"
   ]
  },
  {
   "cell_type": "code",
   "execution_count": 12,
   "id": "d2c80666-500e-4701-b8ad-4d0d6047c0a5",
   "metadata": {},
   "outputs": [
    {
     "name": "stdout",
     "output_type": "stream",
     "text": [
      "<class 'pandas.core.frame.DataFrame'>\n",
      "Index: 62467843 entries, 1889-01-01 12:00:00 to 2014-12-31 12:00:00\n",
      "Data columns (total 6 columns):\n",
      " #   Column         Dtype  \n",
      "---  ------         -----  \n",
      " 0   lat_min        float64\n",
      " 1   lat_max        float64\n",
      " 2   lon_min        float64\n",
      " 3   lon_max        float64\n",
      " 4   rain (mm/day)  float64\n",
      " 5   model          object \n",
      "dtypes: float64(5), object(1)\n",
      "memory usage: 3.3+ GB\n"
     ]
    }
   ],
   "source": [
    "df.info()"
   ]
  },
  {
   "cell_type": "markdown",
   "id": "48465944-25b7-46dc-8f55-de6457db5dc2",
   "metadata": {},
   "source": [
    "#### float64"
   ]
  },
  {
   "cell_type": "code",
   "execution_count": 13,
   "id": "98a2519f-5fb6-4069-b907-01eee144d50e",
   "metadata": {},
   "outputs": [
    {
     "name": "stdout",
     "output_type": "stream",
     "text": [
      "MPI-ESM1-2-HR       5154240\n",
      "TaiESM1             3541230\n",
      "NorESM2-MM          3541230\n",
      "CMCC-CM2-HR4        3541230\n",
      "CMCC-CM2-SR5        3541230\n",
      "CMCC-ESM2           3541230\n",
      "SAM0-UNICON         3541153\n",
      "FGOALS-f3-L         3219300\n",
      "GFDL-CM4            3219300\n",
      "GFDL-ESM4           3219300\n",
      "EC-Earth3-Veg-LR    3037320\n",
      "MRI-ESM2-0          3037320\n",
      "BCC-CSM2-MR         3035340\n",
      "MIROC6              2070900\n",
      "ACCESS-CM2          1932840\n",
      "ACCESS-ESM1-5       1610700\n",
      "INM-CM5-0           1609650\n",
      "INM-CM4-8           1609650\n",
      "KIOST-ESM           1287720\n",
      "FGOALS-g3           1287720\n",
      "MPI-ESM1-2-LR        966420\n",
      "NESM3                966420\n",
      "AWI-ESM-1-1-LR       966420\n",
      "MPI-ESM-1-2-HAM      966420\n",
      "NorESM2-LM           919800\n",
      "BCC-ESM1             551880\n",
      "CanESM5              551880\n",
      "Name: model, dtype: int64\n",
      "peak memory: 9930.57 MiB, increment: 6218.98 MiB\n",
      "CPU times: total: 1min 10s\n",
      "Wall time: 1min 11s\n"
     ]
    }
   ],
   "source": [
    "%%time\n",
    "%%memit\n",
    "\n",
    "# Default float64 dtypes\n",
    "df = pd.read_csv(\"figsharerainfall/combined_data.csv\", index_col=0)\n",
    "print(df[\"model\"].value_counts())"
   ]
  },
  {
   "cell_type": "markdown",
   "id": "ecf82944-93f5-4f9e-af2b-f55447495810",
   "metadata": {},
   "source": [
    "#### float32"
   ]
  },
  {
   "cell_type": "markdown",
   "id": "02e42d66-b0b1-424e-b8c7-30cd8c0130b7",
   "metadata": {},
   "source": [
    "- Here, we are changing the data types of all `float64` datatype to `float32` datatype. This is so we can see if we have improved speed as a result"
   ]
  },
  {
   "cell_type": "code",
   "execution_count": 14,
   "id": "cbf13e47-6635-4306-abc2-4699d97a2e72",
   "metadata": {},
   "outputs": [
    {
     "name": "stdout",
     "output_type": "stream",
     "text": [
      "MPI-ESM1-2-HR       5154240\n",
      "TaiESM1             3541230\n",
      "NorESM2-MM          3541230\n",
      "CMCC-CM2-HR4        3541230\n",
      "CMCC-CM2-SR5        3541230\n",
      "CMCC-ESM2           3541230\n",
      "SAM0-UNICON         3541153\n",
      "FGOALS-f3-L         3219300\n",
      "GFDL-CM4            3219300\n",
      "GFDL-ESM4           3219300\n",
      "EC-Earth3-Veg-LR    3037320\n",
      "MRI-ESM2-0          3037320\n",
      "BCC-CSM2-MR         3035340\n",
      "MIROC6              2070900\n",
      "ACCESS-CM2          1932840\n",
      "ACCESS-ESM1-5       1610700\n",
      "INM-CM5-0           1609650\n",
      "INM-CM4-8           1609650\n",
      "KIOST-ESM           1287720\n",
      "FGOALS-g3           1287720\n",
      "MPI-ESM1-2-LR        966420\n",
      "NESM3                966420\n",
      "AWI-ESM-1-1-LR       966420\n",
      "MPI-ESM-1-2-HAM      966420\n",
      "NorESM2-LM           919800\n",
      "BCC-ESM1             551880\n",
      "CanESM5              551880\n",
      "Name: model, dtype: int64\n",
      "peak memory: 13285.80 MiB, increment: 6217.06 MiB\n",
      "CPU times: total: 1min 20s\n",
      "Wall time: 1min 23s\n"
     ]
    }
   ],
   "source": [
    "%%time\n",
    "%%memit\n",
    "\n",
    "# Changing dtype from float64 to float32\n",
    "df_32 = pd.read_csv(\"figsharerainfall/combined_data.csv\", index_col=0).loc[:, df.columns != \"model\"].astype('float32')\n",
    "df_32[\"model\"] = df[\"model\"]\n",
    "print(df_32[\"model\"].value_counts())"
   ]
  },
  {
   "cell_type": "code",
   "execution_count": 15,
   "id": "277eb043-22b2-42a4-a16b-9b61288a3af7",
   "metadata": {},
   "outputs": [
    {
     "name": "stdout",
     "output_type": "stream",
     "text": [
      "<class 'pandas.core.frame.DataFrame'>\n",
      "Index: 62467843 entries, 1889-01-01 12:00:00 to 2014-12-31 12:00:00\n",
      "Data columns (total 6 columns):\n",
      " #   Column         Dtype  \n",
      "---  ------         -----  \n",
      " 0   lat_min        float32\n",
      " 1   lat_max        float32\n",
      " 2   lon_min        float32\n",
      " 3   lon_max        float32\n",
      " 4   rain (mm/day)  float32\n",
      " 5   model          object \n",
      "dtypes: float32(5), object(1)\n",
      "memory usage: 2.1+ GB\n"
     ]
    }
   ],
   "source": [
    "df_32.info() # Double check data type"
   ]
  },
  {
   "cell_type": "markdown",
   "id": "867b1066-191c-41bb-90f1-660a9423707f",
   "metadata": {},
   "source": [
    "- As can be seen above, there is a slight decrease in run time with `float32`."
   ]
  },
  {
   "cell_type": "markdown",
   "id": "023807e2-2939-4e21-ae5b-95f0c89406f9",
   "metadata": {},
   "source": [
    "<!--  -->"
   ]
  },
  {
   "cell_type": "markdown",
   "id": "6adcf64b-285b-45f8-b040-b847b511513a",
   "metadata": {},
   "source": [
    "### Method 2: Loading in Chunks"
   ]
  },
  {
   "cell_type": "code",
   "execution_count": 16,
   "id": "68094390-c452-42a6-a036-d9f4f42f6d84",
   "metadata": {},
   "outputs": [
    {
     "name": "stdout",
     "output_type": "stream",
     "text": [
      "ACCESS-CM2          1932840\n",
      "ACCESS-ESM1-5       1610700\n",
      "AWI-ESM-1-1-LR       966420\n",
      "BCC-CSM2-MR         3035340\n",
      "BCC-ESM1             551880\n",
      "CMCC-CM2-HR4        3541230\n",
      "CMCC-CM2-SR5        3541230\n",
      "CMCC-ESM2           3541230\n",
      "CanESM5              551880\n",
      "EC-Earth3-Veg-LR    3037320\n",
      "FGOALS-f3-L         3219300\n",
      "FGOALS-g3           1287720\n",
      "GFDL-CM4            3219300\n",
      "GFDL-ESM4           3219300\n",
      "INM-CM4-8           1609650\n",
      "INM-CM5-0           1609650\n",
      "KIOST-ESM           1287720\n",
      "MIROC6              2070900\n",
      "MPI-ESM-1-2-HAM      966420\n",
      "MPI-ESM1-2-HR       5154240\n",
      "MPI-ESM1-2-LR        966420\n",
      "MRI-ESM2-0          3037320\n",
      "NESM3                966420\n",
      "NorESM2-LM           919800\n",
      "NorESM2-MM          3541230\n",
      "SAM0-UNICON         3541153\n",
      "TaiESM1             3541230\n",
      "dtype: int32\n",
      "peak memory: 11083.07 MiB, increment: 1862.54 MiB\n",
      "CPU times: total: 1min 45s\n",
      "Wall time: 1min 47s\n"
     ]
    }
   ],
   "source": [
    "%%time\n",
    "%%memit\n",
    "\n",
    "counts = pd.Series(dtype=int)\n",
    "for chunk in pd.read_csv(\"figsharerainfall/combined_data.csv\", chunksize=10_000_000, index_col=0, parse_dates=True):\n",
    "    counts = counts.add(chunk[\"model\"].value_counts(), fill_value=0)\n",
    "print(counts.astype(int))"
   ]
  },
  {
   "cell_type": "markdown",
   "id": "159b6c9a-254c-423d-a84b-ce315b590790",
   "metadata": {},
   "source": [
    "- Loading the data in chunks has resulted in even less run time and memory for most of the team with the exception of people with high RAM."
   ]
  },
  {
   "cell_type": "markdown",
   "id": "a52fc493-157b-4321-9b25-56d86b8c6fde",
   "metadata": {},
   "source": [
    "<!--  -->"
   ]
  },
  {
   "cell_type": "markdown",
   "id": "589147a6-c2e2-4ed2-8308-b82b2aaaf8db",
   "metadata": {},
   "source": [
    "### Method 3: Dask"
   ]
  },
  {
   "cell_type": "code",
   "execution_count": 17,
   "id": "6dfecfaf-63a2-4c4c-83fc-d4a7f9ec5d21",
   "metadata": {},
   "outputs": [
    {
     "name": "stdout",
     "output_type": "stream",
     "text": [
      "peak memory: 9362.81 MiB, increment: 7.25 MiB\n",
      "CPU times: total: 109 ms\n",
      "Wall time: 3.44 s\n"
     ]
    }
   ],
   "source": [
    "%%time\n",
    "%%memit\n",
    "\n",
    "dash_df = dd.read_csv(\"figsharerainfall/combined_data.csv\", parse_dates=[\"time\"])"
   ]
  },
  {
   "cell_type": "code",
   "execution_count": 18,
   "id": "44e08860-8b6a-49dd-93bb-f85d04813140",
   "metadata": {},
   "outputs": [
    {
     "name": "stdout",
     "output_type": "stream",
     "text": [
      "MPI-ESM1-2-HR       5154240\n",
      "TaiESM1             3541230\n",
      "NorESM2-MM          3541230\n",
      "CMCC-CM2-HR4        3541230\n",
      "CMCC-CM2-SR5        3541230\n",
      "CMCC-ESM2           3541230\n",
      "SAM0-UNICON         3541153\n",
      "FGOALS-f3-L         3219300\n",
      "GFDL-CM4            3219300\n",
      "GFDL-ESM4           3219300\n",
      "EC-Earth3-Veg-LR    3037320\n",
      "MRI-ESM2-0          3037320\n",
      "BCC-CSM2-MR         3035340\n",
      "MIROC6              2070900\n",
      "ACCESS-CM2          1932840\n",
      "ACCESS-ESM1-5       1610700\n",
      "INM-CM5-0           1609650\n",
      "INM-CM4-8           1609650\n",
      "KIOST-ESM           1287720\n",
      "FGOALS-g3           1287720\n",
      "MPI-ESM1-2-LR        966420\n",
      "NESM3                966420\n",
      "AWI-ESM-1-1-LR       966420\n",
      "MPI-ESM-1-2-HAM      966420\n",
      "NorESM2-LM           919800\n",
      "BCC-ESM1             551880\n",
      "CanESM5              551880\n",
      "Name: model, dtype: int64\n",
      "peak memory: 10938.25 MiB, increment: 1582.95 MiB\n",
      "CPU times: total: 2min 5s\n",
      "Wall time: 1min 13s\n"
     ]
    }
   ],
   "source": [
    "%%time\n",
    "%%memit\n",
    "\n",
    "print(dash_df[\"model\"].value_counts().compute())"
   ]
  },
  {
   "cell_type": "markdown",
   "id": "1f4ab459-ec9b-48d2-9764-18ee32515d2e",
   "metadata": {},
   "source": [
    "- `Dask` has proven to be the fastest in-memory method for M1, beating both `chunking` and `changing dtype` methods. But for the rest of the team it was the slowest."
   ]
  },
  {
   "cell_type": "markdown",
   "id": "d148ad0f-c88a-4ea5-9477-0d195b29cda4",
   "metadata": {},
   "source": [
    "<!--  -->"
   ]
  },
  {
   "cell_type": "markdown",
   "id": "d9a78c04-7549-4140-a7ea-76a6c9e6b764",
   "metadata": {},
   "source": [
    "<!--  -->"
   ]
  },
  {
   "cell_type": "markdown",
   "id": "f3198575-72ce-4578-b5c9-6ec65d964839",
   "metadata": {},
   "source": [
    "## Comparing Observations"
   ]
  },
  {
   "cell_type": "markdown",
   "id": "2b65c3a3-86ba-43c2-aaef-00f3a69d1280",
   "metadata": {},
   "source": [
    "- The table below summarizes machine specifications and speed observations of members of group 19"
   ]
  },
  {
   "cell_type": "markdown",
   "id": "bef1c8aa-0062-44f7-b7ad-8465c182b5fa",
   "metadata": {},
   "source": [
    "| Team Member    | Operating System | RAM   | Processor                       | Is SSD | Time taken (Combining data) | Time taken (float64) | Time taken (float32) | Time taken (Chunks) | Time taken (Dask) |\n",
    "|----------------|------------------|-------|---------------------------------|--------|-----------------------------|----------------------|----------------------|---------------------|-------------------|\n",
    "| Victor Francis | MacOS Monterey   | 16 GB | Apple M1 Pro                    | Yes    | 6min 53s                    | 1min 3s              | 57.9 s               | 52.6 s              | 823 ms            |\n",
    "| John Lee       | Windows 10 Pro   | 16 GB | Intel(R) Core(TM) i7            | Yes    | 9min 2s                     | 1min 51s             | 1min 46s             | 1min 37s            | 2min 10s          |\n",
    "| Wanying Ye     | MacOS Monterey   | 8 GB  | 2.9 GHz Dual-Core Intel Core i5 | Yes    | 20min 26s                   | 4min 40s             | 3min 45s             | 2min 49s            | 2min 5s           |\n",
    "| Katia Aristova |Windows 10 Pro|32 GB|11th Gen Intel(R) Core(TM) i7-1165G7|Yes|5min 45s|1min 5s|1min 2s|1min 34s|1min 56s|"
   ]
  },
  {
   "cell_type": "markdown",
   "id": "52dc7ebc-8ee2-4138-bd8c-f2e3507e0b8a",
   "metadata": {},
   "source": [
    "<!--  -->"
   ]
  },
  {
   "cell_type": "markdown",
   "id": "513e363b-fd80-4135-a1f9-fdcec2b505e1",
   "metadata": {},
   "source": [
    "<!--  -->"
   ]
  },
  {
   "cell_type": "markdown",
   "id": "56cae4c4-9e54-4c31-8a17-65157123d207",
   "metadata": {},
   "source": [
    "<!--  -->"
   ]
  },
  {
   "cell_type": "markdown",
   "id": "ee89bf67-e14e-450c-8979-6175dbc0c55b",
   "metadata": {},
   "source": [
    "## 6. Perform a simple EDA in R\n",
    "rubric={correctness:15,reasoning:10}\n"
   ]
  },
  {
   "cell_type": "markdown",
   "id": "77c09d0d-81fa-40af-92c6-e35bd35254b4",
   "metadata": {},
   "source": [
    "<div class=\"alert alert-block alert-info\">\n",
    "\n",
    "Pick an approach to transfer the dataframe from python to R.\n",
    " \n",
    "- Parquet file\n",
    "- Feather file (explored in the Appendix)\n",
    "- Pandas exchange\n",
    "- Arrow exchange (we picked this option)\n",
    "\n",
    "Discuss why you chose this approach over others.\n",
    "\n",
    "</div>"
   ]
  },
  {
   "cell_type": "markdown",
   "id": "005361c2-3a88-4c02-86bb-fc243eab3359",
   "metadata": {},
   "source": [
    "<!--  -->"
   ]
  },
  {
   "cell_type": "code",
   "execution_count": 19,
   "id": "c44c7ac0-3870-4069-9159-cd2b3e64cd78",
   "metadata": {},
   "outputs": [
    {
     "name": "stderr",
     "output_type": "stream",
     "text": [
      "C:\\Users\\kater\\miniconda3\\envs\\525_2022\\lib\\site-packages\\rpy2\\robjects\\packages.py:366: UserWarning: The symbol 'quartz' is not in this R namespace/package.\n",
      "  warnings.warn(\n"
     ]
    }
   ],
   "source": [
    "%load_ext rpy2.ipython"
   ]
  },
  {
   "cell_type": "code",
   "execution_count": 20,
   "id": "12881e16-7599-4d2e-9de1-67e60a01ff7a",
   "metadata": {},
   "outputs": [],
   "source": [
    "import pyarrow.dataset as ds\n",
    "import pyarrow as pa\n",
    "import pandas as pd\n",
    "import pyarrow \n",
    "from pyarrow import csv\n",
    "import rpy2_arrow.pyarrow_rarrow as pyra"
   ]
  },
  {
   "cell_type": "markdown",
   "id": "d4e8d4bd-61a8-4888-b143-5c16d1a02112",
   "metadata": {},
   "source": [
    "### Chosen Method: Using Apache Arrow"
   ]
  },
  {
   "cell_type": "code",
   "execution_count": 21,
   "id": "7d1ea438-85d9-4c25-8a6d-0c45a87e886f",
   "metadata": {},
   "outputs": [
    {
     "name": "stdout",
     "output_type": "stream",
     "text": [
      "peak memory: 13559.82 MiB, increment: 4032.96 MiB\n",
      "CPU times: total: 1min 18s\n",
      "Wall time: 1min 17s\n"
     ]
    }
   ],
   "source": [
    "%%time\n",
    "%%memit\n",
    "dataset = ds.dataset(\"figsharerainfall/combined_data.csv\", format=\"csv\")\n",
    "table = dataset.to_table()\n",
    "r_table = pyra.converter.py2rpy(table)"
   ]
  },
  {
   "cell_type": "code",
   "execution_count": 22,
   "id": "3adfb155-05e2-4004-91e9-7bbda95c2845",
   "metadata": {},
   "outputs": [
    {
     "name": "stdout",
     "output_type": "stream",
     "text": [
      "\u001b[38;5;246m# A tibble: 27 x 2\u001b[39m\n",
      "   model                  n\n",
      "   \u001b[3m\u001b[38;5;246m<chr>\u001b[39m\u001b[23m              \u001b[3m\u001b[38;5;246m<int>\u001b[39m\u001b[23m\n",
      "\u001b[38;5;250m 1\u001b[39m ACCESS-CM2       1\u001b[4m9\u001b[24m\u001b[4m3\u001b[24m\u001b[4m2\u001b[24m840\n",
      "\u001b[38;5;250m 2\u001b[39m ACCESS-ESM1-5    1\u001b[4m6\u001b[24m\u001b[4m1\u001b[24m\u001b[4m0\u001b[24m700\n",
      "\u001b[38;5;250m 3\u001b[39m AWI-ESM-1-1-LR    \u001b[4m9\u001b[24m\u001b[4m6\u001b[24m\u001b[4m6\u001b[24m420\n",
      "\u001b[38;5;250m 4\u001b[39m BCC-CSM2-MR      3\u001b[4m0\u001b[24m\u001b[4m3\u001b[24m\u001b[4m5\u001b[24m340\n",
      "\u001b[38;5;250m 5\u001b[39m BCC-ESM1          \u001b[4m5\u001b[24m\u001b[4m5\u001b[24m\u001b[4m1\u001b[24m880\n",
      "\u001b[38;5;250m 6\u001b[39m CanESM5           \u001b[4m5\u001b[24m\u001b[4m5\u001b[24m\u001b[4m1\u001b[24m880\n",
      "\u001b[38;5;250m 7\u001b[39m CMCC-CM2-HR4     3\u001b[4m5\u001b[24m\u001b[4m4\u001b[24m\u001b[4m1\u001b[24m230\n",
      "\u001b[38;5;250m 8\u001b[39m CMCC-CM2-SR5     3\u001b[4m5\u001b[24m\u001b[4m4\u001b[24m\u001b[4m1\u001b[24m230\n",
      "\u001b[38;5;250m 9\u001b[39m CMCC-ESM2        3\u001b[4m5\u001b[24m\u001b[4m4\u001b[24m\u001b[4m1\u001b[24m230\n",
      "\u001b[38;5;250m10\u001b[39m EC-Earth3-Veg-LR 3\u001b[4m0\u001b[24m\u001b[4m3\u001b[24m\u001b[4m7\u001b[24m320\n",
      "\u001b[38;5;246m# ... with 17 more rows\u001b[39m\n",
      "Time difference of 0.440733 secs\n",
      "CPU times: total: 2.56 s\n",
      "Wall time: 2.61 s\n"
     ]
    }
   ],
   "source": [
    "%%time\n",
    "%%R -i r_table\n",
    "\n",
    "start_time <- Sys.time()\n",
    "suppressMessages(library(dplyr))\n",
    "result <- r_table %>% count(model)\n",
    "end_time <- Sys.time()\n",
    "print(result %>% collect())\n",
    "print(end_time - start_time)"
   ]
  },
  {
   "cell_type": "markdown",
   "id": "af365997-758e-48fa-84e3-8dbbd53ceb9e",
   "metadata": {},
   "source": [
    "### Discuss why you chose this approach over others"
   ]
  },
  {
   "cell_type": "markdown",
   "id": "0574cff2-116c-470b-9f3d-f330f23e37a9",
   "metadata": {},
   "source": [
    "`Apache Arrow` was chosen because of its superior memory storage capability. It utilizes in-memory data methodology, hence leading to improved speed and computational efficiency. A known fact is that regular serialization/deserialization (`Pandas Exchange`) technique requires a significant amount of time and memory. Apache Arrow solves this problem. As for the computing time, `Arrow` takes 1m 7s to convert and then 1.58 s to calculate, this makes it faster than EDA processes in pandas.\n",
    "\n",
    "Also, `Feather` would have been a worthy alternative, but it's still in developmental stage and as such, has some shortcomings. The benefits of feather is its optimization for working with both pandas and R dataframes, as well as the fact that it is language-agnostic. The downside is that Feather is not suitable for long-term storage. Feather takes about 1.5 minutes to convert from pandas to feather format. However, once done, it is very fast and can work with a variety of languages (~3.2 seconds EDA). In a scenario where the dataset would not be stored long term, it is the most elegant solution (see Appendix below for a `Feather` demonstration).\n",
    "\n",
    "`Parquet` format for the most part is used for archival storage purposes, which is not our intent here. Therefore, Parquet format isn't the best solution in this case.\n",
    "\n",
    "Conclusively, computational efficiency, in-memory data capability, ephemeral storage suitability are why we have gone with the choice of Apache Arrow."
   ]
  },
  {
   "cell_type": "markdown",
   "id": "c276a1d0-dba2-41de-9aef-9b5f481793c4",
   "metadata": {},
   "source": [
    "## Appendix"
   ]
  },
  {
   "cell_type": "markdown",
   "id": "7b424374-2c49-4a68-9214-45d3a1e953f6",
   "metadata": {},
   "source": [
    "### Feather method"
   ]
  },
  {
   "cell_type": "code",
   "execution_count": 4,
   "id": "1b3fb7ef-87b3-4c35-b64c-6674f4fa48d8",
   "metadata": {},
   "outputs": [
    {
     "name": "stdout",
     "output_type": "stream",
     "text": [
      "CPU times: total: 1min 20s\n",
      "Wall time: 1min 12s\n"
     ]
    }
   ],
   "source": [
    "%%time\n",
    "df_2 = pd.read_csv(\"figsharerainfall/combined_data.csv\")\n",
    "df_2.to_feather(\"figsharerainfall/combined_data_f.feather\")\n",
    "dfeather = pd.read_feather(\"figsharerainfall/combined_data_f.feather\")"
   ]
  },
  {
   "cell_type": "code",
   "execution_count": 1,
   "id": "5b3b7054-100a-4882-8231-4c0cd5b4155a",
   "metadata": {},
   "outputs": [
    {
     "name": "stderr",
     "output_type": "stream",
     "text": [
      "C:\\Users\\kater\\miniconda3\\envs\\525_2022\\lib\\site-packages\\rpy2\\robjects\\packages.py:366: UserWarning: The symbol 'quartz' is not in this R namespace/package.\n",
      "  warnings.warn(\n"
     ]
    }
   ],
   "source": [
    "%load_ext rpy2.ipython"
   ]
  },
  {
   "cell_type": "code",
   "execution_count": 2,
   "id": "aec2542f-02ce-42fb-a598-ae9672f24a5a",
   "metadata": {},
   "outputs": [
    {
     "name": "stdout",
     "output_type": "stream",
     "text": [
      "\u001b[38;5;246m# A tibble: 27 x 2\u001b[39m\n",
      "   model                  n\n",
      "   \u001b[3m\u001b[38;5;246m<chr>\u001b[39m\u001b[23m              \u001b[3m\u001b[38;5;246m<int>\u001b[39m\u001b[23m\n",
      "\u001b[38;5;250m 1\u001b[39m ACCESS-CM2       1\u001b[4m9\u001b[24m\u001b[4m3\u001b[24m\u001b[4m2\u001b[24m840\n",
      "\u001b[38;5;250m 2\u001b[39m ACCESS-ESM1-5    1\u001b[4m6\u001b[24m\u001b[4m1\u001b[24m\u001b[4m0\u001b[24m700\n",
      "\u001b[38;5;250m 3\u001b[39m AWI-ESM-1-1-LR    \u001b[4m9\u001b[24m\u001b[4m6\u001b[24m\u001b[4m6\u001b[24m420\n",
      "\u001b[38;5;250m 4\u001b[39m BCC-CSM2-MR      3\u001b[4m0\u001b[24m\u001b[4m3\u001b[24m\u001b[4m5\u001b[24m340\n",
      "\u001b[38;5;250m 5\u001b[39m BCC-ESM1          \u001b[4m5\u001b[24m\u001b[4m5\u001b[24m\u001b[4m1\u001b[24m880\n",
      "\u001b[38;5;250m 6\u001b[39m CanESM5           \u001b[4m5\u001b[24m\u001b[4m5\u001b[24m\u001b[4m1\u001b[24m880\n",
      "\u001b[38;5;250m 7\u001b[39m CMCC-CM2-HR4     3\u001b[4m5\u001b[24m\u001b[4m4\u001b[24m\u001b[4m1\u001b[24m230\n",
      "\u001b[38;5;250m 8\u001b[39m CMCC-CM2-SR5     3\u001b[4m5\u001b[24m\u001b[4m4\u001b[24m\u001b[4m1\u001b[24m230\n",
      "\u001b[38;5;250m 9\u001b[39m CMCC-ESM2        3\u001b[4m5\u001b[24m\u001b[4m4\u001b[24m\u001b[4m1\u001b[24m230\n",
      "\u001b[38;5;250m10\u001b[39m EC-Earth3-Veg-LR 3\u001b[4m0\u001b[24m\u001b[4m3\u001b[24m\u001b[4m7\u001b[24m320\n",
      "\u001b[38;5;246m# ... with 17 more rows\u001b[39m\n",
      "Time difference of 7.050824 secs\n"
     ]
    }
   ],
   "source": [
    "%%R\n",
    "\n",
    "suppressMessages(library(dplyr))\n",
    "suppressMessages(library(arrow))\n",
    "\n",
    "start_time <- Sys.time()\n",
    "feather_r <- read_feather(\"figsharerainfall/combined_data_f.feather\")\n",
    "result <- feather_r  %>% count(model)\n",
    "print(result)\n",
    "end_time <- Sys.time()\n",
    "print(end_time - start_time)"
   ]
  },
  {
   "cell_type": "code",
   "execution_count": null,
   "id": "4fb2e69b-76be-4090-be52-b68f66194284",
   "metadata": {},
   "outputs": [],
   "source": []
  }
 ],
 "metadata": {
  "kernelspec": {
   "display_name": "Python [conda env:525_2022]",
   "language": "python",
   "name": "conda-env-525_2022-py"
  },
  "language_info": {
   "codemirror_mode": {
    "name": "ipython",
    "version": 3
   },
   "file_extension": ".py",
   "mimetype": "text/x-python",
   "name": "python",
   "nbconvert_exporter": "python",
   "pygments_lexer": "ipython3",
   "version": "3.8.6"
  }
 },
 "nbformat": 4,
 "nbformat_minor": 5
}
